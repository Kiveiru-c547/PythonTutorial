{
 "cells": [
  {
   "cell_type": "markdown",
   "id": "06c3873a",
   "metadata": {},
   "source": [
    "# 三、变量类型和运算符"
   ]
  },
  {
   "cell_type": "markdown",
   "id": "df1582d1",
   "metadata": {},
   "source": [
    "## 1、变量的定义和使用"
   ]
  },
  {
   "cell_type": "markdown",
   "id": "4a859d32",
   "metadata": {},
   "source": [
    "任何编程语言都需要处理数据，比如数字、字符串、字符等，我们可以直接使用数据，也可以将数据保存到变量中，方便以后使用。\n",
    "\n",
    "变量（Variable）可以看成一个小箱子，专门用来“盛装”程序中的数据。每个变量都拥有独一无二的名字，通过变量的名字就能找到变量中的数据。\n",
    "\n",
    "从底层看，程序中的数据最终都要放到内存（内存条）中，变量其实就是这块内存的名字。\n",
    "\n",
    "和变量相对应的是常量（Constant），它们都是用来“盛装”数据的小箱子，不同的是：变量保存的数据可以被多次修改，而常量一旦保存某个数据之后就不能修改了。"
   ]
  },
  {
   "cell_type": "markdown",
   "id": "66772ebe",
   "metadata": {},
   "source": [
    "### Python 变量的赋值"
   ]
  },
  {
   "cell_type": "markdown",
   "id": "34097b7b",
   "metadata": {},
   "source": [
    "在编程语言中，将数据放入变量的过程叫做赋值（Assignment）。Python 使用等号=作为赋值运算符，具体格式为：\n",
    "name = value\n",
    "name 表示变量名；value 表示值，也就是要存储的数据。\n",
    "\n",
    "注意，变量是标识符的一种，它的名字不能随便起，要遵守 Python 标识符命名规范，还要避免和 Python 内置函数以及 Python 保留字重名。\n",
    "\n",
    "例如，下面的语句将整数 10 赋值给变量 n："
   ]
  },
  {
   "cell_type": "code",
   "execution_count": 1,
   "id": "2c46de99",
   "metadata": {},
   "outputs": [],
   "source": [
    "n = 10"
   ]
  },
  {
   "cell_type": "markdown",
   "id": "c431b2e0",
   "metadata": {},
   "source": [
    "从此以后，n 就代表整数 10，使用 n 也就是使用 10。\n",
    "\n",
    "更多赋值的例子："
   ]
  },
  {
   "cell_type": "code",
   "execution_count": 2,
   "id": "cd50681d",
   "metadata": {},
   "outputs": [],
   "source": [
    "pi = 3.1415926  #将圆周率赋值给变量 pi\n",
    "url = \"https://github.com/Kiveiru-c547/PythonTutorial\"  #将字符串赋值给变量 url\n",
    "real = True  #将布尔值赋值给变量 real"
   ]
  },
  {
   "cell_type": "markdown",
   "id": "1e747fd9",
   "metadata": {},
   "source": [
    "变量的值不是一成不变的，它可以随时被修改，只要重新赋值即可；另外也不用关心数据的类型，可以将不同类型的数据赋值给同一个变量。请看下面的演示："
   ]
  },
  {
   "cell_type": "code",
   "execution_count": 3,
   "id": "7d3db1a4",
   "metadata": {},
   "outputs": [],
   "source": [
    "n = 10  #将10赋值给变量n\n",
    "n = 95  #将95赋值给变量n\n",
    "n = 200  #将200赋值给变量n\n",
    "abc = 12.5  #将小数赋值给变量abc\n",
    "abc = 85  #将整数赋值给变量abc\n",
    "abc = \"Kiveiru\"  #将字符串赋值给变量abc"
   ]
  },
  {
   "cell_type": "markdown",
   "id": "c4156f92",
   "metadata": {},
   "source": [
    "注意，变量的值一旦被修改，之前的值就被覆盖了，不复存在了，再也找不回了。换句话说，变量只能容纳一个值。\n",
    "\n",
    "除了赋值单个数据，也可以将表达式的运行结果赋值给变量，例如："
   ]
  },
  {
   "cell_type": "code",
   "execution_count": 4,
   "id": "ca42a308",
   "metadata": {},
   "outputs": [],
   "source": [
    "Sum = 100 + 20  #将加法的结果赋值给变量\n",
    "rem = 25 * 30 % 7  #将余数赋值给变量\n",
    "Str = \"Kiv\" + \"eiru\"  #将字符串拼接的结果赋值给变量"
   ]
  },
  {
   "cell_type": "markdown",
   "id": "62c7fda9",
   "metadata": {},
   "source": [
    "### Python 变量的使用"
   ]
  },
  {
   "cell_type": "markdown",
   "id": "98c161f8",
   "metadata": {},
   "source": [
    "使用 Python 变量时，只要知道变量的名字即可。\n",
    "\n",
    "几乎在 Python 代码的任何地方都能使用变量，请看下面的演示："
   ]
  },
  {
   "cell_type": "code",
   "execution_count": 5,
   "id": "347f78f6",
   "metadata": {},
   "outputs": [
    {
     "name": "stdout",
     "output_type": "stream",
     "text": [
      "10\n"
     ]
    }
   ],
   "source": [
    "n = 10\n",
    "print(n)  #将变量传递给函数"
   ]
  },
  {
   "cell_type": "code",
   "execution_count": 6,
   "id": "f72e32ed",
   "metadata": {},
   "outputs": [
    {
     "name": "stdout",
     "output_type": "stream",
     "text": [
      "105\n"
     ]
    }
   ],
   "source": [
    "m = n * 10 + 5  #将变量作为四则运算的一部分\n",
    "print(m)"
   ]
  },
  {
   "cell_type": "code",
   "execution_count": 7,
   "id": "235f7da0",
   "metadata": {},
   "outputs": [
    {
     "name": "stdout",
     "output_type": "stream",
     "text": [
      "75\n"
     ]
    }
   ],
   "source": [
    "print(m-30)  #将由变量构成的表达式作为参数传递给函数"
   ]
  },
  {
   "cell_type": "code",
   "execution_count": 8,
   "id": "90d89ef5",
   "metadata": {},
   "outputs": [
    {
     "name": "stdout",
     "output_type": "stream",
     "text": [
      "210\n"
     ]
    }
   ],
   "source": [
    "m = m * 2  #将变量本身的值翻倍\n",
    "print(m)"
   ]
  },
  {
   "cell_type": "code",
   "execution_count": 9,
   "id": "cec3ed80",
   "metadata": {},
   "outputs": [
    {
     "name": "stdout",
     "output_type": "stream",
     "text": [
      "Python教程：https://github.com/Kiveiru-c547/PythonTutorial\n"
     ]
    }
   ],
   "source": [
    "url = \"https://github.com/Kiveiru-c547/PythonTutorial\"\n",
    "Str = \"Python教程：\" + url  #字符串拼接\n",
    "print(Str)"
   ]
  },
  {
   "cell_type": "markdown",
   "id": "7ea51eb7",
   "metadata": {},
   "source": [
    "### Python 是弱类型的语言"
   ]
  },
  {
   "cell_type": "markdown",
   "id": "214fafa6",
   "metadata": {},
   "source": [
    "在强类型的编程语言中，定义变量时要指明变量的类型，而且赋值的数据也必须是相同类型的，C语言、C++、Java 是强类型语言的代表。\n",
    "\n",
    "下面我们以 C++ 为例来演示强类型语言中变量的使用：\n",
    "\n",
    "int n = 10;  //int表示整数类型\n",
    "\n",
    "n = 100;\n",
    "\n",
    "n = \"Kiveiru\";  //错误：不能将字符串赋值给整数类型\n",
    "\n",
    "url = \"https://github.com/Kiveiru-c547/PythonTutorial \";  //错误：没有指明类型的变量是没有定义的，不能使用。\n",
    "\n",
    "和强类型语言相对应的是弱类型语言，Python、JavaScript、PHP 等脚本语言一般都是弱类型的。"
   ]
  },
  {
   "cell_type": "markdown",
   "id": "eada9fe8",
   "metadata": {},
   "source": [
    "弱类型语言有两个特点：\n",
    "\n",
    "• 变量无须声明就可以直接赋值，对一个不存在的变量赋值就相当于定义了一个新变量。\n",
    "\n",
    "• 变量的数据类型可以随时改变，比如，同一个变量可以一会儿被赋值为整数，一会儿被赋值为字符串。\n",
    "\n",
    "注意，弱类型并不等于没有类型！弱类型是说在书写代码时不用刻意关注类型，但是在编程语言的内部仍然是有类型的。我们可以使用 type() 内置函数类检测某个变量或者表达式的类型，例如："
   ]
  },
  {
   "cell_type": "code",
   "execution_count": 10,
   "id": "f1925094",
   "metadata": {},
   "outputs": [
    {
     "name": "stdout",
     "output_type": "stream",
     "text": [
      "<class 'int'>\n"
     ]
    }
   ],
   "source": [
    "num = 10\n",
    "print(type(num))"
   ]
  },
  {
   "cell_type": "code",
   "execution_count": 11,
   "id": "5727b63d",
   "metadata": {},
   "outputs": [
    {
     "name": "stdout",
     "output_type": "stream",
     "text": [
      "<class 'float'>\n"
     ]
    }
   ],
   "source": [
    "num = 15.8\n",
    "print(type(num))"
   ]
  },
  {
   "cell_type": "code",
   "execution_count": 12,
   "id": "5ebcd64c",
   "metadata": {},
   "outputs": [
    {
     "name": "stdout",
     "output_type": "stream",
     "text": [
      "<class 'complex'>\n"
     ]
    }
   ],
   "source": [
    "num = 20 + 15j\n",
    "print(type(num))"
   ]
  },
  {
   "cell_type": "code",
   "execution_count": 13,
   "id": "af0d74f5",
   "metadata": {},
   "outputs": [
    {
     "name": "stdout",
     "output_type": "stream",
     "text": [
      "<class 'float'>\n"
     ]
    }
   ],
   "source": [
    "print(type(3*15.6))"
   ]
  },
  {
   "cell_type": "markdown",
   "id": "6d073acf",
   "metadata": {},
   "source": [
    "## 2、整数类型（int）"
   ]
  },
  {
   "cell_type": "markdown",
   "id": "524c7a1b",
   "metadata": {},
   "source": [
    "整数就是没有小数部分的数字，Python 中的整数包括正整数、0 和负整数。\n",
    "\n",
    "有些强类型的编程语言会提供多种整数类型，每种类型的长度都不同，能容纳的整数的大小也不同，开发者要根据实际数字的大小选用不同的类型。例如C语言提供了 short、int、long、long long 四种类型的整数，它们的长度依次递增，有时候还会导致数值溢出。\n",
    "\n",
    "而 Python 则不同，它的整数不分类型，或者说它只有一种类型的整数。Python 整数的取值范围是无限的，不管多大或者多小的数字，Python 都能轻松处理。\n",
    "\n",
    "当所用数值超过计算机自身的计算能力时，Python 会自动转用高精度计算（大数计算）。\n",
    "\n",
    "请看下面的代码："
   ]
  },
  {
   "cell_type": "code",
   "execution_count": 14,
   "id": "abd1c4eb",
   "metadata": {},
   "outputs": [
    {
     "name": "stdout",
     "output_type": "stream",
     "text": [
      "78\n",
      "<class 'int'>\n",
      "8888888888888888888888\n",
      "<class 'int'>\n",
      "-7777777777777777777777\n",
      "<class 'int'>\n"
     ]
    }
   ],
   "source": [
    "#将 78 赋值给变量 n\n",
    "n = 78\n",
    "print(n)\n",
    "print(type(n))\n",
    "#给x赋值一个很大的整数\n",
    "x = 8888888888888888888888\n",
    "print(x)\n",
    "print(type(x))\n",
    "#给y赋值一个很小的整数\n",
    "y = -7777777777777777777777\n",
    "print(y)\n",
    "print(type(y))"
   ]
  },
  {
   "cell_type": "markdown",
   "id": "43e43ee7",
   "metadata": {},
   "source": [
    "x 是一个极大的数字，y 是一个很小的数字，Python 都能正确输出，不会发生溢出，这说明 Python 对整数的处理能力非常强大。\n",
    "\n",
    "不管对于多大或者多小的整数，Python 只用一种类型存储，就是 int。"
   ]
  },
  {
   "cell_type": "markdown",
   "id": "8b9ffd24",
   "metadata": {},
   "source": [
    "### 关于 Python 2.x"
   ]
  },
  {
   "cell_type": "markdown",
   "id": "893936c9",
   "metadata": {},
   "source": [
    "Python 3.x 只用 int 一种类型存储整数，但是 Python 2.x 会使用 long 类型来存储较大的整数。以上代码在 Python 2.x 下的运行结果为：\n",
    "\n",
    "78\n",
    "\n",
    "<type 'int'>\n",
    "\n",
    "8888888888888888888888\n",
    "\n",
    "<type 'long'>\n",
    "\n",
    "-7777777777777777777777\n",
    "\n",
    "<type 'long'>\n",
    "\n",
    "但是不管哪个版本的 Python，都能轻松处理极大和极小的数字，而且程序员也不用操心底层到底使用了 int 还是 long 类型。"
   ]
  },
  {
   "cell_type": "markdown",
   "id": "afa3ab08",
   "metadata": {},
   "source": [
    "### 整数的不同进制"
   ]
  },
  {
   "cell_type": "markdown",
   "id": "ef534733",
   "metadata": {},
   "source": [
    "在 Python 中，可以使用多种进制来表示整数：\n",
    "\n",
    "1) 十进制形式\n",
    "\n",
    "我们平时常见的整数就是十进制形式，它由 0 ~ 9 共十个数字排列组合而成。\n",
    "\n",
    "注意，使用十进制形式的整数不能以 0 作为开头，除非这个数值本身就是 0。\n",
    "\n",
    "2) 二进制形式\n",
    "\n",
    "由 0 和 1 两个数字组成，书写时以0b或0B开头。例如，101 对应十进制数是 5。\n",
    "\n",
    "3) 八进制形式\n",
    "\n",
    "八进制整数由 0 ~ 7 共八个数字组成，以0o或0O开头。注意，第一个符号是数字 0，第二个符号是大写或小写的字母 O。\n",
    "\n",
    "在 Python 2.x 中，八进制数字还可以直接以0（数字零）开头。\n",
    "\n",
    "4) 十六进制形式\n",
    "\n",
    "由 0 ~ 9 十个数字以及 A ~ F（或 a ~ f）六个字母组成，书写时以0x或0X开头，\n",
    "\n",
    "【实例】不同进制整数在 Python 中的使用："
   ]
  },
  {
   "cell_type": "code",
   "execution_count": 15,
   "id": "5ea73095",
   "metadata": {},
   "outputs": [
    {
     "name": "stdout",
     "output_type": "stream",
     "text": [
      "hex1Value:  69\n",
      "hex2Value:  1199\n",
      "bin1Value:  5\n",
      "bin2Value:  6\n",
      "oct1Value:  22\n",
      "oct2Value:  33\n"
     ]
    }
   ],
   "source": [
    "#十六进制\n",
    "hex1 = 0x45\n",
    "hex2 = 0x4Af\n",
    "print(\"hex1Value: \", hex1)\n",
    "print(\"hex2Value: \", hex2)\n",
    "#二进制\n",
    "bin1 = 0b101\n",
    "print('bin1Value: ', bin1)\n",
    "bin2 = 0B110\n",
    "print('bin2Value: ', bin2)\n",
    "#八进制\n",
    "oct1 = 0o26\n",
    "print('oct1Value: ', oct1)\n",
    "oct2 = 0O41\n",
    "print('oct2Value: ', oct2)"
   ]
  },
  {
   "cell_type": "markdown",
   "id": "009b62ab",
   "metadata": {},
   "source": [
    "### 数字分隔符"
   ]
  },
  {
   "cell_type": "markdown",
   "id": "f84158a1",
   "metadata": {},
   "source": [
    "为了提高数字的的可读性，Python 3.x 允许使用下划线_作为数字（包括整数和小数）的分隔符。通常每隔三个数字添加一个下划线，类似于英文数字中的逗号。下划线不会影响数字本身的值。\n",
    "\n",
    "【实例】使用下划线书写数字："
   ]
  },
  {
   "cell_type": "code",
   "execution_count": 16,
   "id": "4c1cd429",
   "metadata": {},
   "outputs": [
    {
     "name": "stdout",
     "output_type": "stream",
     "text": [
      "Python教程阅读量： 1301547\n",
      "地球和月球的距离： 384000000\n"
     ]
    }
   ],
   "source": [
    "click = 1_301_547\n",
    "distance = 384_000_000\n",
    "print(\"Python教程阅读量：\", click)\n",
    "print(\"地球和月球的距离：\", distance)"
   ]
  },
  {
   "cell_type": "markdown",
   "id": "d8d5259f",
   "metadata": {},
   "source": [
    "## 3、小数/浮点数类型（float）"
   ]
  },
  {
   "cell_type": "markdown",
   "id": "79ffaeed",
   "metadata": {},
   "source": [
    "在编程语言中，小数通常以浮点数的形式存储。浮点数和定点数是相对的：小数在存储过程中如果小数点发生移动，就称为浮点数；如果小数点不动，就称为定点数。\n",
    "\n",
    "Python 中的小数有两种书写形式：\n",
    "\n",
    "1) 十进制形式\n",
    "\n",
    "这种就是我们平时看到的小数形式，例如 34.6、346.0、0.346。\n",
    "\n",
    "书写小数时必须包含一个小数点，否则会被 Python 当作整数处理。\n",
    "\n",
    "2) 指数形式\n",
    "\n",
    "Python 小数的指数形式的写法为：\n",
    "\n",
    "aEn 或 aen\n",
    "\n",
    "a 为尾数部分，是一个十进制数；n 为指数部分，是一个十进制整数；E或e是固定的字符，用于分割尾数部分和指数部分。整个表达式等价于 a×10^n。\n",
    "\n",
    "指数形式的小数举例：\n",
    "\n",
    "• 2.1E5 = 2.1×10^5，其中 2.1 是尾数，5 是指数。\n",
    "\n",
    "• 3.7E-2 = 3.7×10^-2，其中 3.7 是尾数，-2 是指数。\n",
    "\n",
    "• 0.5E7 = 0.5×10^7，其中 0.5 是尾数，7 是指数。\n",
    "\n",
    "注意，只要写成指数形式就是小数，即使它的最终值看起来像一个整数。例如 14E3 等价于 14000，但 14E3 是一个小数。\n",
    "\n",
    "Python 只有一种小数类型，就是 float。C语言有两种小数类型，分别是 float 和 double：float 能容纳的小数范围比较小，double 能容纳的小数范围比较大。\n",
    "\n",
    "【实例】小数在 Python 中的使用："
   ]
  },
  {
   "cell_type": "code",
   "execution_count": 17,
   "id": "e65531b7",
   "metadata": {},
   "outputs": [
    {
     "name": "stdout",
     "output_type": "stream",
     "text": [
      "f1Value:  12.5\n",
      "f1Type:  <class 'float'>\n",
      "f2Value:  0.34557808421257\n",
      "f2Type:  <class 'float'>\n",
      "f3Value:  8.47e-26\n",
      "f3Type:  <class 'float'>\n",
      "f4Value:  3.456797451324568e+26\n",
      "f4Type:  <class 'float'>\n",
      "f5Value:  120000.0\n",
      "f5Type:  <class 'float'>\n",
      "f6Value:  1.2300000000000002\n",
      "f6Type:  <class 'float'>\n"
     ]
    }
   ],
   "source": [
    "f1 = 12.5\n",
    "print(\"f1Value: \", f1)\n",
    "print(\"f1Type: \", type(f1))\n",
    "f2 = 0.34557808421257003\n",
    "print(\"f2Value: \", f2)\n",
    "print(\"f2Type: \", type(f2))\n",
    "f3 = 0.0000000000000000000000000847\n",
    "print(\"f3Value: \", f3)\n",
    "print(\"f3Type: \", type(f3))\n",
    "f4 = 345679745132456787324523453.45006\n",
    "print(\"f4Value: \", f4)\n",
    "print(\"f4Type: \", type(f4))\n",
    "f5 = 12e4\n",
    "print(\"f5Value: \", f5)\n",
    "print(\"f5Type: \", type(f5))\n",
    "f6 = 12.3 * 0.1\n",
    "print(\"f6Value: \", f6)\n",
    "print(\"f6Type: \", type(f6))"
   ]
  },
  {
   "cell_type": "markdown",
   "id": "363f1633",
   "metadata": {},
   "source": [
    "从运行结果可以看出，Python 能容纳极小和极大的浮点数。print 在输出浮点数时，会根据浮点数的长度和大小适当的舍去一部分数字，或者采用科学计数法。\n",
    "\n",
    "f5 的值是 120000，但是它依然是小数类型，而不是整数类型。\n",
    "\n",
    "12.3*0.1的计算结果很明显是 1.23，但是 print 的输出却不精确。这是因为小数在内存中是以二进制形式存储的，小数点后面的部分在转换成二进制时很有可能是一串无限循环的数字，无论如何都不能精确表示，所以小数的计算结果一般都是不精确的。\n",
    "\n",
    "计算机其实是不认识十进制数，它只认识二进制数，也就是说，当我们以十进制数进行运算的时候，计算机需要将各个十进制数转换成二进制数，然后进行二进制间的计算。\n",
    "\n",
    "以类似 0.1 这样的浮点数为例，如果手动将其转换成二进制，其结果为：\n",
    "\n",
    "0.1(10)=0.00011001100110011...(2)\n",
    "\n",
    "可以看到，结果是无限循环的，也就是说，0.1 转换成二进制数后，无法精确到等于十进制数的 0.1。同时，由于计算机存储的位数是有限制的，所以如果要存储的二进制位数超过了计算机存储位数的最大值，其后续位数会被舍弃（舍弃的原则是“0舍1入”）。\n",
    "\n",
    "这种问题不仅在 Python 中存在，在所有支持浮点数运算的编程语言中都会遇到，它不光是 Python 的 Bug。\n",
    "\n",
    "明白了问题产生的原因之后，那么该如何解决呢？就 Python 的浮点数运算而言，大多数计算机每次计算误差不会超过 253，这对于大多数任务来说已经足够了。\n",
    "\n",
    "如果需要非常精确的结果，可以使用 decimal 模块（其实就是别人开发好的程序，我们可以直接拿来用），它实现的十进制数运算适合会计方面的应用和有高精度要求的应用。例如："
   ]
  },
  {
   "cell_type": "code",
   "execution_count": 18,
   "id": "89ce727d",
   "metadata": {},
   "outputs": [
    {
     "name": "stdout",
     "output_type": "stream",
     "text": [
      "3.3333333333333335\n",
      "3.333333333333333333333333333\n"
     ]
    }
   ],
   "source": [
    "#使用模块前，需要使用 import 引入\n",
    "import decimal\n",
    "a = decimal.Decimal(\"10.0\")\n",
    "b = decimal.Decimal(\"3\")\n",
    "print(10.0/3)\n",
    "print(a/b)"
   ]
  },
  {
   "cell_type": "markdown",
   "id": "ba598e00",
   "metadata": {},
   "source": [
    "可以看到，相比普通运算的结果，使用 decimal 模块得到的结果更精确。\n",
    "\n",
    "如果 decimal 模块还是无法满足需求，还可以使用 fractions 模块，例如："
   ]
  },
  {
   "cell_type": "code",
   "execution_count": 19,
   "id": "bacef235",
   "metadata": {},
   "outputs": [
    {
     "name": "stdout",
     "output_type": "stream",
     "text": [
      "3.3333333333333335\n",
      "10/3\n"
     ]
    }
   ],
   "source": [
    "#引入 decimal 模块\n",
    "from fractions import Fraction\n",
    "print(10/3)\n",
    "print(Fraction(10,3))"
   ]
  },
  {
   "cell_type": "markdown",
   "id": "75abe237",
   "metadata": {},
   "source": [
    "可以看到，通过 fractions 模块能很好地解决浮点类型数之间运算的问题。"
   ]
  },
  {
   "cell_type": "markdown",
   "id": "294223f9",
   "metadata": {},
   "source": [
    "## 4、复数类型（Complex）"
   ]
  },
  {
   "cell_type": "markdown",
   "id": "babbc25a",
   "metadata": {},
   "source": [
    "复数（Complex）是 Python 的内置类型，直接书写即可。换句话说，Python 语言本身就支持复数，而不依赖于标准库或者第三方库。\n",
    "\n",
    "复数由实部（real）和虚部（imag）构成，在 Python 中，复数的虚部以j或者J作为后缀，具体格式为：\n",
    "\n",
    "a + bj\n",
    "\n",
    "a 表示实部，b 表示虚部。\n",
    "\n",
    "【实例】Python 复数的使用："
   ]
  },
  {
   "cell_type": "code",
   "execution_count": 20,
   "id": "f439eccd",
   "metadata": {},
   "outputs": [
    {
     "name": "stdout",
     "output_type": "stream",
     "text": [
      "c1Value:  (12+0.2j)\n",
      "c1Type <class 'complex'>\n",
      "c2Value:  (6-1.2j)\n",
      "c1+c2:  (18-1j)\n",
      "c1*c2:  (72.24-13.2j)\n"
     ]
    }
   ],
   "source": [
    "c1 = 12 + 0.2j\n",
    "print(\"c1Value: \", c1)\n",
    "print(\"c1Type\", type(c1))\n",
    "c2 = 6 - 1.2j\n",
    "print(\"c2Value: \", c2)\n",
    "#对复数进行简单计算\n",
    "print(\"c1+c2: \", c1+c2)\n",
    "print(\"c1*c2: \", c1*c2)"
   ]
  },
  {
   "cell_type": "markdown",
   "id": "70b59d1e",
   "metadata": {},
   "source": [
    "可以发现，复数在 Python 内部的类型是 complex，Python 默认支持对复数的简单计算。"
   ]
  },
  {
   "cell_type": "markdown",
   "id": "7f19c309",
   "metadata": {},
   "source": [
    "## 5、字符串（String）"
   ]
  },
  {
   "cell_type": "markdown",
   "id": "303f8983",
   "metadata": {},
   "source": [
    "若干个字符的集合就是一个字符串（String）。Python 中的字符串必须由双引号\" \"或者单引号' '包围，具体格式为：\n",
    "\n",
    "\"字符串内容\"\n",
    "\n",
    "'字符串内容'\n",
    "\n",
    "字符串的内容可以包含字母、标点、特殊符号、中文、日文等全世界的所有文字。\n",
    "\n",
    "下面都是合法的字符串：\n",
    "\n",
    "• \"123789\"\n",
    "\n",
    "• \"123abc\"\n",
    "\n",
    "• \"Kiveiru\"\n",
    "\n",
    "• \"Python字符串\"\n",
    "\n",
    "Python 字符串中的双引号和单引号没有任何区别。而有些编程语言的双引号字符串可以解析变量，单引号字符串一律原样输出，例如 PHP 和 JavaScript。"
   ]
  },
  {
   "cell_type": "markdown",
   "id": "a94e60a0",
   "metadata": {},
   "source": [
    "### 处理字符串中的引号"
   ]
  },
  {
   "cell_type": "markdown",
   "id": "b995e99e",
   "metadata": {},
   "source": [
    "当字符串内容中出现引号时，我们需要进行特殊处理，否则 Python 会解析出错，例如：\n",
    "\n",
    "'I'm a great coder!'\n",
    "\n",
    "由于上面字符串中包含了单引号，此时 Python 会将字符串中的单引号与第一个单引号配对，这样就会把'I'当成字符串，而后面的m a great coder!'就变成了多余的内容，从而导致语法错误。\n",
    "\n",
    "对于这种情况，我们有两种处理方案：\n",
    "\n",
    "1) 对引号进行转义\n",
    "\n",
    "在引号前面添加反斜杠\\就可以对引号进行转义，让 Python 把它作为普通文本对待，例如："
   ]
  },
  {
   "cell_type": "code",
   "execution_count": 21,
   "id": "37d01943",
   "metadata": {},
   "outputs": [
    {
     "name": "stdout",
     "output_type": "stream",
     "text": [
      "I'm a great coder!\n",
      "引文双引号是\"，中文双引号是“\n"
     ]
    }
   ],
   "source": [
    "str1 = 'I\\'m a great coder!'\n",
    "str2 = \"引文双引号是\\\"，中文双引号是“\"\n",
    "print(str1)\n",
    "print(str2)"
   ]
  },
  {
   "cell_type": "markdown",
   "id": "2c72a766",
   "metadata": {},
   "source": [
    "2) 使用不同的引号包围字符串\n",
    "\n",
    "如果字符串内容中出现了单引号，那么我们可以使用双引号包围字符串，反之亦然。例如："
   ]
  },
  {
   "cell_type": "code",
   "execution_count": 22,
   "id": "1f8f545e",
   "metadata": {},
   "outputs": [
    {
     "name": "stdout",
     "output_type": "stream",
     "text": [
      "I'm a great coder!\n",
      "引文双引号是\"，中文双引号是“\n"
     ]
    }
   ],
   "source": [
    "str1 = \"I'm a great coder!\"  #使用双引号包围含有单引号的字符串\n",
    "str2 = '引文双引号是\"，中文双引号是“'  #使用单引号包围含有双引号的字符串\n",
    "print(str1)\n",
    "print(str2)"
   ]
  },
  {
   "cell_type": "markdown",
   "id": "488a7980",
   "metadata": {},
   "source": [
    "运行结果和上面相同。"
   ]
  },
  {
   "cell_type": "markdown",
   "id": "99a20dbd",
   "metadata": {},
   "source": [
    "### 字符串的换行"
   ]
  },
  {
   "cell_type": "markdown",
   "id": "fb6608e3",
   "metadata": {},
   "source": [
    "Python 不是格式自由的语言，它对程序的换行、缩进都有严格的语法要求。要想换行书写一个比较长的字符串，必须在行尾添加反斜杠\\，请看下面的例子："
   ]
  },
  {
   "cell_type": "code",
   "execution_count": 23,
   "id": "3afe6478",
   "metadata": {},
   "outputs": [
    {
     "name": "stdout",
     "output_type": "stream",
     "text": [
      "Python 英文原意为“蟒蛇”，直到 1989 年荷兰人 Guido van Rossum发明了一种面向对象的解释型编程语言，并将其命名为 Python，才赋予了它表示一门编程语言的含义。\n"
     ]
    }
   ],
   "source": [
    "s2 = 'Python 英文原意为“蟒蛇”，直到 1989 年荷兰人 Guido van Rossum\\\n",
    "发明了一种面向对象的解释型编程语言，\\\n",
    "并将其命名为 Python，才赋予了它表示一门编程语言的含义。'\n",
    "print(s2)"
   ]
  },
  {
   "cell_type": "markdown",
   "id": "ad2227d0",
   "metadata": {},
   "source": [
    "上面 s2 字符串的比较长，所以使用了转义字符\\对字符串内容进行了换行，这样就可以把一个长字符串写成多行。\n",
    "\n",
    "另外，Python 也支持表达式的换行，例如："
   ]
  },
  {
   "cell_type": "code",
   "execution_count": 24,
   "id": "63cac516",
   "metadata": {},
   "outputs": [
    {
     "name": "stdout",
     "output_type": "stream",
     "text": [
      "26.75\n"
     ]
    }
   ],
   "source": [
    "num = 20 + 3 / 4 + \\\n",
    "2 * 3\n",
    "print(num)"
   ]
  },
  {
   "cell_type": "markdown",
   "id": "78f8efa6",
   "metadata": {},
   "source": [
    "### Python长字符串"
   ]
  },
  {
   "cell_type": "markdown",
   "id": "41ae2b06",
   "metadata": {},
   "source": [
    "前面提到，使用三个单引号或者双引号可以对多行内容进行注释，这其实是 Python 长字符串的写法。所谓长字符串，就是可以直接换行（不用加反斜杠\\）书写的字符串。\n",
    "\n",
    "Python 长字符串由三个双引号\"\"\"或者三个单引号'''包围，语法格式如下：\n",
    "\n",
    "\"\"\"长字符串内容\"\"\"\n",
    "\n",
    "'''长字符串内容'''\n",
    "\n",
    "在长字符串中放置单引号或者双引号不会导致解析错误。\n",
    "\n",
    "如果长字符串没有赋值给任何变量，那么这个长字符串就不会起到任何作用，和一段普通的文本无异，相当于被注释掉了。\n",
    "\n",
    "注意，此时 Python 解释器并不会忽略长字符串，也会按照语法解析，只是长字符串起不到实际作用而已。\n",
    "\n",
    "当程序中有大段文本内容需要定义成字符串时，优先推荐使用长字符串形式，因为这种形式非常强大，可以在字符串中放置任何内容，包括单引号和双引号。\n",
    "\n",
    "【实例】将长字符串赋值给变量："
   ]
  },
  {
   "cell_type": "code",
   "execution_count": 25,
   "id": "ab459468",
   "metadata": {},
   "outputs": [
    {
     "name": "stdout",
     "output_type": "stream",
     "text": [
      "Python 英文原意为“蟒蛇”，直到 1989 年荷兰人 \n",
      "Guido van Rossum发明了一种面向对象的解释型编程语言，\n",
      "并将其命名为 Python，才赋予了它表示一门编程语言的含义。\n"
     ]
    }
   ],
   "source": [
    "longstr = '''Python 英文原意为“蟒蛇”，直到 1989 年荷兰人 \n",
    "Guido van Rossum发明了一种面向对象的解释型编程语言，\n",
    "并将其命名为 Python，才赋予了它表示一门编程语言的含义。'''\n",
    "print(longstr)"
   ]
  },
  {
   "cell_type": "markdown",
   "id": "c585c816",
   "metadata": {},
   "source": [
    "长字符串中的换行、空格、缩进等空白符都会原样输出，所以不能写成下面的样子："
   ]
  },
  {
   "cell_type": "code",
   "execution_count": 26,
   "id": "10a62246",
   "metadata": {},
   "outputs": [
    {
     "name": "stdout",
     "output_type": "stream",
     "text": [
      "\n",
      "    Python 英文原意为“蟒蛇”，直到 1989 年荷兰人 \n",
      "    Guido van Rossum发明了一种面向对象的解释型编程语言，\n",
      "    并将其命名为 Python，才赋予了它表示一门编程语言的含义。\n",
      "\n"
     ]
    }
   ],
   "source": [
    "longstr = '''\n",
    "    Python 英文原意为“蟒蛇”，直到 1989 年荷兰人 \n",
    "    Guido van Rossum发明了一种面向对象的解释型编程语言，\n",
    "    并将其命名为 Python，才赋予了它表示一门编程语言的含义。\n",
    "'''\n",
    "print(longstr)"
   ]
  },
  {
   "attachments": {
    "image.png": {
     "image/png": "[encoded data removed]"
    }
   },
   "cell_type": "markdown",
   "id": "488b7ccc",
   "metadata": {},
   "source": [
    "虽然这样写格式优美，但是输出结果将变成：\n",
    "\n",
    " ![image.png](attachment:image.png)\n",
    " \n",
    " 字符串内容前后多出了两个空行，并且每一行的前面会多出四个空格。"
   ]
  },
  {
   "cell_type": "markdown",
   "id": "0a3d4cdf",
   "metadata": {},
   "source": [
    "### Python原始字符串"
   ]
  },
  {
   "cell_type": "markdown",
   "id": "e9a84d09",
   "metadata": {},
   "source": [
    "Python 字符串中的反斜杠\\有着特殊的作用，就是转义字符，例如上面提到的\\'和\\\"。\n",
    "\n",
    "转义字符有时候会带来一些麻烦，例如我要表示一个包含 Windows 路径D:\\Program Files\\Python 3.8\\python.exe这样的字符串，在 Python 程序中直接这样写肯定是不行的，不管是普通字符串还是长字符串。因为\\的特殊性，我们需要对字符串中的每个\\都进行转义，也就是写成D:\\\\Program Files\\\\Python 3.8\\\\python.exe这种形式才行。\n",
    "\n",
    "这种写法需要特别谨慎，稍有疏忽就会出错。为了解决转义字符的问题，Python 支持原始字符串。在原始字符串中，\\不会被当作转义字符，所有的内容都保持“原汁原味”的样子。\n",
    "\n",
    "在普通字符串或者长字符串的开头加上r前缀，就变成了原始字符串，具体格式为：\n",
    "\n",
    "str1 = r'原始字符串内容'\n",
    "\n",
    "str2 = r\"\"\"原始字符串内容\"\"\"\n",
    "\n",
    "将上面的 Windows 路径改写成原始字符串的形式："
   ]
  },
  {
   "cell_type": "code",
   "execution_count": 27,
   "id": "582963f8",
   "metadata": {},
   "outputs": [
    {
     "name": "stdout",
     "output_type": "stream",
     "text": [
      "D:\\Program Files\\Python 3.8\\python.exe\n"
     ]
    }
   ],
   "source": [
    "rstr = r'D:\\Program Files\\Python 3.8\\python.exe'\n",
    "print(rstr)"
   ]
  },
  {
   "cell_type": "markdown",
   "id": "52739ee2",
   "metadata": {},
   "source": [
    "#### 原始字符串中的引号"
   ]
  },
  {
   "cell_type": "markdown",
   "id": "56292aec",
   "metadata": {},
   "source": [
    "如果普通格式的原始字符串中出现引号，程序同样需要对引号进行转义，否则 Python 照样无法对字符串的引号精确配对；但是和普通字符串不同的是，此时用于转义的反斜杠会变成字符串内容的一部分。\n",
    "\n",
    "请看下面的代码："
   ]
  },
  {
   "cell_type": "code",
   "execution_count": 28,
   "id": "77c23050",
   "metadata": {},
   "outputs": [
    {
     "name": "stdout",
     "output_type": "stream",
     "text": [
      "I\\'m a great coder!\n"
     ]
    }
   ],
   "source": [
    "str1 = r'I\\'m a great coder!'\n",
    "print(str1)"
   ]
  },
  {
   "cell_type": "markdown",
   "id": "b986c7d3",
   "metadata": {},
   "source": [
    "需要注意的是，Python 原始字符串中的反斜杠仍然会对引号进行转义，因此原始字符串的结尾处不能是反斜杠，否则字符串结尾处的引号会被转义，导致字符串不能正确结束。\n",
    "\n",
    "在 Python 中有两种方式解决这个问题：一种方式是改用长字符串的写法，不要使用原始字符串；另一种方式是单独书写反斜杠，这是接下来要重点说明的。\n",
    "\n",
    "例如想表示D:\\Program Files\\Python 3.8\\，可以这样写："
   ]
  },
  {
   "cell_type": "code",
   "execution_count": 29,
   "id": "65f80fb4",
   "metadata": {},
   "outputs": [
    {
     "name": "stdout",
     "output_type": "stream",
     "text": [
      "D:\\Program Files\\Python 3.8\\\n"
     ]
    }
   ],
   "source": [
    "str1 = r'D:\\Program Files\\Python 3.8' '\\\\'\n",
    "print(str1)"
   ]
  },
  {
   "cell_type": "markdown",
   "id": "e0cd5362",
   "metadata": {},
   "source": [
    "我们先写了一个原始字符串r'D:\\Program Files\\Python 3.8'，紧接着又使用'\\\\\\\\'写了一个包含转义字符的普通字符串，Python 会自动将这两个字符串拼接在一起，所以上面代码的输出结果是：\n",
    "\n",
    "D:\\Program Files\\Python 3.8\\"
   ]
  },
  {
   "cell_type": "markdown",
   "id": "178c2841",
   "metadata": {},
   "source": [
    "## 6、Python字符串的编码格式"
   ]
  },
  {
   "cell_type": "markdown",
   "id": "6fbafe38",
   "metadata": {},
   "source": [
    "### 什么是编码？"
   ]
  },
  {
   "cell_type": "markdown",
   "id": "22aba2d1",
   "metadata": {},
   "source": [
    "这里先举一个例子。古代打仗，击鼓为号、鸣金收兵，即把要传达给士兵的命令对应为公认的其他形式，这就和编码有相似之处。\n",
    "\n",
    "以发布进攻命令为例，相比用嗓子喊，敲鼓发出的声音传播的更远，并且士兵听到后也不会引起歧义，因此长官下达进攻命令后，传令员就将此命令转化为对应的鼓声，这个转化的过程称为编码；由于士兵都接受过训练，听到鼓声后，他们可以将其转化为对应的进攻命令，这个转化的过程称为解码。\n",
    "\n",
    "需要说明的是，此例只是形象地描述了编码和解码的原理，真实的编码和解码过程比这要复杂的多。\n",
    "\n",
    "了解了编码的含义之后，接下来再介绍一下字符编码。"
   ]
  },
  {
   "cell_type": "markdown",
   "id": "f774600b",
   "metadata": {},
   "source": [
    "### 什么是字符编码？"
   ]
  },
  {
   "cell_type": "markdown",
   "id": "7b7a61f8",
   "metadata": {},
   "source": [
    "计算机是以二进制的形式来存储数据的，即它只认识 0 和 1 两个数字。 20 世纪 60 年代，是计算机发展的早期，这时美国是计算机领域的老大，它制定了一套编码标准，解决了 128 个英文字符与二进制之间的对应关系，被称为 ASCII 字符编码（简称 ASCII 码）。\n",
    "\n",
    "ASCII 码，全称为美国信息交换标准代码，是基于拉丁字母的一套字符编码，主要用于显示现代英语，因为万维网的出现，使得 ASCII 码广为使用，其直到 2007 年 12 月才逐渐被 Unicode 取代。\n",
    "\n",
    "虽然英语用 128 个字符编码已经够用，但计算机不仅仅用于英语，如果想表示其他语言，128 个符号显然不够用，所以很多其他国家都在 ASCII 的基础上发明了很多别的编码，例如包含了汉语简体中文格式的 GB2312 编码格式（使用 2 个字节表示一个汉字）。\n",
    "\n",
    "也正是由于出现了很多种编码格式，导致了“文件显示乱码”的情况。比如说，发送邮件时，如果发信人和收信人使用的编码格式不一样，则收信人很可能看到乱码的邮件。基于这个原因，Unicode 字符集应运而生。\n",
    "\n",
    "Unicode 字符集又称万国码、国际码、统一码等。从名字就可以看出来，它是以统一符号为目标的字符集。Unicode 对世界上大部分的文字系统进行了整理、编码，使得电脑可以用更简单的方式来呈现和处理文字。\n",
    "\n",
    "注意，在实际使用时，人们常常混淆字符集和字符编码这两个概念，它们是不同的：\n",
    "\n",
    "• 字符集定义了字符和二进制的对应关系，为每个字符分配了唯一的编号。可以将字符集理解成一个很大的表格，它列出了所有字符和二进制的对应关系，计算机显示文字或者存储文字，就是一个查表的过程；\n",
    "\n",
    "• 而字符编码规定了如何将字符的编号存储到计算机中，要知道，有些字符编码（如 GB2312 和 GBK）规定，不同字符在存储时所占用的字节数是不一样的，因此为了区分一个字符到底使用了几个字节，就不能将字符的编号直接存储到计算机中，字符编号在存储之前必须要经过转换，在读取时还要再逆向转换一次，这套转换方案就叫做字符编码。\n",
    "\n",
    "Unicode 字符集可以使用的编码方案有三种，分别是：\n",
    "\n",
    "1. UTF-8：一种变长的编码方案，使用 1~6 个字节来存储；\n",
    "\n",
    "2. UTF-32：一种固定长度的编码方案，不管字符编号大小，始终使用 4 个字节来存储；\n",
    "\n",
    "3. UTF-16：介于 UTF-8 和 UTF-32 之间，使用 2 个或者 4 个字节来存储，长度既固定又可变。\n",
    "\n",
    "其中，UTF-8 是目前使用最广的一种 Unicode字符集的实现方式，可以说它几乎已经一统江湖了。"
   ]
  },
  {
   "cell_type": "markdown",
   "id": "39ee0020",
   "metadata": {},
   "source": [
    "### Python使用哪种字符编码？"
   ]
  },
  {
   "cell_type": "markdown",
   "id": "5f3d1134",
   "metadata": {},
   "source": [
    "了解了什么是编码，以及什么是字符编码之后，最后解决“Python 使用哪种字符编码？”这个问题。\n",
    "\n",
    "Python 3.x 中，字符串采用的是 Unicode 字符集，可以用如下代码来查看当前环境的编码格式："
   ]
  },
  {
   "cell_type": "code",
   "execution_count": 30,
   "id": "2dd5ffe7",
   "metadata": {},
   "outputs": [
    {
     "data": {
      "text/plain": [
       "'utf-8'"
      ]
     },
     "execution_count": 30,
     "metadata": {},
     "output_type": "execute_result"
    }
   ],
   "source": [
    "import sys\n",
    "sys.getdefaultencoding()"
   ]
  },
  {
   "cell_type": "markdown",
   "id": "2cfe540e",
   "metadata": {},
   "source": [
    "同时，在 Python 3.x 中也可以用 ord() 和 chr() 函数实现字符和编码数字之间的转换，例如："
   ]
  },
  {
   "cell_type": "code",
   "execution_count": 31,
   "id": "d9b9cea6",
   "metadata": {},
   "outputs": [
    {
     "data": {
      "text/plain": [
       "81"
      ]
     },
     "execution_count": 31,
     "metadata": {},
     "output_type": "execute_result"
    }
   ],
   "source": [
    "ord('Q')"
   ]
  },
  {
   "cell_type": "code",
   "execution_count": 32,
   "id": "ac375fe1",
   "metadata": {},
   "outputs": [
    {
     "data": {
      "text/plain": [
       "'Q'"
      ]
     },
     "execution_count": 32,
     "metadata": {},
     "output_type": "execute_result"
    }
   ],
   "source": [
    "chr(81)"
   ]
  },
  {
   "cell_type": "code",
   "execution_count": 33,
   "id": "87192e66",
   "metadata": {},
   "outputs": [
    {
     "data": {
      "text/plain": [
       "32593"
      ]
     },
     "execution_count": 33,
     "metadata": {},
     "output_type": "execute_result"
    }
   ],
   "source": [
    "ord(\"网\")"
   ]
  },
  {
   "cell_type": "code",
   "execution_count": 34,
   "id": "e53088b5",
   "metadata": {},
   "outputs": [
    {
     "data": {
      "text/plain": [
       "'网'"
      ]
     },
     "execution_count": 34,
     "metadata": {},
     "output_type": "execute_result"
    }
   ],
   "source": [
    "chr(32593)"
   ]
  },
  {
   "cell_type": "markdown",
   "id": "096e83fe",
   "metadata": {},
   "source": [
    "Python 2.x 中无法使用 ord() 得到指定字符对应的编码数字。\n",
    "\n",
    "由此可以知道，在 Unicode 字符集中，字符‘Q’对应的编码数字为 81，而中文‘网’对应的编码数字为 32593。\n",
    "\n",
    "值得一提的是，虽然 Python 默认采用 UTF-8 编码，但它也提供了 encode() 方法，可以轻松实现将 Unicode 编码格式的字符串转化为其它编码格式。"
   ]
  },
  {
   "cell_type": "markdown",
   "id": "5d1bcc24",
   "metadata": {},
   "source": [
    "## 7、bytes类型"
   ]
  },
  {
   "cell_type": "markdown",
   "id": "3fdfe1c2",
   "metadata": {},
   "source": [
    "Python bytes 类型用来表示一个字节串。注：“字节串“不是编程术语。\n",
    "\n",
    "bytes 是 Python 3.x 新增的类型，在 Python 2.x 中是不存在的。\n",
    "\n",
    "字节串（bytes）和字符串（string）的对比：\n",
    "\n",
    "• 字符串由若干个字符组成，以字符为单位进行操作；字节串由若干个字节组成，以字节为单位进行操作。\n",
    "\n",
    "• 字节串和字符串除了操作的数据单元不同之外，它们支持的所有方法都基本相同。\n",
    "\n",
    "• 字节串和字符串都是不可变序列，不能随意增加和删除数据。\n",
    "\n",
    "bytes 只负责以字节序列的形式（二进制形式）来存储数据，至于这些数据到底表示什么内容（字符串、数字、图片、音频等），完全由程序的解析方式决定。如果采用合适的字符编码方式（字符集），字节串可以恢复成字符串；反之亦然，字符串也可以转换成字节串。\n",
    "\n",
    "说白了，bytes 只是简单地记录内存中的原始数据，至于如何使用这些数据，bytes 并不在意，你想怎么使用就怎么使用，bytes 并不约束你的行为。\n",
    "\n",
    "bytes 类型的数据非常适合在互联网上传输，可以用于网络通信编程；bytes 也可以用来存储图片、音频、视频等二进制格式的文件。\n",
    "\n",
    "字符串和 bytes 存在着千丝万缕的联系，我们可以通过字符串来创建 bytes 对象，或者说将字符串转换成 bytes 对象。有以下三种方法可以达到这个目的：\n",
    "\n",
    "• 如果字符串的内容都是 ASCII 字符，那么直接在字符串前面添加b前缀就可以转换成 bytes。\n",
    "\n",
    "• bytes 是一个类，调用它的构造方法，也就是 bytes()，可以将字符串按照指定的字符集转换成 bytes；如果不指定字符集，那么默认采用 UTF-8。\n",
    "\n",
    "• 字符串本身有一个 encode() 方法，该方法专门用来将字符串按照指定的字符集转换成对应的字节串；如果不指定字符集，那么默认采用 UTF-8。\n",
    "\n",
    "【实例】使用不同方式创建 bytes 对象："
   ]
  },
  {
   "cell_type": "code",
   "execution_count": 35,
   "id": "959625d2",
   "metadata": {},
   "outputs": [
    {
     "name": "stdout",
     "output_type": "stream",
     "text": [
      "b3:  b'https://github.com/Kiveiru-c547/PythonTutorial'\n",
      "112\n",
      "b'/github.com/Kiv'\n",
      "b4:  b'\\xe8\\xbf\\x99\\xe6\\x98\\xaf\\xe4\\xb8\\x80\\xe4\\xb8\\xb2\\xe5\\xad\\x97\\xe7\\xac\\xa6'\n",
      "b5:  b'\\xe8\\xbf\\x99\\xe6\\x98\\xaf\\xe4\\xb8\\x80\\xe4\\xb8\\xb2\\xe5\\xad\\x97\\xe7\\xac\\xa6'\n"
     ]
    }
   ],
   "source": [
    "#通过构造函数创建空 bytes\n",
    "b1 = bytes()\n",
    "#通过空字符串创建空 bytes\n",
    "b2 = b''\n",
    "#通过b前缀将字符串转换成 bytes\n",
    "b3 = b'https://github.com/Kiveiru-c547/PythonTutorial'\n",
    "print(\"b3: \", b3)\n",
    "print(b3[3])\n",
    "print(b3[7:22])\n",
    "#为 bytes() 方法指定字符集\n",
    "b4 = bytes('这是一串字符', encoding='UTF-8')\n",
    "print(\"b4: \", b4)\n",
    "#通过 encode() 方法将字符串转换成 bytes\n",
    "b5 = \"这是一串字符\".encode('UTF-8')\n",
    "print(\"b5: \", b5)"
   ]
  },
  {
   "cell_type": "markdown",
   "id": "f81acfff",
   "metadata": {},
   "source": [
    "从运行结果可以发现，对于非 ASCII 字符，print 输出的是它的字符编码值（十六进制形式），而不是字符本身。非 ASCII 字符一般占用两个字节以上的内存，而 bytes 是按照单个字节来处理数据的，所以不能一次处理多个字节。\n",
    "\n",
    "bytes 类也有一个 decode() 方法，通过该方法可以将 bytes 对象转换为字符串。紧接上面的程序，添加以下代码："
   ]
  },
  {
   "cell_type": "code",
   "execution_count": 36,
   "id": "324a3d1f",
   "metadata": {},
   "outputs": [
    {
     "name": "stdout",
     "output_type": "stream",
     "text": [
      "str1:  这是一串字符\n"
     ]
    }
   ],
   "source": [
    "#通过 decode() 方法将 bytes 转换成字符串\n",
    "str1 = b5.decode('UTF-8')\n",
    "print(\"str1: \", str1)"
   ]
  },
  {
   "cell_type": "markdown",
   "id": "0f2c321f",
   "metadata": {},
   "source": [
    "## 8、布尔类型（bool）"
   ]
  },
  {
   "cell_type": "markdown",
   "id": "e59a7f57",
   "metadata": {},
   "source": [
    "Python 提供了 bool 类型来表示真（对）或假（错），比如常见的5 > 3比较算式，这个是正确的，在程序世界里称之为真（对），Python 使用 True 来代表；再比如4 > 20比较算式，这个是错误的，在程序世界里称之为假（错），Python 使用 False 来代表。\n",
    "\n",
    "True 和 False 是 Python 中的关键字，当作为 Python 代码输入时，一定要注意字母的大小写，否则解释器会报错。\n",
    "\n",
    "值得一提的是，布尔类型可以当做整数来对待，即 True 相当于整数值 1，False 相当于整数值 0。因此，下边这些运算都是可以的："
   ]
  },
  {
   "cell_type": "code",
   "execution_count": 37,
   "id": "41190a1a",
   "metadata": {},
   "outputs": [
    {
     "data": {
      "text/plain": [
       "1"
      ]
     },
     "execution_count": 37,
     "metadata": {},
     "output_type": "execute_result"
    }
   ],
   "source": [
    "False+1"
   ]
  },
  {
   "cell_type": "code",
   "execution_count": 38,
   "id": "5ae33106",
   "metadata": {},
   "outputs": [
    {
     "data": {
      "text/plain": [
       "2"
      ]
     },
     "execution_count": 38,
     "metadata": {},
     "output_type": "execute_result"
    }
   ],
   "source": [
    "True+1"
   ]
  },
  {
   "cell_type": "markdown",
   "id": "039aab7d",
   "metadata": {},
   "source": [
    "注意，这里只是为了说明 True 和 Flase 对应的整型值，在实际应用中是不妥的，不要这么用。\n",
    "\n",
    "总的来说，bool 类型就是用于代表某个事情的真（对）或假（错），如果这个事情是正确的，用 True（或 1）代表；如果这个事情是错误的，用 False（或 0）代表。\n",
    "\n",
    "【例 1】"
   ]
  },
  {
   "cell_type": "code",
   "execution_count": 39,
   "id": "2797d93f",
   "metadata": {},
   "outputs": [
    {
     "data": {
      "text/plain": [
       "True"
      ]
     },
     "execution_count": 39,
     "metadata": {},
     "output_type": "execute_result"
    }
   ],
   "source": [
    "5>3"
   ]
  },
  {
   "cell_type": "code",
   "execution_count": 40,
   "id": "4b3ba789",
   "metadata": {},
   "outputs": [
    {
     "data": {
      "text/plain": [
       "False"
      ]
     },
     "execution_count": 40,
     "metadata": {},
     "output_type": "execute_result"
    }
   ],
   "source": [
    "4>20"
   ]
  },
  {
   "cell_type": "markdown",
   "id": "b128a723",
   "metadata": {},
   "source": [
    "在 Python 中，所有的对象都可以进行真假值的测试，包括字符串、元组、列表、字典、对象等。"
   ]
  },
  {
   "cell_type": "markdown",
   "id": "82925957",
   "metadata": {},
   "source": [
    "## 9、缓存重用机制"
   ]
  },
  {
   "attachments": {
    "image-3.png": {
     "image/png": "[encoded data removed]"
    }
   },
   "cell_type": "markdown",
   "id": "09851330",
   "metadata": {},
   "source": [
    "Python 缓冲机制是为提高程序执行的效率服务的，实际上就是在 Python 解释器启动时从内存空间中开辟出一小部分，用来存储高频使用的数据，这样可以大大减少高频使用的数据创建时申请内存和销毁时撤销内存的开销。\n",
    "\n",
    "Python 在存储数据时，会根据数据的读取频繁程度以及内存占用情况来考虑，是否按照一定的规则将数据存储缓存中。那么问题来了，内存重用机制适用于哪些基本数据类型呢？\n",
    "\n",
    "表 1 罗列了 Python 是否将指定数据存入缓存中的规则：\n",
    "\t\n",
    "![image-3.png](attachment:image-3.png)\n",
    "\n",
    "下面直接通过一段程序来演示 Python 缓存机制的规则。"
   ]
  },
  {
   "cell_type": "code",
   "execution_count": 41,
   "id": "e1d2f4b6",
   "metadata": {
    "scrolled": true
   },
   "outputs": [
    {
     "name": "stdout",
     "output_type": "stream",
     "text": [
      "[-5, 256] 情况下的两个变量： 140729550405712 140729550405712\n",
      "bool类型情况下的两个变量： 140729549887824 140729549887824\n",
      "字符串情况下的两个交量 1837098184560 1837098184560\n",
      "大于 256 的整数情况下的两个变量 1837099348304 1837099348176\n",
      "大于 0 的浮点数情况下的两个变量 1837099348240 1837099348400\n",
      "小于 0 的浮点数情况下的两个变量 1837098885744 1837098888336\n",
      "小于 -5 的整数情况下的两个变量 1837099348336 1837099348624\n"
     ]
    }
   ],
   "source": [
    "#范围在 [-5, 256] 之间的小整数\n",
    "int1 = -5\n",
    "int2 = -5\n",
    "print(\"[-5, 256] 情况下的两个变量：\", id(int1), id(int2))\n",
    "#bool类型\n",
    "bool1 = True\n",
    "bool2 = True\n",
    "print(\"bool类型情况下的两个变量：\",id(bool1),id(bool2))\n",
    "#对于字符串\n",
    "s1 = \"3344\"\n",
    "s2 = \"3344\"\n",
    "print(\"字符串情况下的两个交量\", id(s1), id(s2))\n",
    "#大于 256 的整数\n",
    "int3 = 257\n",
    "int4 = 257\n",
    "print(\"大于 256 的整数情况下的两个变量\", id(int3), id(int4))\n",
    "#大于 0 的浮点数\n",
    "f1 = 0.4\n",
    "f2 = 0.4\n",
    "print(\"大于 0 的浮点数情况下的两个变量\", id(f1), id(f2))\n",
    "#小于 0 的浮点数\n",
    "f3 = -2.45\n",
    "f4 = -2.45\n",
    "print(\"小于 0 的浮点数情况下的两个变量\", id(f3), id(f4))\n",
    "#小于 -5 的整数\n",
    "n1 = -6\n",
    "n2 = -6\n",
    "print(\"小于 -5 的整数情况下的两个变量\", id(n1), id(n2))"
   ]
  },
  {
   "cell_type": "markdown",
   "id": "d6ebaf9c",
   "metadata": {},
   "source": [
    "注意，此程序中，大量使用 id() 内置函数，该函数的功能是获取变量（对象）所在的内存地址。"
   ]
  },
  {
   "cell_type": "markdown",
   "id": "0c8ba059",
   "metadata": {},
   "source": [
    "以上输出结果中，每行都输出了 2 个相对应的变量所在的内存地址，如果相等，则表明 Python 内部对其使用了缓存机制，反之则没有。读者可对照以上输出结果来理解表 1 中有关变量缓存机制的规则。\n",
    "\n",
    "另外，对于表 1 中所提到的代码块，Python 中的函数和类都被认为是在程序中开辟了一块新的代码块。以函数为例，函数内部的代码分属一个代码块，函数外部的代码属于另一个代码块。\n",
    "\n",
    "有关函数的具有用法，后续章节会详细介绍，这里只需要知道函数中包含的代码，属于一个新的代码块即可。\n",
    "由表 1 可以看到，Python 缓存机制在不同的代码块中也会有不同的表现。举一个例子，在上面例子代码的基础上，继续编写如下程序："
   ]
  },
  {
   "cell_type": "code",
   "execution_count": 42,
   "id": "b259a6e4",
   "metadata": {},
   "outputs": [
    {
     "name": "stdout",
     "output_type": "stream",
     "text": [
      "fun中 -5 的存储状态 140729550405712 140729550405712\n",
      "fun中 bool 类型的存储状态 140729549887824 140729549887824\n",
      "fun 中 3344 字符串的存储状态 1837098184560 1837098184560\n",
      "fun中 257 的存储状态 1837099348944 1837099348176\n",
      "fun 中 256.4 的存储状态 1837098885680 1837099348400\n",
      "fun 中 -6 的存储状态 1837099348464 1837099348624\n"
     ]
    }
   ],
   "source": [
    "def fun():\n",
    "    #[-5,256]\n",
    "    int1 = -5\n",
    "    print(\"fun中 -5 的存储状态\",id(int1), id(int2))\n",
    "    \n",
    "    #bool类型\n",
    "    bool3 = True\n",
    "    print(\"fun中 bool 类型的存储状态\",id(bool3),id(bool2))\n",
    "    \n",
    "    #字符串类型\n",
    "    s1 = \"3344\"\n",
    "    print(\"fun 中 3344 字符串的存储状态\", id(s1), id(s2))\n",
    "    #大于 256\n",
    "    int3 = 257\n",
    "    print(\"fun中 257 的存储状态\", id(int3), id(int4))\n",
    "    #浮点类型\n",
    "    f1 = 256.4\n",
    "    print(\"fun 中 256.4 的存储状态\",id(f1), id(f2))\n",
    "    #小于 -5\n",
    "    n1 = -6\n",
    "    print(\"fun 中 -6 的存储状态\", id(n1), id(n2))\n",
    "   \n",
    "fun()"
   ]
  },
  {
   "cell_type": "markdown",
   "id": "a4561708",
   "metadata": {},
   "source": [
    "## 10、input()函数"
   ]
  },
  {
   "cell_type": "markdown",
   "id": "8a4e29a9",
   "metadata": {},
   "source": [
    "input() 是 Python 的内置函数，用于从控制台读取用户输入的内容。input() 函数总是以字符串的形式来处理用户输入的内容，所以用户输入的内容可以包含任何字符。\n",
    "\n",
    "input() 函数的用法为：\n",
    "\n",
    "str = input(tipmsg)\n",
    "\n",
    "说明：\n",
    "\n",
    "• str 表示一个字符串类型的变量，input 会将读取到的字符串放入 str 中。\n",
    "\n",
    "• tipmsg 表示提示信息，它会显示在控制台上，告诉用户应该输入什么样的内容；如果不写 tipmsg，就不会有任何提示信息。\n",
    "\n",
    "【实例】input() 函数的简单使用："
   ]
  },
  {
   "cell_type": "code",
   "execution_count": 43,
   "id": "ac88de1a",
   "metadata": {},
   "outputs": [
    {
     "name": "stdout",
     "output_type": "stream",
     "text": [
      "Enter a number: 4\n",
      "Enter another number: 5\n",
      "aType:  <class 'str'>\n",
      "bType:  <class 'str'>\n",
      "resultValue:  45\n",
      "resultType:  <class 'str'>\n"
     ]
    }
   ],
   "source": [
    "a = input(\"Enter a number: \")\n",
    "b = input(\"Enter another number: \")\n",
    "print(\"aType: \", type(a))\n",
    "print(\"bType: \", type(b))\n",
    "result = a + b\n",
    "print(\"resultValue: \", result)\n",
    "print(\"resultType: \", type(result))"
   ]
  },
  {
   "cell_type": "markdown",
   "id": "90f56ce6",
   "metadata": {},
   "source": [
    "本例中输入了两个整数，希望计算出它们的和，但是事与愿违，Python 只是它们当成了字符串，+起到了拼接字符串的作用，而不是求和的作用。\n",
    "\n",
    "可以使用 Python 内置函数将字符串转换成想要的类型，比如：\n",
    "\n",
    "• int(string) 将字符串转换成 int 类型；\n",
    "\n",
    "• float(string) 将字符串转换成 float 类型；\n",
    "\n",
    "• bool(string) 将字符串转换成 bool 类型。\n",
    "\n",
    "修改上面的代码，将用户输入的内容转换成数字："
   ]
  },
  {
   "cell_type": "code",
   "execution_count": 44,
   "id": "cac12dd4",
   "metadata": {},
   "outputs": [
    {
     "name": "stdout",
     "output_type": "stream",
     "text": [
      "Enter a number: 4\n",
      "Enter another number: 5\n",
      "aType:  <class 'float'>\n",
      "bType:  <class 'int'>\n",
      "resultValue:  9.0\n",
      "resultType:  <class 'float'>\n"
     ]
    }
   ],
   "source": [
    "a = input(\"Enter a number: \")\n",
    "b = input(\"Enter another number: \")\n",
    "a = float(a)\n",
    "b = int(b)\n",
    "print(\"aType: \", type(a))\n",
    "print(\"bType: \", type(b))\n",
    "result = a + b\n",
    "print(\"resultValue: \", result)\n",
    "print(\"resultType: \", type(result))"
   ]
  },
  {
   "cell_type": "markdown",
   "id": "1fa69f53",
   "metadata": {},
   "source": [
    "上面讲解的是 Python 3.x 中 input() 的用法，但是在较老的 Python 2.x 中情况就不一样了。Python 2.x 共提供了两个输入函数，分别是 input() 和 raw_input()：\n",
    "\n",
    "• Python 2.x raw_input() 和 Python 3.x input() 效果是一样的，都只能以字符串的形式读取用户输入的内容。\n",
    "\n",
    "• Python 2.x input() 看起来有点奇怪，它要求用户输入的内容必须符合 Python 的语法，稍有疏忽就会出错，通常来说只能是整数、小数、复数、字符串等。\n",
    "\n",
    "比较强迫的是，Python 2.x input() 要求用户在输入字符串时必须使用引号包围，这有违 Python 简单易用的原则，所以 Python 3.x 取消了这种输入方式。\n",
    "\n",
    "修改本节第一段代码，去掉 print 后面的括号：\n",
    "\n",
    "\t1. a = input(\"Enter a number: \")\n",
    "    \n",
    "\t2. b = input(\"Enter another number: \")\n",
    "    \n",
    "\t3. print \"aType: \", type(a)\n",
    "    \n",
    "\t4. print \"bType: \", type(b)\n",
    "    \n",
    "\t5. result = a + b\n",
    "    \n",
    "\t6. print \"resultValue: \", result\n",
    "    \n",
    "\t7. print \"resultType: \", type(result)\n",
    "    \n",
    "在 Python 2.x 下运行该代码：\n",
    "\n",
    "Enter a number: 45↙\n",
    "\n",
    "Enter another number: 100↙\n",
    "\n",
    "aType:  <type 'int'>\n",
    "\n",
    "bType:  <type 'int'>\n",
    "\n",
    "resultValue:  145\n",
    "\n",
    "resultType:  <type 'int'>"
   ]
  },
  {
   "cell_type": "markdown",
   "id": "a0a8c2a0",
   "metadata": {},
   "source": [
    "## 11、print()函数"
   ]
  },
  {
   "cell_type": "markdown",
   "id": "0f8c3fc3",
   "metadata": {},
   "source": [
    "前面使用 print() 函数时，都只输出了一个变量，但实际上 print() 函数完全可以同时输出多个变量，而且它具有更多丰富的功能。\n",
    "\n",
    "print() 函数的详细语法格式如下：\n",
    "\n",
    "print (value,...,sep='',end='\\n',file=sys.stdout,flush=False)\n",
    "\n",
    "从上面的语法格式可以看出，value 参数可以接受任意多个变量或值，因此 print() 函数完全可以输出多个值。例如如下代码："
   ]
  },
  {
   "cell_type": "code",
   "execution_count": 45,
   "id": "733b6cca",
   "metadata": {},
   "outputs": [
    {
     "name": "stdout",
     "output_type": "stream",
     "text": [
      "读者名： Charlie 年龄： 8\n"
     ]
    }
   ],
   "source": [
    "user_name = 'Charlie'\n",
    "user_age = 8\n",
    "#同时输出多个变量和字符串\n",
    "print(\"读者名：\",user_name,\"年龄：\",user_age)"
   ]
  },
  {
   "cell_type": "markdown",
   "id": "f384308a",
   "metadata": {},
   "source": [
    "从输出结果来看，使用 print() 函数输出多个变量时，print() 函数默认以空格隔开多个变量，如果读者希望改变默认的分隔符，可通过 sep 参数进行设置。例如输出语句："
   ]
  },
  {
   "cell_type": "code",
   "execution_count": 46,
   "id": "6de88e68",
   "metadata": {},
   "outputs": [
    {
     "name": "stdout",
     "output_type": "stream",
     "text": [
      "读者名：|Charlie|年龄：|8\n"
     ]
    }
   ],
   "source": [
    "#同时输出多个变量和字符串，指定分隔符\n",
    "print(\"读者名：\" ,user_name,\"年龄：\",user_age,sep='|')"
   ]
  },
  {
   "cell_type": "markdown",
   "id": "7a9173a8",
   "metadata": {},
   "source": [
    "在默认情况下，print() 函数输出之后总会换行，这是因为 print() 函数的 end 参数的默认值是“\\n”，这个“\\n”就代表了换行。如果希望 print() 函数输出之后不会换行，则重设 end 参数即可，例如如下代码："
   ]
  },
  {
   "cell_type": "code",
   "execution_count": 47,
   "id": "e4e8facd",
   "metadata": {},
   "outputs": [
    {
     "name": "stdout",
     "output_type": "stream",
     "text": [
      "40 \t50 \t60 \t"
     ]
    }
   ],
   "source": [
    "#设置end 参数，指定输出之后不再换行\n",
    "print(40,'\\t',end=\"\")\n",
    "print(50,'\\t',end=\"\")\n",
    "print(60,'\\t',end=\"\")"
   ]
  },
  {
   "cell_type": "markdown",
   "id": "d067f6c9",
   "metadata": {},
   "source": [
    "上面三条 print() 语句会执行三次输出，但由于它们都指定了 end＝\"\"，因此每条 print() 语句的输出都不会换行，依然位于同一行。"
   ]
  },
  {
   "cell_type": "markdown",
   "id": "9968920d",
   "metadata": {},
   "source": [
    "file 参数指定 print() 函数的输出目标，file 参数的默认值为 sys.stdout，该默认值代表了系统标准输出，也就是屏幕，因此 print() 函数默认输出到屏幕。实际上，完全可以通过改变该参数让 print() 函数输出到特定文件中，例如如下代码："
   ]
  },
  {
   "cell_type": "code",
   "execution_count": 48,
   "id": "5e8d2384",
   "metadata": {},
   "outputs": [],
   "source": [
    "f = open(\"./Data/demo.txt\",\"w\")#打开文件以便写入\n",
    "print('路漫漫其修远兮',file=f)\n",
    "print('吾将上下而求索',file=f)\n",
    "f.close()"
   ]
  },
  {
   "cell_type": "markdown",
   "id": "b00acec0",
   "metadata": {},
   "source": [
    "上面程序中，open() 函数用于打开 demo.txt 文件，接连 2 个 print 函数会将这 2 段字符串依次写入此文件，最后调用 close() 函数关闭文件。\n",
    "\n",
    "print() 函数的 flush 参数用于控制输出缓存，该参数一般保持为 False 即可，这样可以获得较好的性能。"
   ]
  },
  {
   "cell_type": "markdown",
   "id": "ce554000",
   "metadata": {},
   "source": [
    "### 格式化字符串"
   ]
  },
  {
   "attachments": {
    "image.png": {
     "image/png": "[encoded data removed]"
    }
   },
   "cell_type": "markdown",
   "id": "da4c7165",
   "metadata": {},
   "source": [
    "print() 还有很多高级的玩法，比如格式化输出。\n",
    "\n",
    "熟悉C语言 printf()函数的读者能够轻而易举学会 Python print() 函数，它们是非常类似的。\n",
    "\n",
    "print() 函数使用以%开头的转换说明符对各种类型的数据进行格式化输出，具体请看下表。\n",
    "\n",
    "![image.png](attachment:image.png)\n",
    "\n",
    "转换说明符（Conversion Specifier）只是一个占位符，它会被后面表达式（变量、常量、数字、字符串、加减乘除等各种形式）的值代替。\n",
    "\n",
    "【实例】输出一个整数："
   ]
  },
  {
   "cell_type": "code",
   "execution_count": 49,
   "id": "605687bb",
   "metadata": {},
   "outputs": [
    {
     "name": "stdout",
     "output_type": "stream",
     "text": [
      "age=8\n"
     ]
    }
   ],
   "source": [
    "age = 8\n",
    "print(\"age=%d\" % age)"
   ]
  },
  {
   "cell_type": "markdown",
   "id": "8e88acc5",
   "metadata": {},
   "source": [
    "在 print() 函数中，由引号包围的是格式化字符串，它相当于一个字符串模板，可以放置一些转换说明符（占位符）。本例的格式化字符串中包含一个%d说明符，它最终会被后面的 age 变量的值所替代。\n",
    "\n",
    "中间的%是一个分隔符，它前面是格式化字符串，后面是要输出的表达式。\n",
    "\n",
    "当然，格式化字符串中也可以包含多个转换说明符，这个时候也得提供多个表达式，用以替换对应的转换说明符；多个表达式必须使用小括号( )包围起来。请看下面的例子："
   ]
  },
  {
   "cell_type": "code",
   "execution_count": 50,
   "id": "fc74753d",
   "metadata": {},
   "outputs": [
    {
     "name": "stdout",
     "output_type": "stream",
     "text": [
      "Python Tutorial已经1岁了，它的网址是https://github.com/Kiveiru-c547/PythonTutorial。\n"
     ]
    }
   ],
   "source": [
    "name = \"Python Tutorial\"\n",
    "age = 1\n",
    "url = \"https://github.com/Kiveiru-c547/PythonTutorial\"\n",
    "print(\"%s已经%d岁了，它的网址是%s。\" % (name, age, url))"
   ]
  },
  {
   "cell_type": "markdown",
   "id": "b5c5abcf",
   "metadata": {},
   "source": [
    "总之，有几个占位符，后面就得跟着几个表达式。"
   ]
  },
  {
   "cell_type": "markdown",
   "id": "e7595016",
   "metadata": {},
   "source": [
    "#### 指定最小输出宽度"
   ]
  },
  {
   "cell_type": "markdown",
   "id": "fb661427",
   "metadata": {},
   "source": [
    "当使用表1中的转换说明符时，可以使用下面的格式指定最小输出宽度（至少占用多少个字符的位置）：\n",
    "\n",
    "• %10d 表示输出的整数宽度至少为 10；\n",
    "\n",
    "• %20s 表示输出的字符串宽度至少为 20。\n",
    "\n",
    "请看下面的演示："
   ]
  },
  {
   "cell_type": "code",
   "execution_count": 51,
   "id": "06ab8be9",
   "metadata": {},
   "outputs": [
    {
     "name": "stdout",
     "output_type": "stream",
     "text": [
      "n(10):   1234567.\n",
      "n(5):1234567.\n",
      "url(55):         https://github.com/Kiveiru-c547/PythonTutorial .\n",
      "url(20):https://github.com/Kiveiru-c547/PythonTutorial .\n"
     ]
    }
   ],
   "source": [
    "n = 1234567\n",
    "print(\"n(10):%10d.\" % n)\n",
    "print(\"n(5):%5d.\" % n)\n",
    "url = \"https://github.com/Kiveiru-c547/PythonTutorial\"\n",
    "print(\"url(55):%55s .\" % url)\n",
    "print(\"url(20):%5s .\" % url)"
   ]
  },
  {
   "cell_type": "markdown",
   "id": "94043e08",
   "metadata": {},
   "source": [
    "从运行结果可以发现，对于整数和字符串，当数据的实际宽度小于指定宽度时，会在左侧以空格补齐；当数据的实际宽度大于指定宽度时，会按照数据的实际宽度输出。\n",
    "\n",
    "这里指定的只是最小宽度，当数据的实际宽度足够时，指定的宽度就没有实际意义了。"
   ]
  },
  {
   "cell_type": "markdown",
   "id": "a5a1f3db",
   "metadata": {},
   "source": [
    "#### 指定对齐方式"
   ]
  },
  {
   "attachments": {
    "image.png": {
     "image/png": "[encoded data removed]"
    }
   },
   "cell_type": "markdown",
   "id": "5d5982c8",
   "metadata": {},
   "source": [
    "默认情况下，print() 输出的数据总是右对齐的。也就是说，当数据不够宽时，数据总是靠右边输出，而在左边补充空格以达到指定的宽度。Python 允许在最小宽度之前增加一个标志来改变对齐方式，Python 支持的标志如下：\n",
    "\n",
    "![image.png](attachment:image.png)\n",
    "\n",
    "几点说明：\n",
    "\n",
    "• 对于整数，指定左对齐时，在右边补 0 是没有效果的，因为这样会改变整数的值。\n",
    "\n",
    "• 对于小数，以上三个标志可以同时存在。\n",
    "\n",
    "• 对于字符串，只能使用-标志，因为符号对于字符串没有意义，而补 0 会改变字符串的值。\n",
    "\n",
    "请看下面的代码："
   ]
  },
  {
   "cell_type": "code",
   "execution_count": 52,
   "id": "ae1fe75b",
   "metadata": {},
   "outputs": [
    {
     "name": "stdout",
     "output_type": "stream",
     "text": [
      "n(09):000123456\n",
      "n(+9):  +123456\n",
      "f(-+0):+140.500000\n",
      "s(-10):Hello     .\n"
     ]
    }
   ],
   "source": [
    "n = 123456\n",
    "# %09d 表示最小宽度为9，左边补0\n",
    "print(\"n(09):%09d\" % n)\n",
    "# %+9d 表示最小宽度为9，带上符号\n",
    "print(\"n(+9):%+9d\" % n)\n",
    "f = 140.5\n",
    "# %-+010f 表示最小宽度为10，左对齐，带上符号\n",
    "print(\"f(-+0):%-+010f\" % f)\n",
    "s = \"Hello\"\n",
    "# %-10s 表示最小宽度为10，左对齐\n",
    "print(\"s(-10):%-10s.\" % s)"
   ]
  },
  {
   "cell_type": "markdown",
   "id": "15b723f5",
   "metadata": {},
   "source": [
    "#### 指定小数精度"
   ]
  },
  {
   "cell_type": "markdown",
   "id": "81befa31",
   "metadata": {},
   "source": [
    "对于小数（浮点数），print() 还允许指定小数点后的数字位数，也即指定小数的输出精度。\n",
    "\n",
    "精度值需要放在最小宽度之后，中间用点号.隔开；也可以不写最小宽度，只写精度。具体格式如下：\n",
    "\n",
    "%m.nf\n",
    "\n",
    "%.nf\n",
    "\n",
    "m 表示最小宽度，n 表示输出精度，.是必须存在的。\n",
    "\n",
    "请看下面的代码："
   ]
  },
  {
   "cell_type": "code",
   "execution_count": 53,
   "id": "6d279a20",
   "metadata": {},
   "outputs": [
    {
     "name": "stdout",
     "output_type": "stream",
     "text": [
      "   3.142\n",
      "0003.142\n",
      "+003.142\n"
     ]
    }
   ],
   "source": [
    "f = 3.141592653\n",
    "# 最小宽度为8，小数点后保留3位\n",
    "print(\"%8.3f\" % f)\n",
    "# 最小宽度为8，小数点后保留3位，左边补0\n",
    "print(\"%08.3f\" % f)\n",
    "# 最小宽度为8，小数点后保留3位，左边补0，带符号\n",
    "print(\"%+08.3f\" % f)"
   ]
  },
  {
   "cell_type": "markdown",
   "id": "d35dfab0",
   "metadata": {},
   "source": [
    "## 12、转义字符"
   ]
  },
  {
   "cell_type": "markdown",
   "id": "827309e2",
   "metadata": {},
   "source": [
    "ASCII 编码为每个字符都分配了唯一的编号，称为编码值。在 Python 中，一个 ASCII 字符除了可以用它的实体（也就是真正的字符）表示，还可以用它的编码值表示。这种使用编码值来间接地表示字符的方式称为转义字符（Escape Character）。\n",
    "\n",
    "转义字符以\\0或者\\x开头，以\\0开头表示后跟八进制形式的编码值，以\\x开头表示后跟十六进制形式的编码值，Python 中的转义字符只能使用八进制或者十六进制。具体格式如下：\n",
    "\n",
    "\\0dd\n",
    "\n",
    "\\xhh\n",
    "\n",
    "dd 表示八进制数字，hh 表示十六进制数字。\n",
    "\n",
    "ASCII 编码共收录了 128 个字符，\\0和\\x后面最多只能跟两位数字，所以八进制形式\\0并不能表示所有的 ASCII 字符，只有十六进制形式\\x才能表示所有 ASCII 字符。\n",
    "\n",
    "我们一直在说 ASCII 编码，没有提及 Unicode、GBK、Big5 等其它编码（字符集），是因为 Python 转义字符只对 ASCII 编码（128 个字符）有效，超出范围的行为是不确定的。\n",
    "\n",
    "字符 1、2、3、x、y、z 对应的 ASCII 码的八进制形式分别是 61、62、63、170、171、172，十六进制形式分别是 31、32、33、78、79、7A。下面的例子演示了转义字符的用法："
   ]
  },
  {
   "cell_type": "code",
   "execution_count": 54,
   "id": "6e0f5559",
   "metadata": {},
   "outputs": [
    {
     "name": "stdout",
     "output_type": "stream",
     "text": [
      "Oct: 123\n",
      "Hex: 123xyz\n"
     ]
    }
   ],
   "source": [
    "str1 = \"Oct: \\061\\062\\063\"\n",
    "str2 = \"Hex: \\x31\\x32\\x33\\x78\\x79\\x7A\"\n",
    "print(str1)\n",
    "print(str2)"
   ]
  },
  {
   "attachments": {
    "image.png": {
     "image/png": "[encoded data removed]"
    }
   },
   "cell_type": "markdown",
   "id": "e4dfe956",
   "metadata": {},
   "source": [
    "注意，使用八进制形式的转义字符没法表示 xyz，因为它们的编码值转换成八进制以后有三位。\n",
    "\n",
    "对于 ASCII 编码，0~31（十进制）范围内的字符为控制字符，它们都是看不见的，不能在显示器上显示，甚至无法从键盘输入，只能用转义字符的形式来表示。不过，直接使用 ASCII 码记忆不方便，也不容易理解，所以，针对常用的控制字符，C语言又定义了简写方式，完整的列表如下。\n",
    "\n",
    "![image.png](attachment:image.png)\n",
    "\n",
    "转义字符在书写形式上由多个字符组成，但 Python 将它们看作是一个整体，表示一个字符。\n",
    "\n",
    "Python 转义字符综合示例："
   ]
  },
  {
   "cell_type": "code",
   "execution_count": 55,
   "id": "180ba224",
   "metadata": {},
   "outputs": [
    {
     "name": "stdout",
     "output_type": "stream",
     "text": [
      "网站\t\t域名\t\t\t年龄\t\t价值\n",
      "GitHub\t\tgithub.com/\t\t8\t\t500000W\n",
      "百度\t\twww.baidu.com\t\t20\t\t500000W\n",
      "--------------------\n",
      "Python教程：https://github.com/Kiveiru-c547/PythonTutorial\n",
      "C++教程：https://github.com/Kiveiru-c547/CPPTutorial\n",
      "C语言教程：https://github.com/Kiveiru-c547/CTutorial\n"
     ]
    }
   ],
   "source": [
    "#使用\\t排版\n",
    "str1 = '网站\\t\\t域名\\t\\t\\t年龄\\t\\t价值'\n",
    "str2 = 'GitHub\\t\\tgithub.com/\\t\\t8\\t\\t500000W'\n",
    "str3 = '百度\\t\\twww.baidu.com\\t\\t20\\t\\t500000W'\n",
    "print(str1)\n",
    "print(str2)\n",
    "print(str3)\n",
    "print(\"--------------------\")\n",
    "# \\n在输出时换行，\\在书写字符串时换行\n",
    "info = \"Python教程：https://github.com/Kiveiru-c547/PythonTutorial\\n\\\n",
    "C++教程：https://github.com/Kiveiru-c547/CPPTutorial\\n\\\n",
    "C语言教程：https://github.com/Kiveiru-c547/CTutorial\"\n",
    "print(info)"
   ]
  },
  {
   "cell_type": "markdown",
   "id": "2c6b0645",
   "metadata": {},
   "source": [
    "## 13、数据类型转换"
   ]
  },
  {
   "attachments": {
    "image.png": {
     "image/png": "[encoded data removed]"
    }
   },
   "cell_type": "markdown",
   "id": "7a60e600",
   "metadata": {},
   "source": [
    "虽然 Python 是弱类型编程语言，不需要像 Java 或 C 语言那样还要在使用变量前声明变量的类型，但在一些特定场景中，仍然需要用到类型转换。\n",
    "\n",
    "比如说，我们想通过使用 print() 函数输出信息“您的身高：”以及浮点类型 height 的值，如果在交互式解释器中执行如下代码：\n",
    "\n",
    "\\>\\>\\> height = 70.0\n",
    "\n",
    "\\>\\>\\> print(\"您的身高\"+height)\n",
    "\n",
    "Traceback (most recent call last):\n",
    "\n",
    "  File \"<pyshell#1>\", line 1, in <module>\n",
    "    \n",
    "    print(\"您的身高\"+height)\n",
    "    \n",
    "TypeError: must be str, not float\n",
    "    \n",
    "你会发现这是错误的，解释器提示我们字符串和浮点类型变量不能直接相连，需要提前将浮点类型变量 height 转换为字符串才可以。\n",
    "\n",
    "庆幸的是，Python 已经为我们提供了多种可实现数据类型转换的函数，如表 1 所示。\n",
    "\n",
    "![image.png](attachment:image.png)\n",
    "\n",
    "需要注意的是，在使用类型转换函数时，提供给它的数据必须是有意义的。例如，int() 函数无法将一个非数字字符串转换成整数：\n",
    "    \n",
    "\\>\\>\\> int(\"123\") #转换成功\n",
    "\n",
    "123\n",
    "\n",
    "\\>\\>\\> int(\"123个\") #转换失败\n",
    "\n",
    "Traceback (most recent call last):\n",
    "\n",
    "  File \"<pyshell#3>\", line 1, in <module>\n",
    "\n",
    "    int(\"123个\")\n",
    "\n",
    "ValueError: invalid literal for int() with base 10: '123个'\n",
    "\n",
    "\\>\\>\\>"
   ]
  },
  {
   "cell_type": "markdown",
   "id": "2d665ecc",
   "metadata": {},
   "source": [
    "## 14、算术运算符"
   ]
  },
  {
   "attachments": {
    "image.png": {
     "image/png": "[encoded data removed]"
    }
   },
   "cell_type": "markdown",
   "id": "d1869a39",
   "metadata": {},
   "source": [
    "算术运算符也即数学运算符，用来对数字进行数学运算，比如加减乘除。下表列出了 Python 支持所有基本算术运算符。\n",
    "\n",
    "![image.png](attachment:image.png)\n",
    "\n",
    "接下来将对表 1 中各个算术运算符的用法逐一讲解。"
   ]
  },
  {
   "cell_type": "markdown",
   "id": "38a8857a",
   "metadata": {},
   "source": [
    "### + 加法运算符"
   ]
  },
  {
   "cell_type": "markdown",
   "id": "256a8d81",
   "metadata": {},
   "source": [
    "加法运算符很简单，和数学中的规则一样，请看下面的代码："
   ]
  },
  {
   "cell_type": "code",
   "execution_count": 56,
   "id": "9527a240",
   "metadata": {},
   "outputs": [
    {
     "name": "stdout",
     "output_type": "stream",
     "text": [
      "sum1=107, sum2=22.50\n"
     ]
    }
   ],
   "source": [
    "m = 10\n",
    "n = 97\n",
    "sum1 = m + n\n",
    "x = 7.2\n",
    "y = 15.3\n",
    "sum2 = x + y\n",
    "print(\"sum1=%d, sum2=%.2f\" % (sum1, sum2) )"
   ]
  },
  {
   "cell_type": "markdown",
   "id": "de34485f",
   "metadata": {},
   "source": [
    "#### 拼接字符串"
   ]
  },
  {
   "cell_type": "markdown",
   "id": "b1aa26bb",
   "metadata": {},
   "source": [
    "当+用于数字时表示加法，但是当+用于字符串时，它还有拼接字符串（将两个字符串连接为一个）的作用，请看代码："
   ]
  },
  {
   "cell_type": "code",
   "execution_count": 57,
   "id": "393b7927",
   "metadata": {},
   "outputs": [
    {
     "name": "stdout",
     "output_type": "stream",
     "text": [
      "Python Tutorial的网址是https://github.com/Kiveiru-c547/PythonTutorial，它已经1岁了。\n"
     ]
    }
   ],
   "source": [
    "name = \"Python Tutorial\"\n",
    "url = \"https://github.com/Kiveiru-c547/PythonTutorial\"\n",
    "age = 1\n",
    "info = name + \"的网址是\" + url + \"，它已经\" + str(age) + \"岁了。\"\n",
    "print(info)"
   ]
  },
  {
   "cell_type": "markdown",
   "id": "f5b22cfd",
   "metadata": {},
   "source": [
    "str() 函数用来将整数类型的 age 转换成字符串。"
   ]
  },
  {
   "cell_type": "markdown",
   "id": "d0170ed1",
   "metadata": {},
   "source": [
    "### - 减法运算符"
   ]
  },
  {
   "cell_type": "markdown",
   "id": "e949a14f",
   "metadata": {},
   "source": [
    "减法运算也和数学中的规则相同，请看代码："
   ]
  },
  {
   "cell_type": "code",
   "execution_count": 58,
   "id": "3801decc",
   "metadata": {},
   "outputs": [
    {
     "name": "stdout",
     "output_type": "stream",
     "text": [
      "-45 , 83.5\n"
     ]
    }
   ],
   "source": [
    "n = 45\n",
    "m = -n\n",
    "x = -83.5\n",
    "y = -x\n",
    "print(m, \",\", y)"
   ]
  },
  {
   "cell_type": "markdown",
   "id": "176542a8",
   "metadata": {},
   "source": [
    "#### 求负"
   ]
  },
  {
   "cell_type": "markdown",
   "id": "9898a53d",
   "metadata": {},
   "source": [
    "-除了可以用作减法运算之外，还可以用作求负运算（正数变负数，负数变正数），请看下面的代码："
   ]
  },
  {
   "cell_type": "code",
   "execution_count": 59,
   "id": "453b60c7",
   "metadata": {},
   "outputs": [
    {
     "name": "stdout",
     "output_type": "stream",
     "text": [
      "-45 , 83.5\n"
     ]
    }
   ],
   "source": [
    "n = 45\n",
    "n_neg = -n\n",
    "f = -83.5\n",
    "f_neg = -f\n",
    "print(n_neg, \",\", f_neg)"
   ]
  },
  {
   "cell_type": "markdown",
   "id": "2954dc29",
   "metadata": {},
   "source": [
    "注意，单独使用+是无效的，不会改变数字的值，例如："
   ]
  },
  {
   "cell_type": "code",
   "execution_count": 60,
   "id": "153f96fd",
   "metadata": {},
   "outputs": [
    {
     "name": "stdout",
     "output_type": "stream",
     "text": [
      "45 , -83.5\n"
     ]
    }
   ],
   "source": [
    "n = 45\n",
    "m = +n\n",
    "x = -83.5\n",
    "y = +x\n",
    "print(m, \",\", y)"
   ]
  },
  {
   "cell_type": "markdown",
   "id": "fb74af1b",
   "metadata": {},
   "source": [
    "### ＊乘法运算符"
   ]
  },
  {
   "cell_type": "markdown",
   "id": "8ff46242",
   "metadata": {},
   "source": [
    "乘法运算也和数学中的规则相同，请看代码："
   ]
  },
  {
   "cell_type": "code",
   "execution_count": 61,
   "id": "200db161",
   "metadata": {},
   "outputs": [
    {
     "name": "stdout",
     "output_type": "stream",
     "text": [
      "100 , 69.0\n"
     ]
    }
   ],
   "source": [
    "n = 4 * 25\n",
    "f = 34.5 * 2\n",
    "print(n, \",\", f)"
   ]
  },
  {
   "cell_type": "markdown",
   "id": "90f8b748",
   "metadata": {},
   "source": [
    "#### 重复字符串"
   ]
  },
  {
   "cell_type": "markdown",
   "id": "64a8559c",
   "metadata": {},
   "source": [
    "*除了可以用作乘法运算，还可以用来重复字符串，也即将 n 个同样的字符串连接起来，请看代码："
   ]
  },
  {
   "cell_type": "code",
   "execution_count": 62,
   "id": "ad5817d7",
   "metadata": {},
   "outputs": [
    {
     "name": "stdout",
     "output_type": "stream",
     "text": [
      "hello hello hello hello \n"
     ]
    }
   ],
   "source": [
    "str1 = \"hello \"\n",
    "print(str1 * 4)"
   ]
  },
  {
   "cell_type": "markdown",
   "id": "059b79bb",
   "metadata": {},
   "source": [
    "### / 和 // 除法运算符"
   ]
  },
  {
   "cell_type": "markdown",
   "id": "a12ad2f1",
   "metadata": {},
   "source": [
    "Python 支持/和//两个除法运算符，但它们之间是有区别的：\n",
    "\n",
    "• /表示普通除法，使用它计算出来的结果和数学中的计算结果相同。\n",
    "\n",
    "• //表示整除，只保留结果的整数部分，舍弃小数部分；注意是直接丢掉小数部分，而不是四舍五入。\n",
    "\n",
    "请看下面的例子："
   ]
  },
  {
   "cell_type": "code",
   "execution_count": 63,
   "id": "ae35b5ee",
   "metadata": {},
   "outputs": [
    {
     "name": "stdout",
     "output_type": "stream",
     "text": [
      "23/5 = 4.6\n",
      "23//5 = 4\n",
      "23.0//5 = 4.0\n",
      "-------------------\n",
      "25/5 = 5.0\n",
      "25//5 = 5\n",
      "25.0//5 = 5.0\n",
      "-------------------\n",
      "12.4/3.5 = 3.542857142857143\n",
      "12.4//3.5 = 3.0\n"
     ]
    }
   ],
   "source": [
    "#整数不能除尽\n",
    "print(\"23/5 =\", 23/5)\n",
    "print(\"23//5 =\", 23//5)\n",
    "print(\"23.0//5 =\", 23.0//5)\n",
    "print(\"-------------------\")\n",
    "#整数能除尽\n",
    "print(\"25/5 =\", 25/5)\n",
    "print(\"25//5 =\", 25//5)\n",
    "print(\"25.0//5 =\", 25.0//5)\n",
    "print(\"-------------------\")\n",
    "#小数除法\n",
    "print(\"12.4/3.5 =\", 12.4/3.5)\n",
    "print(\"12.4//3.5 =\", 12.4//3.5)"
   ]
  },
  {
   "cell_type": "markdown",
   "id": "e04b63fe",
   "metadata": {},
   "source": [
    "从运行结果可以发现：\n",
    "\n",
    "• /的计算结果总是小数，不管是否能除尽，也不管参与运算的是整数还是小数。\n",
    "\n",
    "• 当有小数参与运算时，//结果才是小数，否则就是整数。\n",
    "\n",
    "需要注意的是，除数始终不能为 0，除以 0 是没有意义的，这将导致 ZeroDivisionError 错误。在某些编程语言中，除以 0 的结果是无穷大（包括正无穷大和负无穷大）。\n",
    "\n",
    "Python 2.x 中的除法\n",
    "\n",
    "Python 2.x 只提供了一种除法运算，就是/，它的行为和大部分编程语言中/的行为是一样的：\n",
    "\n",
    "• 当/两边都是整数时，结果始终是整数；如果不能除尽，就直接舍弃小数部分。\n",
    "\n",
    "• 当/两边有一个是小数时，结果始终是小数；如果恰好除尽，小数部分就是 0。\n",
    "\n",
    "请看下面的代码：\n",
    "\n",
    "\t1. #整数除法\n",
    "    \n",
    "\t2. print \"18/6 =\", 18/6\n",
    "    \n",
    "\t3. print \"47/7 =\", 47/7\n",
    "    \n",
    "\t4. print \"----------------\"\n",
    "    \n",
    "\t5. #小数除法\n",
    "    \n",
    "\t6. print \"18.0/6 =\", 18.0/6\n",
    "    \n",
    "\t7. print \"47.0/7 =\", 47.0/7\n",
    "    \n",
    "\t8. print \"29.5/4.2 =\", 29.5/4.2\n",
    "    \n",
    "运行结果：\n",
    "\n",
    "18/6 = 3\n",
    "\n",
    "47/7 = 6\n",
    "\n",
    "\\----------------\n",
    "\n",
    "18.0/6 = 3.0\n",
    "\n",
    "47.0/7 = 6.71428571429\n",
    "\n",
    "29.5/4.2 = 7.02380952381\n",
    "\n",
    "可以将 Python 2.x 中的/看作 Python 3.x 中/和//的结合体，因为 Python 2.x 中/的行为有点奇怪，所以 Python 3.x 增加了//运算符，用以规范除法运算的行为。"
   ]
  },
  {
   "cell_type": "markdown",
   "id": "0227e87b",
   "metadata": {},
   "source": [
    "### % 求余运算符"
   ]
  },
  {
   "cell_type": "markdown",
   "id": "31642409",
   "metadata": {},
   "source": [
    "Python % 运算符用来求得两个数相除的余数，包括整数和小数。Python 使用第一个数字除以第二个数字，得到一个整数的商，剩下的值就是余数。对于小数，求余的结果一般也是小数。\n",
    "\n",
    "注意，求余运算的本质是除法运算，所以第二个数字也不能是 0，否则会导致 ZeroDivisionError 错误。\n",
    "\n",
    "Python % 使用示例："
   ]
  },
  {
   "cell_type": "code",
   "execution_count": 64,
   "id": "3e301da5",
   "metadata": {},
   "outputs": [
    {
     "name": "stdout",
     "output_type": "stream",
     "text": [
      "-----整数求余-----\n",
      "15%6 = 3\n",
      "-15%6 = 3\n",
      "15%-6 = -3\n",
      "-15%-6 = -3\n",
      "-----小数求余-----\n",
      "7.7%2.2 = 1.0999999999999996\n",
      "-7.7%2.2 = 1.1000000000000005\n",
      "7.7%-2.2 = -1.1000000000000005\n",
      "-7.7%-2.2 = -1.0999999999999996\n",
      "---整数和小数运算---\n",
      "23.5%6 = 5.5\n",
      "23%6.5 = 3.5\n",
      "23.5%-6 = -0.5\n",
      "-23%6.5 = 3.0\n",
      "-23%-6.5 = -3.5\n"
     ]
    }
   ],
   "source": [
    "print(\"-----整数求余-----\")\n",
    "print(\"15%6 =\", 15%6)\n",
    "print(\"-15%6 =\", -15%6)\n",
    "print(\"15%-6 =\", 15%-6)\n",
    "print(\"-15%-6 =\", -15%-6)\n",
    "print(\"-----小数求余-----\")\n",
    "print(\"7.7%2.2 =\", 7.7%2.2)\n",
    "print(\"-7.7%2.2 =\", -7.7%2.2)\n",
    "print(\"7.7%-2.2 =\", 7.7%-2.2)\n",
    "print(\"-7.7%-2.2 =\", -7.7%-2.2)\n",
    "print(\"---整数和小数运算---\")\n",
    "print(\"23.5%6 =\", 23.5%6)\n",
    "print(\"23%6.5 =\", 23%6.5)\n",
    "print(\"23.5%-6 =\", 23.5%-6)\n",
    "print(\"-23%6.5 =\", -23%6.5)\n",
    "print(\"-23%-6.5 =\", -23%-6.5)"
   ]
  },
  {
   "cell_type": "markdown",
   "id": "1cfb8143",
   "metadata": {},
   "source": [
    "从运行结果可以发现两点：\n",
    "\n",
    "• 只有当第二个数字是负数时，求余的结果才是负数。换句话说，求余结果的正负和第一个数字没有关系，只由第二个数字决定。\n",
    "\n",
    "• %两边的数字都是整数时，求余的结果也是整数；但是只要有一个数字是小数，求余的结果就是小数。\n",
    "\n",
    "本例中小数求余的四个结果都不精确，而是近似值，这和小数在底层的存储有关系。"
   ]
  },
  {
   "cell_type": "markdown",
   "id": "47a532b1",
   "metadata": {},
   "source": [
    "### ** 次方（乘方）运算符"
   ]
  },
  {
   "cell_type": "markdown",
   "id": "60ed56db",
   "metadata": {},
   "source": [
    "Python ** 运算符用来求一个 x 的 y 次方，也即次方（乘方）运算符。\n",
    "\n",
    "由于开方是次方的逆运算，所以也可以使用 ** 运算符间接地实现开方运算。\n",
    "\n",
    "Python ** 运算符示例："
   ]
  },
  {
   "cell_type": "code",
   "execution_count": 65,
   "id": "082e6b82",
   "metadata": {},
   "outputs": [
    {
     "name": "stdout",
     "output_type": "stream",
     "text": [
      "----次方运算----\n",
      "3**4 = 81\n",
      "2**5 = 32\n",
      "----开方运算----\n",
      "81**(1/4) = 3.0\n",
      "32**(1/5) = 2.0\n"
     ]
    }
   ],
   "source": [
    "print('----次方运算----')\n",
    "print('3**4 =', 3**4)\n",
    "print('2**5 =', 2**5)\n",
    "print('----开方运算----')\n",
    "print('81**(1/4) =', 81**(1/4))\n",
    "print('32**(1/5) =', 32**(1/5))"
   ]
  },
  {
   "cell_type": "markdown",
   "id": "7d5185a8",
   "metadata": {},
   "source": [
    "## 15、赋值运算符"
   ]
  },
  {
   "cell_type": "markdown",
   "id": "ca3e97e8",
   "metadata": {},
   "source": [
    "赋值运算符用来把右侧的值传递给左侧的变量（或者常量）；可以直接将右侧的值交给左侧的变量，也可以进行某些运算后再交给左侧的变量，比如加减乘除、函数调用、逻辑运算等。\n",
    "\n",
    "Python 中最基本的赋值运算符是等号=；结合其它运算符，=还能扩展出更强大的赋值运算符。"
   ]
  },
  {
   "cell_type": "markdown",
   "id": "44f7a9b5",
   "metadata": {},
   "source": [
    "### 基本赋值运算符"
   ]
  },
  {
   "cell_type": "markdown",
   "id": "e831e9bd",
   "metadata": {},
   "source": [
    "=是 Python 中最常见、最基本的赋值运算符，用来将一个表达式的值赋给另一个变量，请看下面的例子："
   ]
  },
  {
   "cell_type": "code",
   "execution_count": 66,
   "id": "10093279",
   "metadata": {},
   "outputs": [],
   "source": [
    "#将字面量（直接量）赋值给变量\n",
    "n1 = 100\n",
    "f1 = 47.5\n",
    "s1 = \"Kiveiru\"\n",
    "#将一个变量的值赋给另一个变量\n",
    "n2 = n1\n",
    "f2 = f1\n",
    "#将某些运算的值赋给变量\n",
    "sum1 = 25 + 46 \n",
    "sum2 = n1 % 6\n",
    "s2 = str(1234)  #将数字转换成字符串\n",
    "s3 = str(100) + \"abc\""
   ]
  },
  {
   "cell_type": "markdown",
   "id": "a4b1db71",
   "metadata": {},
   "source": [
    "#### 连续赋值"
   ]
  },
  {
   "cell_type": "markdown",
   "id": "5dbfffcd",
   "metadata": {},
   "source": [
    "Python 中的赋值表达式也是有值的，它的值就是被赋的那个值，或者说是左侧变量的值；如果将赋值表达式的值再赋值给另外一个变量，这就构成了连续赋值。请看下面的例子："
   ]
  },
  {
   "cell_type": "code",
   "execution_count": 67,
   "id": "6542e7eb",
   "metadata": {},
   "outputs": [],
   "source": [
    "a = b = c = 100"
   ]
  },
  {
   "cell_type": "markdown",
   "id": "dd978728",
   "metadata": {},
   "source": [
    "=具有右结合性，我们从右到左分析这个表达式：\n",
    "\n",
    "• c = 100 表示将 100 赋值给 c，所以 c 的值是 100；同时，c = 100 这个子表达式的值也是 100。\n",
    "\n",
    "• b = c = 100 表示将 c = 100 的值赋给 b，因此 b 的值也是 100。\n",
    "\n",
    "• 以此类推，a 的值也是 100。\n",
    "\n",
    "最终结果就是，a、b、c 三个变量的值都是 100。"
   ]
  },
  {
   "cell_type": "markdown",
   "id": "5c5c4bcc",
   "metadata": {},
   "source": [
    "#### = 和 =="
   ]
  },
  {
   "cell_type": "markdown",
   "id": "c5ee6105",
   "metadata": {},
   "source": [
    "= 和 == 是两个不同的运算符，= 用来赋值，而 == 用来判断两边的值是否相等，千万不要混淆。"
   ]
  },
  {
   "cell_type": "markdown",
   "id": "543df5f3",
   "metadata": {},
   "source": [
    "### 扩展后的赋值运算符"
   ]
  },
  {
   "attachments": {
    "image.png": {
     "image/png": "[encoded data removed]"
    }
   },
   "cell_type": "markdown",
   "id": "c8a6b8b6",
   "metadata": {},
   "source": [
    "=还可与其他运算符（包括算术运算符、位运算符和逻辑运算符）相结合，扩展成为功能更加强大的赋值运算符，如表 1 所示。扩展后的赋值运算符将使得赋值表达式的书写更加优雅和方便。\n",
    "\n",
    "![image.png](attachment:image.png)\n",
    "\n",
    "这里举个简单的例子："
   ]
  },
  {
   "cell_type": "code",
   "execution_count": 68,
   "id": "27c9d7ab",
   "metadata": {},
   "outputs": [
    {
     "name": "stdout",
     "output_type": "stream",
     "text": [
      "n1=20\n",
      "f1=255.00\n"
     ]
    }
   ],
   "source": [
    "n1 = 100\n",
    "f1 = 25.5\n",
    "n1 -= 80  #等价于 n1=n1-80\n",
    "f1 *= n1 - 10 #等价于 f1=f1*( n1 - 10 )\n",
    "print(\"n1=%d\" % n1)\n",
    "print(\"f1=%.2f\" % f1)"
   ]
  },
  {
   "cell_type": "markdown",
   "id": "cd85a590",
   "metadata": {},
   "source": [
    "通常情况下，只要能使用扩展后的赋值运算符，都推荐使用这种赋值运算符。\n",
    "\n",
    "但是请注意，这种赋值运算符只能针对已经存在的变量赋值，因为赋值过程中需要变量本身参与运算，如果变量没有提前定义，它的值就是未知的，无法参与运算。例如，下面的写法就是错误的：\n",
    "n += 10\n",
    "该表达式等价于 n = n + 10，n 没有提前定义，所以它不能参与加法运算。"
   ]
  },
  {
   "cell_type": "markdown",
   "id": "c63f2f03",
   "metadata": {},
   "source": [
    "## 16、位运算符"
   ]
  },
  {
   "attachments": {
    "image.png": {
     "image/png": "[encoded data removed]"
    }
   },
   "cell_type": "markdown",
   "id": "4b18eb1e",
   "metadata": {},
   "source": [
    "Python 位运算按照数据在内存中的二进制位（Bit）进行操作，它一般用于底层开发（算法设计、驱动、图像处理、单片机等），在应用层开发（Web 开发、Linux 运维等）中并不常见。\n",
    "\n",
    "Python 位运算符只能用来操作整数类型，它按照整数在内存中的二进制形式进行计算。Python 支持的位运算符如表 1 所示。\n",
    "\n",
    "![image.png](attachment:image.png)"
   ]
  },
  {
   "cell_type": "markdown",
   "id": "2e78a214",
   "metadata": {},
   "source": [
    "### & 按位与运算符"
   ]
  },
  {
   "attachments": {
    "image.png": {
     "image/png": "[encoded data removed]"
    }
   },
   "cell_type": "markdown",
   "id": "599cd001",
   "metadata": {},
   "source": [
    "按位与运算符&的运算规则是：只有参与&运算的两个位都为 1 时，结果才为 1，否则为 0。例如1&1为 1，0&0为 0，1&0也为 0，这和逻辑运算符&&非常类似。\n",
    "\n",
    "![image.png](attachment:image.png)\n",
    "\n",
    "例如，9&5可以转换成如下的运算：\n",
    "\n",
    "  0000 0000 -- 0000 0000 -- 0000 0000 -- 0000 1001  （9 在内存中的存储）\n",
    "\n",
    "& 0000 0000 -- 0000 0000 -- 0000 0000 -- 0000 0101  （5 在内存中的存储）\n",
    "\n",
    "\\-----------------------------------------------------------------------------------\n",
    "\n",
    "  0000 0000 -- 0000 0000 -- 0000 0000 -- 0000 0001  （1 在内存中的存储）\n",
    "\n",
    "&运算符会对参与运算的两个整数的所有二进制位进行&运算，9&5的结果为 1。\n",
    "\n",
    "又如，-9&5可以转换成如下的运算：\n",
    "\n",
    "  1111 1111 -- 1111 1111 -- 1111 1111 -- 1111 0111  （-9 在内存中的存储）\n",
    "\n",
    "& 0000 0000 -- 0000 0000 -- 0000 0000 -- 0000 0101  （5 在内存中的存储）\n",
    "\n",
    "\\-----------------------------------------------------------------------------------\n",
    "\n",
    "  0000 0000 -- 0000 0000 -- 0000 0000 -- 0000 0101  （5 在内存中的存储）\n",
    "\n",
    "-9&5的结果是 5。\n",
    "\n",
    "再强调一遍，&运算符操作的是数据在内存中存储的原始二进制位，而不是数据本身的二进制形式；其他位运算符也一样。以-9&5为例，-9 的在内存中的存储和 -9 的二进制形式截然不同：\n",
    "\n",
    " 1111 1111 -- 1111 1111 -- 1111 1111 -- 1111 0111  （-9 在内存中的存储）\n",
    " \n",
    "-0000 0000 -- 0000 0000 -- 0000 0000 -- 0000 1001  （-9 的二进制形式，前面多余的0可以抹掉）\n",
    "\n",
    "按位与运算通常用来对某些位清 0，或者保留某些位。例如要把 n 的高 16 位清 0 ，保留低 16 位，可以进行n & 0XFFFF运算（0XFFFF 在内存中的存储形式为 0000 0000 -- 0000 0000 -- 1111 1111 -- 1111 1111）。\n",
    "\n",
    "使用 Python 代码对上面的分析进行验证："
   ]
  },
  {
   "cell_type": "code",
   "execution_count": 69,
   "id": "b360007e",
   "metadata": {},
   "outputs": [
    {
     "name": "stdout",
     "output_type": "stream",
     "text": [
      "1\n",
      "5\n",
      "2D\n"
     ]
    }
   ],
   "source": [
    "n = 0X8FA6002D\n",
    "print(\"%X\" % (9&5) )\n",
    "print(\"%X\" % (-9&5) )\n",
    "print(\"%X\" % (n&0XFFFF) )"
   ]
  },
  {
   "cell_type": "markdown",
   "id": "ed0ad8d8",
   "metadata": {},
   "source": [
    "### | 按位或运算符"
   ]
  },
  {
   "attachments": {
    "image.png": {
     "image/png": "[encoded data removed]"
    }
   },
   "cell_type": "markdown",
   "id": "eb62a289",
   "metadata": {},
   "source": [
    "按位或运算符|的运算规则是：两个二进制位有一个为 1 时，结果就为 1，两个都为 0 时结果才为 0。例如1|1为 1，0|0为0，1|0 为1，这和逻辑运算中的||非常类似。\n",
    "\n",
    "![image.png](attachment:image.png)\n",
    "\n",
    "例如，9 | 5可以转换成如下的运算：\n",
    "\n",
    "  0000 0000 -- 0000 0000 -- 0000 0000 -- 0000 1001  （9 在内存中的存储）\n",
    "\n",
    "| 0000 0000 -- 0000 0000 -- 0000 0000 -- 0000 0101  （5 在内存中的存储）\n",
    "\n",
    "\\-----------------------------------------------------------------------------------\n",
    "\n",
    "  0000 0000 -- 0000 0000 -- 0000 0000 -- 0000 1101  （13 在内存中的存储）\n",
    "\n",
    "9 | 5的结果为 13。\n",
    "\n",
    "又如，-9 | 5可以转换成如下的运算：\n",
    "\n",
    "  1111 1111 -- 1111 1111 -- 1111 1111 -- 1111 0111  （-9 在内存中的存储）\n",
    "\n",
    "| 0000 0000 -- 0000 0000 -- 0000 0000 -- 0000 0101  （5 在内存中的存储）\n",
    "\n",
    "\\-----------------------------------------------------------------------------------\n",
    "\n",
    "  1111 1111 -- 1111 1111 -- 1111 1111 -- 1111 0111  （-9 在内存中的存储）\n",
    "\n",
    "-9 | 5的结果是 -9。\n",
    "\n",
    "按位或运算可以用来将某些位置 1，或者保留某些位。例如要把 n 的高 16 位置 1，保留低 16 位，可以进行n | 0XFFFF0000运算（0XFFFF0000 在内存中的存储形式为 1111 1111 -- 1111 1111 -- 0000 0000 -- 0000 0000）。\n",
    "\n",
    "使用 Python 代码对上面的分析进行验证："
   ]
  },
  {
   "cell_type": "code",
   "execution_count": 70,
   "id": "fc80c128",
   "metadata": {},
   "outputs": [
    {
     "name": "stdout",
     "output_type": "stream",
     "text": [
      "D\n",
      "-9\n",
      "FFFF002D\n"
     ]
    }
   ],
   "source": [
    "n = 0X2D\n",
    "print(\"%X\" % (9|5) )\n",
    "print(\"%X\" % (-9|5) )\n",
    "print(\"%X\" % (n|0XFFFF0000) )"
   ]
  },
  {
   "cell_type": "markdown",
   "id": "ef0905f3",
   "metadata": {},
   "source": [
    "### ^按位异或运算符"
   ]
  },
  {
   "attachments": {
    "image.png": {
     "image/png": "[encoded data removed]"
    }
   },
   "cell_type": "markdown",
   "id": "b47a93b3",
   "metadata": {},
   "source": [
    "按位异或运算^的运算规则是：参与运算的两个二进制位不同时，结果为 1，相同时结果为 0。例如0^1为 1，0^0为 0，1^1为 0。\n",
    "\n",
    "![image.png](attachment:image.png)\n",
    "\n",
    "例如，9 ^ 5可以转换成如下的运算：\n",
    "\n",
    "  0000 0000 -- 0000 0000 -- 0000 0000 -- 0000 1001  （9 在内存中的存储）\n",
    " \n",
    "^ 0000 0000 -- 0000 0000 -- 0000 0000 -- 0000 0101  （5 在内存中的存储）\n",
    "\n",
    "\\-----------------------------------------------------------------------------------\n",
    "\n",
    "  0000 0000 -- 0000 0000 -- 0000 0000 -- 0000 1100  （12 在内存中的存储）\n",
    "\n",
    "9 ^ 5的结果为 12。\n",
    "\n",
    "又如，-9 ^ 5可以转换成如下的运算：\n",
    "\n",
    "  1111 1111 -- 1111 1111 -- 1111 1111 -- 1111 0111  （-9 在内存中的存储）\n",
    "\n",
    "^ 0000 0000 -- 0000 0000 -- 0000 0000 -- 0000 0101  （5 在内存中的存储）\n",
    "\n",
    "\\-----------------------------------------------------------------------------------\n",
    "\n",
    "   1111 1111 -- 1111 1111 -- 1111 1111 -- 1111 0010  （-14 在内存中的存储）\n",
    "\n",
    "-9 ^ 5的结果是 -14。\n",
    "\n",
    "按位异或运算可以用来将某些二进制位反转。例如要把 n 的高 16 位反转，保留低 16 位，可以进行n ^ 0XFFFF0000运算（0XFFFF0000 在内存中的存储形式为 1111 1111 -- 1111 1111 -- 0000 0000 -- 0000 0000）。\n",
    "\n",
    "使用 Python 代码对上面的分析进行验证："
   ]
  },
  {
   "cell_type": "code",
   "execution_count": 71,
   "id": "5e926058",
   "metadata": {},
   "outputs": [
    {
     "name": "stdout",
     "output_type": "stream",
     "text": [
      "C\n",
      "-E\n",
      "F5F8002D\n"
     ]
    }
   ],
   "source": [
    "n = 0X0A07002D\n",
    "print(\"%X\" % (9^5) )\n",
    "print(\"%X\" % (-9^5) )\n",
    "print(\"%X\" % (n^0XFFFF0000) )"
   ]
  },
  {
   "cell_type": "markdown",
   "id": "e4a8ac1f",
   "metadata": {},
   "source": [
    "### ~按位取反运算符"
   ]
  },
  {
   "cell_type": "markdown",
   "id": "47bd07db",
   "metadata": {},
   "source": [
    "按位取反运算符~为单目运算符（只有一个操作数），右结合性，作用是对参与运算的二进制位取反。例如~1为0，~0为1，这和逻辑运算中的!非常类似。\n",
    "\n",
    "例如，~9可以转换为如下的运算：\n",
    "\n",
    "~ 0000 0000 -- 0000 0000 -- 0000 0000 -- 0000 1001  （9 在内存中的存储）\n",
    "\n",
    "\\-----------------------------------------------------------------------------------\n",
    "\n",
    "  1111 1111 -- 1111 1111 -- 1111 1111 -- 1111 0110  （-10 在内存中的存储）\n",
    "\n",
    "所以~9的结果为 -10。\n",
    "\n",
    "例如，~-9可以转换为如下的运算：\n",
    "\n",
    "~ 1111 1111 -- 1111 1111 -- 1111 1111 -- 1111 0111  （-9 在内存中的存储）\n",
    "\n",
    "\\-----------------------------------------------------------------------------------\n",
    "\n",
    "  0000 0000 -- 0000 0000 -- 0000 0000 -- 0000 1000  （8 在内存中的存储）\n",
    "\n",
    "所以~-9的结果为 8。\n",
    "\n",
    "使用 Python 代码对上面的分析进行验证："
   ]
  },
  {
   "cell_type": "code",
   "execution_count": 72,
   "id": "56c53d9f",
   "metadata": {},
   "outputs": [
    {
     "name": "stdout",
     "output_type": "stream",
     "text": [
      "-A\n",
      "8\n"
     ]
    }
   ],
   "source": [
    "print(\"%X\" % (~9) )\n",
    "print(\"%X\" % (~-9) )"
   ]
  },
  {
   "cell_type": "markdown",
   "id": "308d35d9",
   "metadata": {},
   "source": [
    "### <<左移运算符"
   ]
  },
  {
   "cell_type": "markdown",
   "id": "6a4c2a70",
   "metadata": {},
   "source": [
    "Python 左移运算符<<用来把操作数的各个二进制位全部左移若干位，高位丢弃，低位补 0。\n",
    "\n",
    "例如，9<<3可以转换为如下的运算：\n",
    "\n",
    "<< 0000 0000 -- 0000 0000 -- 0000 0000 -- 0000 1001  （9 在内存中的存储）\n",
    "\n",
    "-----------------------------------------------------------------------------------\n",
    "\n",
    "   0000 0000 -- 0000 0000 -- 0000 0000 -- 0100 1000  （72 在内存中的存储）\n",
    "\n",
    "所以9<<3的结果为 72。\n",
    "\n",
    "又如，(-9)<<3可以转换为如下的运算：\n",
    "\n",
    "<< 1111 1111 -- 1111 1111 -- 1111 1111 -- 1111 0111  （-9 在内存中的存储）\n",
    "\n",
    "\\-----------------------------------------------------------------------------------\n",
    "\n",
    "  1111 1111 -- 1111 1111 -- 1111 1111 -- 1011 1000  （-72 在内存中的存储）\n",
    "\n",
    "所以(-9)<<3的结果为 -72\n",
    "\n",
    "如果数据较小，被丢弃的高位不包含 1，那么左移 n 位相当于乘以 2 的 n 次方。\n",
    "\n",
    "使用 Python 代码对上面的分析进行验证："
   ]
  },
  {
   "cell_type": "code",
   "execution_count": 73,
   "id": "9b333eaa",
   "metadata": {},
   "outputs": [
    {
     "name": "stdout",
     "output_type": "stream",
     "text": [
      "48\n",
      "-48\n"
     ]
    }
   ],
   "source": [
    "print(\"%X\" % (9<<3) )\n",
    "print(\"%X\" % ((-9)<<3) )"
   ]
  },
  {
   "cell_type": "markdown",
   "id": "d9ba76f7",
   "metadata": {},
   "source": [
    "### >>右移运算符"
   ]
  },
  {
   "cell_type": "markdown",
   "id": "d5f3d087",
   "metadata": {},
   "source": [
    "Python 右移运算符>>用来把操作数的各个二进制位全部右移若干位，低位丢弃，高位补 0 或 1。如果数据的最高位是 0，那么就补 0；如果最高位是 1，那么就补 1。\n",
    "\n",
    "例如，9>>3可以转换为如下的运算：\n",
    "\n",
    "\\>> 0000 0000 -- 0000 0000 -- 0000 0000 -- 0000 1001  （9 在内存中的存储）\n",
    "\n",
    "\\-----------------------------------------------------------------------------------\n",
    "\n",
    "   0000 0000 -- 0000 0000 -- 0000 0000 -- 0000 0001  （1 在内存中的存储）\n",
    "\n",
    "所以9 >> 3的结果为 1。\n",
    "\n",
    "又如，(-9)>>3可以转换为如下的运算：\n",
    "\n",
    "\\>> 1111 1111 -- 1111 1111 -- 1111 1111 -- 1111 0111  （-9 在内存中的存储）\n",
    "\n",
    "\\-----------------------------------------------------------------------------------\n",
    "\n",
    "   1111 1111 -- 1111 1111 -- 1111 1111 -- 1111 1110  （-2 在内存中的存储）\n",
    "\n",
    "所以(-9)>>3的结果为 -2\n",
    "\n",
    "如果被丢弃的低位不包含 1，那么右移 n 位相当于除以 2 的 n 次方（但被移除的位中经常会包含 1）。\n",
    "\n",
    "使用 Python 代码对上面的分析进行验证："
   ]
  },
  {
   "cell_type": "code",
   "execution_count": 74,
   "id": "e4d69245",
   "metadata": {},
   "outputs": [
    {
     "name": "stdout",
     "output_type": "stream",
     "text": [
      "1\n",
      "-2\n"
     ]
    }
   ],
   "source": [
    "print(\"%X\" % (9>>3) )\n",
    "print(\"%X\" % ((-9)>>3) )"
   ]
  },
  {
   "cell_type": "markdown",
   "id": "8a6e5da4",
   "metadata": {},
   "source": [
    "## 17、比较运算符"
   ]
  },
  {
   "attachments": {
    "image.png": {
     "image/png": "[encoded data removed]"
    }
   },
   "cell_type": "markdown",
   "id": "0d6e9f7b",
   "metadata": {},
   "source": [
    "比较运算符，也称关系运算符，用于对常量、变量或表达式的结果进行大小比较。如果这种比较是成立的，则返回 True（真），反之则返回 False（假）。\n",
    "True 和 False 都是 bool 类型，它们专门用来表示一件事情的真假。\n",
    "\n",
    "Python 支持的比较运算符如表 1 所示。\n",
    "\n",
    "![image.png](attachment:image.png)\n",
    "\n",
    "Python 比较运算符的使用举例："
   ]
  },
  {
   "cell_type": "code",
   "execution_count": 75,
   "id": "b037ecfd",
   "metadata": {},
   "outputs": [
    {
     "name": "stdout",
     "output_type": "stream",
     "text": [
      "89是否大于100： False\n",
      "24*5是否大于等于76： True\n",
      "86.5是否等于86.5： True\n",
      "34是否等于34.0： True\n",
      "False是否小于True： True\n",
      "True是否等于True： False\n"
     ]
    }
   ],
   "source": [
    "print(\"89是否大于100：\", 89 > 100)\n",
    "print(\"24*5是否大于等于76：\", 24*5 >= 76)\n",
    "print(\"86.5是否等于86.5：\", 86.5 == 86.5)\n",
    "print(\"34是否等于34.0：\", 34 == 34.0)\n",
    "print(\"False是否小于True：\", False < True)\n",
    "print(\"True是否等于True：\", True < True)"
   ]
  },
  {
   "cell_type": "markdown",
   "id": "30a507d8",
   "metadata": {},
   "source": [
    "### == 和 is 的区别"
   ]
  },
  {
   "cell_type": "markdown",
   "id": "5311d017",
   "metadata": {},
   "source": [
    "很多人会误将它和 == 的功能混为一谈，但其实 is 与 == 有本质上的区别，完全不是一码事儿。\n",
    "\n",
    "== 用来比较两个变量的值是否相等，而 is 则用来比对两个变量引用的是否是同一个对象，例如："
   ]
  },
  {
   "cell_type": "code",
   "execution_count": 76,
   "id": "11b4d765",
   "metadata": {},
   "outputs": [
    {
     "name": "stdout",
     "output_type": "stream",
     "text": [
      "True\n",
      "False\n"
     ]
    }
   ],
   "source": [
    "import time  #引入time模块\n",
    "t1 = time.gmtime() # gmtime()用来获取当前时间\n",
    "t2 =  time.gmtime()\n",
    "print(t1 == t2) #输出True\n",
    "print(t1 is t2) #输出False"
   ]
  },
  {
   "cell_type": "markdown",
   "id": "a933e8d0",
   "metadata": {},
   "source": [
    "time 模块的 gmtime() 方法用来获取当前的系统时间，精确到秒级，因为程序运行非常快，所以 t1 和 t1 得到的时间是一样的。== 用来判断 t1 和 t2 的值是否相等，所以返回 True。\n",
    "\n",
    "虽然 t1 和 t2 的值相等，但它们是两个不同的对象（每次调用 gmtime() 都返回不同的对象），所以t1 is t2返回 False。这就好像两个双胞胎姐妹，虽然她们的外貌是一样的，但它们是两个人。\n",
    "\n",
    "那么，如何判断两个对象是否相同呢？答案是判断两个对象的内存地址。如果内存地址相同，说明两个对象使用的是同一块内存，当然就是同一个对象了；这就像两个名字使用了同一个身体，当然就是同一个人了。"
   ]
  },
  {
   "cell_type": "markdown",
   "id": "febc1776",
   "metadata": {},
   "source": [
    "## 18、逻辑运算符"
   ]
  },
  {
   "attachments": {
    "image.png": {
     "image/png": "[encoded data removed]"
    }
   },
   "cell_type": "markdown",
   "id": "af602a4a",
   "metadata": {},
   "source": [
    "以前我们就学过逻辑运算，例如 p 为真命题，q 为假命题，那么“p且q”为假，“p或q”为真，“非q”为真。Python 也有类似的逻辑运算，请看下表：\n",
    "\n",
    "![image.png](attachment:image.png)\n",
    "\n",
    "逻辑运算符一般和关系运算符结合使用，例如：\n",
    "14>6 and 45.6 > 90\n",
    "14>6 结果为 True，成立，45.6>90 结果为 False，不成立，所以整个表达式的结果为 False，也即不成立。\n",
    "\n",
    "再看一个比较实用的例子："
   ]
  },
  {
   "cell_type": "code",
   "execution_count": 77,
   "id": "3c1eaaa4",
   "metadata": {},
   "outputs": [
    {
     "name": "stdout",
     "output_type": "stream",
     "text": [
      "请输入年龄：24\n",
      "请输入身高：178\n",
      "恭喜，你符合报考飞行员的条件\n"
     ]
    }
   ],
   "source": [
    "age = int(input(\"请输入年龄：\"))\n",
    "height = int(input(\"请输入身高：\"))\n",
    "if age>=18 and age<=30 and height >=170 and height <= 185 :\n",
    "    print(\"恭喜，你符合报考飞行员的条件\")\n",
    "else:\n",
    "    print(\"抱歉，你不符合报考飞行员的条件\")"
   ]
  },
  {
   "cell_type": "markdown",
   "id": "2f75bb3f",
   "metadata": {},
   "source": [
    "注意：\n",
    "\n",
    "Python 逻辑运算符可以用来操作任何类型的表达式，不管表达式是不是 bool 类型；同时，逻辑运算的结果也不一定是 bool 类型，它也可以是任意类型。请看下面的例子："
   ]
  },
  {
   "cell_type": "code",
   "execution_count": 78,
   "id": "4f489bbc",
   "metadata": {},
   "outputs": [
    {
     "name": "stdout",
     "output_type": "stream",
     "text": [
      "200\n",
      "0\n",
      "Kiveiru\n",
      "18.5\n"
     ]
    }
   ],
   "source": [
    "print(100 and 200)\n",
    "print(45 and 0)\n",
    "print(\"\" or \"Kiveiru\")\n",
    "print(18.5 or \"Kiveiru\")"
   ]
  },
  {
   "cell_type": "markdown",
   "id": "4cf357c1",
   "metadata": {},
   "source": [
    "本例中 and 和 or 运算符操作的都不是 bool 类型表达式，操作的结果也不是 bool 值。"
   ]
  },
  {
   "cell_type": "markdown",
   "id": "e1ef4fc5",
   "metadata": {},
   "source": [
    "### 逻辑运算符的本质"
   ]
  },
  {
   "cell_type": "markdown",
   "id": "22c4cdb1",
   "metadata": {},
   "source": [
    "在 Python 中，and 和 or 不一定会计算右边表达式的值，有时候只计算左边表达式的值就能得到最终结果。\n",
    "\n",
    "另外，and 和 or 运算符会将其中一个表达式的值作为最终结果，而不是将 True 或者 False 作为最终结果。\n",
    "\n",
    "以上两点极其重要，了解这两点不会让你在使用逻辑运算的过程中产生疑惑。\n",
    "\n",
    "对于 and 运算符，两边的值都为真时最终结果才为真，但是只要其中有一个值为假，那么最终结果就是假，所以 Python 按照下面的规则执行 and 运算：\n",
    "\n",
    "• 如果左边表达式的值为假，那么就不用计算右边表达式的值了，因为不管右边表达式的值是什么，都不会影响最终结果，最终结果都是假，此时 and 会把左边表达式的值作为最终结果。\n",
    "\n",
    "• 如果左边表达式的值为真，那么最终值是不能确定的，and 会继续计算右边表达式的值，并将右边表达式的值作为最终结果。\n",
    "\n",
    "对于 or 运算符，情况是类似的，两边的值都为假时最终结果才为假，只要其中有一个值为真，那么最终结果就是真，所以 Python 按照下面的规则执行 or 运算：\n",
    "\n",
    "• 如果左边表达式的值为真，那么就不用计算右边表达式的值了，因为不管右边表达式的值是什么，都不会影响最终结果，最终结果都是真，此时 or 会把左边表达式的值作为最终结果。\n",
    "\n",
    "• 如果左边表达式的值为假，那么最终值是不能确定的，or 会继续计算右边表达式的值，并将右边表达式的值作为最终结果。\n",
    "使用代码验证上面的结论："
   ]
  },
  {
   "cell_type": "code",
   "execution_count": 79,
   "id": "a1781f88",
   "metadata": {},
   "outputs": [
    {
     "name": "stdout",
     "output_type": "stream",
     "text": [
      "----False and xxx-----\n",
      "False\n",
      "----True and xxx-----\n",
      "https://github.com/Kiveiru-c547/PythonTutorial\n",
      "None\n",
      "----False or xxx-----\n",
      "https://github.com/Kiveiru-c547/PythonTutorial\n",
      "None\n",
      "----True or xxx-----\n",
      "True\n"
     ]
    }
   ],
   "source": [
    "url = \"https://github.com/Kiveiru-c547/PythonTutorial\"\n",
    "print(\"----False and xxx-----\")\n",
    "print( False and print(url) )\n",
    "print(\"----True and xxx-----\")\n",
    "print( True and print(url) )\n",
    "print(\"----False or xxx-----\")\n",
    "print( False or print(url) )\n",
    "print(\"----True or xxx-----\")\n",
    "print( True or print(url) )"
   ]
  },
  {
   "cell_type": "markdown",
   "id": "39005ab5",
   "metadata": {},
   "source": [
    "第 3 行代码中，and 左边的值为假，不需要再执行右边的表达式了，所以 print(url) 没有任何输出。\n",
    "\n",
    "第 5 行代码中，and 左边的值为真，还需要执行右边的表达式才能得到最终的结果，所以 print(url) 输出了字符串。\n",
    "\n",
    "第 7、9 行代码也是类似的。"
   ]
  },
  {
   "cell_type": "markdown",
   "id": "6d8452ba",
   "metadata": {},
   "source": [
    "## 19、三目运算符"
   ]
  },
  {
   "cell_type": "markdown",
   "id": "2161ac62",
   "metadata": {},
   "source": [
    "假设现在有两个数字，我们希望获得其中较大的一个，那么可以使用 if else 语句，例如："
   ]
  },
  {
   "cell_type": "markdown",
   "id": "67e3f5c4",
   "metadata": {},
   "source": [
    "假设现在有两个数字，我们希望获得其中较大的一个，那么可以使用 if else 语句，例如：\n",
    "\n",
    "\t1. if a>b:\n",
    "\n",
    "\t2.     max = a\n",
    "\n",
    "\t3. else:\n",
    "\n",
    "\t4.     max = b\n",
    "\n",
    "但是 Python 提供了一种更加简洁的写法，如下所示：\n",
    "\n",
    "max = a if a>b else b\n",
    "\n",
    "这是一种类似于其它编程语言中三目运算符? :的写法。Python 是一种极简主义的编程语言，它没有引入? :这个新的运算符，而是使用已有的 if else 关键字来实现相同的功能。\n",
    "\n",
    "使用 if else 实现三目运算符（条件运算符）的格式如下：\n",
    "\n",
    "exp1 if contion else exp2\n",
    "\n",
    "condition 是判断条件，exp1 和 exp2 是两个表达式。如果 condition 成立（结果为真），就执行 exp1，并把 exp1 的结果作为整个表达式的结果；如果 condition 不成立（结果为假），就执行 exp2，并把 exp2 的结果作为整个表达式的结果。\n",
    "\n",
    "前面的语句max = a if a>b else b的含义是：\n",
    "\n",
    "• 如果 a>b 成立，就把 a 作为整个表达式的值，并赋给变量 max；\n",
    "\n",
    "• 如果 a> b 不成立，就把 b 作为整个表达式的值，并赋给变量 max。"
   ]
  },
  {
   "cell_type": "markdown",
   "id": "65f6193c",
   "metadata": {},
   "source": [
    "### 三目运算符的嵌套"
   ]
  },
  {
   "cell_type": "markdown",
   "id": "b2e6d18c",
   "metadata": {},
   "source": [
    "Python 三目运算符支持嵌套，如此可以构成更加复杂的表达式。在嵌套时需要注意 if 和 else 的配对，例如：\n",
    "\n",
    "a if a>b else c if c>d else d\n",
    "\n",
    "应该理解为：\n",
    "\n",
    "a if a>b else ( c if c>d else d )\n",
    "\n",
    "【实例】使用 Python 三目运算符判断两个数字的关系："
   ]
  },
  {
   "cell_type": "code",
   "execution_count": 80,
   "id": "2f6e8890",
   "metadata": {},
   "outputs": [
    {
     "name": "stdout",
     "output_type": "stream",
     "text": [
      "Input a: 4\n",
      "Input b: 5\n",
      "a小于b\n"
     ]
    }
   ],
   "source": [
    "a = int( input(\"Input a: \") )\n",
    "b = int( input(\"Input b: \") )\n",
    "print(\"a大于b\") if a>b else ( print(\"a小于b\") if a<b else print(\"a等于b\") )"
   ]
  },
  {
   "cell_type": "markdown",
   "id": "f9c4606a",
   "metadata": {},
   "source": [
    "该程序是一个嵌套的三目运算符。程序先对 a>b 求值，如果该表达式为 True，程序就返回执行第一个表达式 print(\"a大于b\")，否则将继续执行 else 后面的内容，也就是：\n",
    "\n",
    "( print(\"a小于b\") if a<b else print(\"a等于b\") )\n",
    "\n",
    "进入该表达式后，先判断 a<b 是否成立，如果 a<b 的结果为 True，将执行 print(\"a小于b\")，否则执行 print(\"a等于b\")。"
   ]
  },
  {
   "cell_type": "markdown",
   "id": "054446bd",
   "metadata": {},
   "source": [
    "## 20、运算符优先级和结合性"
   ]
  },
  {
   "cell_type": "markdown",
   "id": "cb7af703",
   "metadata": {},
   "source": [
    "优先级和结合性是 Python 表达式中比较重要的两个概念，它们决定了先执行表达式中的哪一部分。"
   ]
  },
  {
   "cell_type": "markdown",
   "id": "c6009273",
   "metadata": {},
   "source": [
    "### Python 运算符优先级"
   ]
  },
  {
   "attachments": {
    "image.png": {
     "image/png": "[encoded data removed]"
    }
   },
   "cell_type": "markdown",
   "id": "f623b476",
   "metadata": {},
   "source": [
    "所谓优先级，就是当多个运算符同时出现在一个表达式中时，先执行哪个运算符。\n",
    "\n",
    "例如对于表达式a + b * c，Python 会先计算乘法再计算加法；b * c的结果为 8，a + 8的结果为 24，所以 d 最终的值也是 24。先计算*再计算+，说明*的优先级高于+。\n",
    "\n",
    "Python 支持几十种运算符，被划分成将近二十个优先级，有的运算符优先级不同，有的运算符优先级相同，请看下表。\n",
    "\n",
    "![image.png](attachment:image.png)\n",
    "\n",
    "结果表1中的运算符优先级，我们尝试分析下面表达式的结果：\n",
    "\n",
    "4+4<<2\n",
    "\n",
    "+的优先级是 12，<<的优先级是 11，+的优先级高于<<，所以先执行 4+4，得到结果 8，再执行 8<<2，得到结果 32，这也是整个表达式的最终结果。\n",
    "\n",
    "像这种不好确定优先级的表达式，我们可以给子表达式加上( )，也就是写成下面的样子：\n",
    "\n",
    "(4+4) << 2\n",
    "\n",
    "这样看起来就一目了然了，不容易引起误解。\n",
    "\n",
    "当然，我们也可以使用( )改变程序的执行顺序，比如：\n",
    "\n",
    "4+(4<<2)\n",
    "\n",
    "则先执行 4<<2，得到结果 16，再执行 4+16，得到结果20。\n",
    "\n",
    "虽然 Python 运算符存在优先级的关系，但不推荐过度依赖运算符的优先级，这会导致程序的可读性降低。因此，这里建议：\n",
    "\n",
    "• 不要把一个表达式写得过于复杂，如果一个表达式过于复杂，可以尝试把它拆分来书写。\n",
    "\n",
    "• 不要过多地依赖运算符的优先级来控制表达式的执行顺序，这样可读性太差，应尽量使用( )来控制表达式的执行顺序。"
   ]
  },
  {
   "cell_type": "markdown",
   "id": "40dca36d",
   "metadata": {},
   "source": [
    "### Python 运算符结合性"
   ]
  },
  {
   "cell_type": "markdown",
   "id": "68bfac1c",
   "metadata": {},
   "source": [
    "所谓结合性，就是当一个表达式中出现多个优先级相同的运算符时，先执行哪个运算符：先执行左边的叫左结合性，先执行右边的叫右结合性。\n",
    "\n",
    "例如对于表达式对于100 / 25 * 16，/和*的优先级相同，应该先执行哪一个呢？这个时候就不能只依赖运算符优先级决定了，还要参考运算符的结合性。/和*都具有左结合性，因此先执行左边的除法，再执行右边的乘法，最终结果是 64。\n",
    "\n",
    "Python 中大部分运算符都具有左结合性，也就是从左到右执行；只有 ** 乘方运算符、单目运算符（例如 not 逻辑非运算符）、赋值运算符和三目运算符例外，它们具有右结合性，也就是从右向左执行。表 1 中列出了所有 Python 运算符的结合性。"
   ]
  },
  {
   "cell_type": "markdown",
   "id": "5afabab3",
   "metadata": {},
   "source": [
    "### 总结"
   ]
  },
  {
   "cell_type": "markdown",
   "id": "2b8425fd",
   "metadata": {},
   "source": [
    "当一个表达式中出现多个运算符时，Python 会先比较各个运算符的优先级，按照优先级从高到低的顺序依次执行；当遇到优先级相同的运算符时，再根据结合性决定先执行哪个运算符：如果是左结合性就先执行左边的运算符，如果是右结合性就先执行右边的运算符。"
   ]
  }
 ],
 "metadata": {
  "kernelspec": {
   "display_name": "Python 3 (ipykernel)",
   "language": "python",
   "name": "python3"
  },
  "language_info": {
   "codemirror_mode": {
    "name": "ipython",
    "version": 3
   },
   "file_extension": ".py",
   "mimetype": "text/x-python",
   "name": "python",
   "nbconvert_exporter": "python",
   "pygments_lexer": "ipython3",
   "version": "3.7.8"
  },
  "toc": {
   "base_numbering": 1,
   "nav_menu": {},
   "number_sections": false,
   "sideBar": true,
   "skip_h1_title": false,
   "title_cell": "Table of Contents",
   "title_sidebar": "Contents",
   "toc_cell": false,
   "toc_position": {},
   "toc_section_display": true,
   "toc_window_display": true
  }
 },
 "nbformat": 4,
 "nbformat_minor": 5
}
