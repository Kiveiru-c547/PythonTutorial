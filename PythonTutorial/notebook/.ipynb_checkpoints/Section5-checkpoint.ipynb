{
 "cells": [
  {
   "cell_type": "markdown",
   "id": "92f17bee",
   "metadata": {},
   "source": [
    "# 五、字符串"
   ]
  },
  {
   "cell_type": "markdown",
   "id": "b28b30c6",
   "metadata": {},
   "source": [
    "## 1、Python字符串拼接"
   ]
  },
  {
   "cell_type": "markdown",
   "id": "9bc5ee7d",
   "metadata": {},
   "source": [
    "### Python字符串和字符串的拼接"
   ]
  },
  {
   "cell_type": "markdown",
   "id": "6e3c88f9",
   "metadata": {},
   "source": [
    "在 Python 中拼接（连接）字符串很简单，可以直接将两个字符串紧挨着写在一起，具体格式为：\n",
    "\n",
    "strname = \"str1\" \"str2\"\n",
    "\n",
    "strname 表示拼接以后的字符串变量名，str1 和 str2 是要拼接的字符串内容。使用这种写法，Python 会自动将两个字符串拼接在一起。\n",
    "\n",
    "【示例】以连续书写的形式拼接字符串："
   ]
  },
  {
   "cell_type": "code",
   "execution_count": 1,
   "id": "010de051",
   "metadata": {},
   "outputs": [
    {
     "name": "stdout",
     "output_type": "stream",
     "text": [
      "Python教程https://github.com/Kiveiru-c547/PythonTutorial\n",
      "JavaPythonC++PHP\n"
     ]
    }
   ],
   "source": [
    "str1 = \"Python教程\" \"https://github.com/Kiveiru-c547/PythonTutorial\"\n",
    "print(str1)\n",
    "str2 = \"Java\" \"Python\" \"C++\" \"PHP\"\n",
    "print(str2)"
   ]
  },
  {
   "cell_type": "markdown",
   "id": "4f40154e",
   "metadata": {},
   "source": [
    "需要注意的是，这种写法只能拼接字符串常量。\n",
    "\n",
    "如果需要使用变量，就得借助+运算符来拼接，具体格式为：\n",
    "\n",
    "strname = str1 + str2\n",
    "\n",
    "当然，+运算符也能拼接字符串常量。\n",
    "\n",
    "【示例】使用+运算符拼接字符串："
   ]
  },
  {
   "cell_type": "code",
   "execution_count": 2,
   "id": "a5b78b11",
   "metadata": {},
   "outputs": [
    {
     "name": "stdout",
     "output_type": "stream",
     "text": [
      "C++教程的网址是：https://github.com/Kiveiru-c547/CPPTutorial\n"
     ]
    }
   ],
   "source": [
    "name = \"C++教程\"\n",
    "url = \"https://github.com/Kiveiru-c547/CPPTutorial\"\n",
    "info = name + \"的网址是：\" + url\n",
    "print(info)"
   ]
  },
  {
   "cell_type": "markdown",
   "id": "8c3b96f6",
   "metadata": {},
   "source": [
    "### Python字符串和数字的拼接"
   ]
  },
  {
   "cell_type": "markdown",
   "id": "b3b317c0",
   "metadata": {},
   "source": [
    "在很多应用场景中，我们需要将字符串和数字拼接在一起，而 Python 不允许直接拼接数字和字符串，所以我们必须先将数字转换成字符串。可以借助 str() 和 repr() 函数将数字转换为字符串，它们的使用格式为：\n",
    "\n",
    "str(obj)\n",
    "\n",
    "repr(obj)\n",
    "\n",
    "obj 表示要转换的对象，它可以是数字、列表、元组、字典等多种类型的数据。\n",
    "\n",
    "请看下面的代码："
   ]
  },
  {
   "cell_type": "code",
   "execution_count": 3,
   "id": "4a81c88d",
   "metadata": {},
   "outputs": [
    {
     "name": "stdout",
     "output_type": "stream",
     "text": [
      "Kiveiru-c547已经1岁了，共发布了3套教程。\n"
     ]
    }
   ],
   "source": [
    "name = \"Kiveiru-c547\"\n",
    "age = 1\n",
    "course = 3\n",
    "info = name + \"已经\" + str(age) + \"岁了，共发布了\" + repr(course) + \"套教程。\"\n",
    "print(info)"
   ]
  },
  {
   "cell_type": "markdown",
   "id": "3b25cd4f",
   "metadata": {},
   "source": [
    "#### str() 和 repr() 的区别"
   ]
  },
  {
   "cell_type": "markdown",
   "id": "a20a4c0c",
   "metadata": {},
   "source": [
    "str() 和 repr() 函数虽然都可以将数字转换成字符串，但它们之间是有区别的：\n",
    "\n",
    "str() 用于将数据转换成适合人类阅读的字符串形式。\n",
    "\n",
    "repr() 用于将数据转换成适合解释器阅读的字符串形式（Python 表达式的形式），适合在开发和调试阶段使用；如果没有等价的语法，则会发生 SyntaxError 异常。\n",
    "\n",
    "请看下面的例子："
   ]
  },
  {
   "cell_type": "code",
   "execution_count": 4,
   "id": "da84bf35",
   "metadata": {},
   "outputs": [
    {
     "name": "stdout",
     "output_type": "stream",
     "text": [
      "<class 'str'>\n",
      "https://github.com/Kiveiru-c547/PythonTutorial\n",
      "<class 'str'>\n",
      "'https://github.com/Kiveiru-c547/PythonTutorial'\n"
     ]
    }
   ],
   "source": [
    "s = \"https://github.com/Kiveiru-c547/PythonTutorial\"\n",
    "s_str = str(s)\n",
    "s_repr = repr(s)\n",
    "print(type(s_str))\n",
    "print (s_str)\n",
    "print(type(s_repr))\n",
    "print (s_repr)"
   ]
  },
  {
   "cell_type": "markdown",
   "id": "8ac0b52a",
   "metadata": {},
   "source": [
    "本例中，s 本身就是一个字符串，但是我们依然使用 str() 和 repr() 对它进行了转换。从运行结果可以看出，str() 保留了字符串最原始的样子，而 repr() 使用引号将字符串包围起来，这就是 Python 字符串的表达式形式。\n",
    "\n",
    "另外，在 Python 交互式编程环境中输入一个表达式（变量、加减乘除、逻辑运算等）时，Python 会自动使用 repr() 函数处理该表达式。"
   ]
  },
  {
   "cell_type": "markdown",
   "id": "069b6523",
   "metadata": {},
   "source": [
    "## 2、Python截取字符串"
   ]
  },
  {
   "cell_type": "markdown",
   "id": "20783caf",
   "metadata": {},
   "source": [
    "从本质上讲，字符串是由多个字符构成的，字符之间是有顺序的，这个顺序号就称为索引（index）。Python 允许通过索引来操作字符串中的单个或者多个字符，比如获取指定索引处的字符，返回指定字符的索引值等。"
   ]
  },
  {
   "cell_type": "markdown",
   "id": "30c89e58",
   "metadata": {},
   "source": [
    "### 获取单个字符"
   ]
  },
  {
   "cell_type": "markdown",
   "id": "79eb8bb3",
   "metadata": {},
   "source": [
    "知道字符串名字以后，在方括号[ ]中使用索引即可访问对应的字符，具体的语法格式为：\n",
    "\n",
    "strname[index]\n",
    "\n",
    "strname 表示字符串名字，index 表示索引值。\n",
    "\n",
    "Python 允许从字符串的两端使用索引：\n",
    "\n",
    "当以字符串的左端（字符串的开头）为起点时，索引是从 0 开始计数的；字符串的第一个字符的索引为 0，第二个字符的索引为 1，第三个字符串的索引为 2 ……\n",
    "\n",
    "当以字符串的右端（字符串的末尾）为起点时，索引是从 -1 开始计数的；字符串的倒数第一个字符的索引为 -1，倒数第二个字符的索引为 -2，倒数第三个字符的索引为 -3 ……\n",
    "\n",
    "请看下面的实例演示："
   ]
  },
  {
   "cell_type": "code",
   "execution_count": 5,
   "id": "6a92999f",
   "metadata": {},
   "outputs": [
    {
     "name": "stdout",
     "output_type": "stream",
     "text": [
      "t\n",
      "t\n"
     ]
    }
   ],
   "source": [
    "url = 'https://github.com/Kiveiru-c547/PythonTutorial'\n",
    "#获取索引为10的字符\n",
    "print(url[10])\n",
    "#获取索引为 6 的字符\n",
    "print(url[-6])"
   ]
  },
  {
   "cell_type": "markdown",
   "id": "8b7623f0",
   "metadata": {},
   "source": [
    "### 获取多个字符（字符串截取/字符串切片）"
   ]
  },
  {
   "cell_type": "markdown",
   "id": "7f3db874",
   "metadata": {},
   "source": [
    "使用[ ]除了可以获取单个字符外，还可以指定一个范围来获取多个字符，也就是一个子串或者片段，具体格式为：\n",
    "\n",
    "strname[start : end : step]\n",
    "\n",
    "对各个部分的说明：\n",
    "\n",
    "strname：要截取的字符串；\n",
    "\n",
    "start：表示要截取的第一个字符所在的索引（截取时包含该字符）。如果不指定，默认为 0，也就是从字符串的开头截取；\n",
    "\n",
    "end：表示要截取的最后一个字符所在的索引（截取时不包含该字符）。如果不指定，默认为字符串的长度；\n",
    "\n",
    "step：指的是从 start 索引处的字符开始，每 step 个距离获取一个字符，直至 end 索引出的字符。step 默认值为 1，当省略该值时，最后一个冒号也可以省略。\n",
    "\n",
    "【实例1】基本用法："
   ]
  },
  {
   "cell_type": "code",
   "execution_count": 6,
   "id": "7fdcb7b5",
   "metadata": {},
   "outputs": [
    {
     "name": "stdout",
     "output_type": "stream",
     "text": [
      "/github.com/Kiv\n",
      "/github.com/Kiveiru-c547/PythonTu\n",
      "u-c547/PythonTu\n",
      "p/hcK\n"
     ]
    }
   ],
   "source": [
    "url = 'https://github.com/Kiveiru-c547/PythonTutorial'\n",
    "#获取索引从3处22（不包含22）的子串\n",
    "print(url[7: 22]) # 输出 zy\n",
    "#获取索引从7处到-6的子串\n",
    "print(url[7: -6]) # 输出 zyit.org is very\n",
    "#获取索引从-7到6的子串\n",
    "print(url[-21: -6])\n",
    "#从索引3开始，每隔4个字符取出一个字符，直到索引22为止\n",
    "print(url[3: 22: 4])"
   ]
  },
  {
   "cell_type": "markdown",
   "id": "a74be29d",
   "metadata": {},
   "source": [
    "【实例2】高级用法，start、end、step 三个参数都可以省略："
   ]
  },
  {
   "cell_type": "code",
   "execution_count": 7,
   "id": "b1f01474",
   "metadata": {},
   "outputs": [
    {
     "name": "stdout",
     "output_type": "stream",
     "text": [
      "/github.com/Kiveiru-c547/PythonTutorial\n",
      "u-c547/PythonTutorial\n",
      "https://github.com/Kiv\n",
      "hp/iuc/vrc7yourl\n"
     ]
    }
   ],
   "source": [
    "url = 'https://github.com/Kiveiru-c547/PythonTutorial'\n",
    "#获取从索引5开始，直到末尾的子串\n",
    "print(url[7: ])\n",
    "#获取从索引-21开始，直到末尾的子串\n",
    "print(url[-21: ])\n",
    "#从开头截取字符串，直到索引22为止\n",
    "print(url[: 22])\n",
    "#每隔3个字符取出一个字符\n",
    "print(url[:: 3])"
   ]
  },
  {
   "cell_type": "markdown",
   "id": "376cf977",
   "metadata": {},
   "source": [
    "## 3、len()函数：获取字符串长度或字节数"
   ]
  },
  {
   "cell_type": "markdown",
   "id": "8a2baf25",
   "metadata": {},
   "source": [
    "Python 中，要想知道一个字符串有多少个字符（获得字符串长度），或者一个字符串占用多少个字节，可以使用 len 函数。\n",
    "\n",
    "len 函数的基本语法格式为：\n",
    "\n",
    "len（string）\n",
    "\n",
    "其中 string 用于指定要进行长度统计的字符串。\n",
    "\n",
    "例如，定义一个字符串，内容为“https://github.com/Kiveiru-c547/PythonTutorial ”，然后用 len() 函数计算该字符串的长度，执行代码如下："
   ]
  },
  {
   "cell_type": "code",
   "execution_count": 8,
   "id": "293f2b0f",
   "metadata": {},
   "outputs": [
    {
     "data": {
      "text/plain": [
       "46"
      ]
     },
     "execution_count": 8,
     "metadata": {},
     "output_type": "execute_result"
    }
   ],
   "source": [
    "a = 'https://github.com/Kiveiru-c547/PythonTutorial'\n",
    "len(a)"
   ]
  },
  {
   "attachments": {
    "image.png": {
     "image/png": "[encoded data removed]"
    }
   },
   "cell_type": "markdown",
   "id": "6eeeec88",
   "metadata": {},
   "source": [
    "在实际开发中，除了常常要获取字符串的长度外，有时还要获取字符串的字节数。\n",
    "\n",
    "在 Python 中，不同的字符所占的字节数不同，数字、英文字母、小数点、下划线以及空格，各占一个字节，而一个汉字可能占 2~4 个字节，具体占多少个，取决于采用的编码方式。例如，汉字在 GBK/GB2312 编码中占用 2 个字节，而在 UTF-8 编码中一般占用 3 个字节。\n",
    "\n",
    "以 UTF-8 编码为例，字符串“人生苦短，我用Python”所占用的字节数如图 1 所示。\n",
    "\n",
    "![image.png](attachment:image.png)\n",
    "图 1 汉字和英文所占字节数\n",
    "\n",
    "我们可以通过使用 encode() 方法，将字符串进行编码后再获取它的字节数。例如，采用 UTF-8 编码方式，计算“人生苦短，我用Python”的字节数，可以执行如下代码："
   ]
  },
  {
   "cell_type": "code",
   "execution_count": 9,
   "id": "66273fa8",
   "metadata": {},
   "outputs": [
    {
     "data": {
      "text/plain": [
       "27"
      ]
     },
     "execution_count": 9,
     "metadata": {},
     "output_type": "execute_result"
    }
   ],
   "source": [
    "str1 = \"人生苦短，我用Python\"\n",
    "len(str1.encode())"
   ]
  },
  {
   "cell_type": "markdown",
   "id": "c5a63701",
   "metadata": {},
   "source": [
    "因为汉字加中文标点符号共 7 个，占 21 个字节，而英文字母和英文的标点符号占 6 个字节，一共占用 27 个字节。\n",
    "\n",
    "同理，如果要获取采用 GBK 编码的字符串的长度，可以执行如下代码："
   ]
  },
  {
   "cell_type": "code",
   "execution_count": 10,
   "id": "596272a6",
   "metadata": {},
   "outputs": [
    {
     "data": {
      "text/plain": [
       "20"
      ]
     },
     "execution_count": 10,
     "metadata": {},
     "output_type": "execute_result"
    }
   ],
   "source": [
    "str1 = \"人生苦短，我用Python\"\n",
    "len(str1.encode('gbk'))"
   ]
  },
  {
   "cell_type": "markdown",
   "id": "bbb6a039",
   "metadata": {},
   "source": [
    "## 4、split()方法：分割字符串"
   ]
  },
  {
   "cell_type": "markdown",
   "id": "0c05cf8b",
   "metadata": {},
   "source": [
    "Python 中，除了可以使用一些内建函数获取字符串的相关信息外（例如 len() 函数获取字符串长度），字符串类型本身也拥有一些方法供我们使用。\n",
    "\n",
    "注意，这里所说的方法，指的是字符串类型 str 本身所提供的，由于涉及到类和对象的知识，初学者不必深究，只需要知道方法的具体用法即可。\n",
    "\n",
    "从本节开始，将介绍一些常用的字符串类型方法，本节先介绍分割字符串的 split() 方法。\n",
    "\n",
    "split() 方法可以实现将一个字符串按照指定的分隔符切分成多个子串，这些子串会被保存到列表中（不包含分隔符），作为方法的返回值反馈回来。该方法的基本语法格式如下：\n",
    "\n",
    "str.split(sep,maxsplit)\n",
    "\n",
    "此方法中各部分参数的含义分别是：\n",
    "\n",
    "str：表示要进行分割的字符串；\n",
    "\n",
    "sep：用于指定分隔符，可以包含多个字符。此参数默认为 None，表示所有空字符，包括空格、换行符“\\n”、制表符“\\t”等。\n",
    "\n",
    "maxsplit：可选参数，用于指定分割的次数，最后列表中子串的个数最多为 maxsplit+1。如果不指定或者指定为 -1，则表示分割次数没有限制。\n",
    "\n",
    "在 split 方法中，如果不指定 sep 参数，那么也不能指定 maxsplit 参数。\n",
    "\n",
    "同内建函数（如 len）的使用方式不同，字符串变量所拥有的方法，只能采用“字符串.方法名()”的方式调用。这里不用纠结为什么，学完类和对象之后，自然会明白。\n",
    "\n",
    "例如，定义一个保存网址的字符串，然后用 split() 方法根据不同的分隔符进行分隔，执行过程如下："
   ]
  },
  {
   "cell_type": "code",
   "execution_count": 11,
   "id": "82a12020",
   "metadata": {},
   "outputs": [
    {
     "name": "stdout",
     "output_type": "stream",
     "text": [
      "Python教程 >>> https://github.com/Kiveiru-c547/PythonTutorial\n",
      "['Python教程', '>>>', 'https://github.com/Kiveiru-c547/PythonTutorial']\n",
      "['Python教程 ', ' https://github.com/Kiveiru-c547/PythonTutorial']\n",
      "['Python教程 >>> https://github', 'com/Kiveiru-c547/PythonTutorial']\n",
      "['Python教程', '>>>', 'https://github.com/Kiveiru-c547/PythonTutorial']\n",
      "['Python教程 ', '', '', ' https://github.com/Kiveiru-c547/PythonTutorial']\n"
     ]
    }
   ],
   "source": [
    "str1 = \"Python教程 >>> https://github.com/Kiveiru-c547/PythonTutorial\"\n",
    "print(str1)\n",
    "list1 = str1.split() #采用默认分隔符进行分割\n",
    "print(list1)\n",
    "list2 = str1.split('>>>') #采用多个字符进行分割\n",
    "print(list2)\n",
    "list3 = str1.split('.') #采用 . 号进行分割\n",
    "print(list3)\n",
    "list4 = str1.split(' ',4) #采用空格进行分割，并规定最多只能分割成 4 个子串\n",
    "print(list4)\n",
    "list5 = str1.split('>') #采用 > 字符进行分割\n",
    "print(list5)"
   ]
  },
  {
   "cell_type": "markdown",
   "id": "98028e13",
   "metadata": {},
   "source": [
    "需要注意的是，在未指定 sep 参数时，split() 方法默认采用空字符进行分割，但当字符串中有连续的空格或其他空字符时，都会被视为一个分隔符对字符串进行分割，例如："
   ]
  },
  {
   "cell_type": "code",
   "execution_count": 12,
   "id": "ccd3ed3c",
   "metadata": {},
   "outputs": [
    {
     "name": "stdout",
     "output_type": "stream",
     "text": [
      "['Python教程', '>>>', 'https://github.com/Kiveiru-c547/PythonTutorial']\n"
     ]
    }
   ],
   "source": [
    "str1 = \"Python教程   >>>   https://github.com/Kiveiru-c547/PythonTutorial\"  #包含 3 个连续的空格\n",
    "list6 = str1.split()\n",
    "print(list6)"
   ]
  },
  {
   "cell_type": "markdown",
   "id": "e7661b6b",
   "metadata": {},
   "source": [
    "## 5、join()方法：合并字符串"
   ]
  },
  {
   "cell_type": "markdown",
   "id": "cb185c21",
   "metadata": {},
   "source": [
    "join() 方法也是非常重要的字符串方法，它是 split() 方法的逆方法，用来将列表（或元组）中包含的多个字符串连接成一个字符串。\n",
    "\n",
    "使用 join() 方法合并字符串时，它会将列表（或元组）中多个字符串采用固定的分隔符连接在一起。例如，字符串“https://github.com/Kiveiru-c547/PythonTutorial ”就可以看做是通过分隔符“/”将 ['https:', '', 'github.com', 'Kiveiru-c547', 'PythonTutorial'] 列表合并为一个字符串的结果。\n",
    "\n",
    "join() 方法的语法格式如下：\n",
    "\n",
    "newstr = str.join(iterable)\n",
    "\n",
    "此方法中各参数的含义如下：\n",
    "\n",
    "newstr：表示合并后生成的新字符串；\n",
    "\n",
    "str：用于指定合并时的分隔符；\n",
    "\n",
    "iterable：做合并操作的源字符串数据，允许以列表、元组等形式提供。\n",
    "\n",
    "【例 1】将列表中的字符串合并成一个字符串。"
   ]
  },
  {
   "cell_type": "code",
   "execution_count": 13,
   "id": "b953785c",
   "metadata": {},
   "outputs": [
    {
     "data": {
      "text/plain": [
       "'https://github.com/Kiveiru-c547/PythonTutorial'"
      ]
     },
     "execution_count": 13,
     "metadata": {},
     "output_type": "execute_result"
    }
   ],
   "source": [
    "list1 = ['https:', '', 'github.com', 'Kiveiru-c547', 'PythonTutorial']\n",
    "'/'.join(list1)"
   ]
  },
  {
   "cell_type": "markdown",
   "id": "6d220324",
   "metadata": {},
   "source": [
    "【例 2】将元组中的字符串合并成一个字符串。"
   ]
  },
  {
   "cell_type": "code",
   "execution_count": 14,
   "id": "62019986",
   "metadata": {},
   "outputs": [
    {
     "name": "stdout",
     "output_type": "stream",
     "text": [
      "<class 'tuple'>\n"
     ]
    },
    {
     "data": {
      "text/plain": [
       "'/usr/bin/env'"
      ]
     },
     "execution_count": 14,
     "metadata": {},
     "output_type": "execute_result"
    }
   ],
   "source": [
    "dir1 = '','usr','bin','env'\n",
    "print(type(dir1))\n",
    "'/'.join(dir1)"
   ]
  },
  {
   "cell_type": "markdown",
   "id": "50574110",
   "metadata": {},
   "source": [
    "## 6、count()方法：统计字符串出现的次数"
   ]
  },
  {
   "cell_type": "markdown",
   "id": "1fe6348a",
   "metadata": {},
   "source": [
    "count 方法用于检索指定字符串在另一字符串中出现的次数，如果检索的字符串不存在，则返回 0，否则返回出现的次数。\n",
    "\n",
    "count 方法的语法格式如下：\n",
    "\n",
    "str.count(sub,start,end)\n",
    "\n",
    "此方法中，各参数的具体含义如下：\n",
    "\n",
    "str：表示原字符串；\n",
    "\n",
    "sub：表示要检索的字符串；\n",
    "\n",
    "start：指定检索的起始位置，也就是从什么位置开始检测。如果不指定，默认从头开始检索；\n",
    "\n",
    "end：指定检索的终止位置，如果不指定，则表示一直检索到结尾。\n",
    "\n",
    "【例 1】检索字符串“https://github.com/Kiveiru-c547/PythonTutorial ”中“/”出现的次数。"
   ]
  },
  {
   "cell_type": "code",
   "execution_count": 15,
   "id": "0e4d98af",
   "metadata": {},
   "outputs": [
    {
     "name": "stdout",
     "output_type": "stream",
     "text": [
      "4\n"
     ]
    }
   ],
   "source": [
    "str1 = \"https://github.com/Kiveiru-c547/PythonTutorial\"\n",
    "print(str1.count('/'))"
   ]
  },
  {
   "cell_type": "markdown",
   "id": "a6f9ec33",
   "metadata": {},
   "source": [
    "【例 2】"
   ]
  },
  {
   "cell_type": "code",
   "execution_count": 16,
   "id": "76fe0ca1",
   "metadata": {},
   "outputs": [
    {
     "name": "stdout",
     "output_type": "stream",
     "text": [
      "4\n",
      "3\n"
     ]
    }
   ],
   "source": [
    "str1 = \"https://github.com/Kiveiru-c547/PythonTutorial\"\n",
    "print(str1.count('/',6))\n",
    "print(str1.count('/',7))"
   ]
  },
  {
   "cell_type": "markdown",
   "id": "360963dc",
   "metadata": {},
   "source": [
    "前面讲过，字符串中各字符对应的检索值，从 0 开始，因此，本例中检索值 6 对应的是第 7 个字符‘.’，从输出结果可以分析出，从指定索引位置开始检索，其中也包含此索引位置。\n",
    "\n",
    "【例 3】"
   ]
  },
  {
   "cell_type": "code",
   "execution_count": 17,
   "id": "a8866b3f",
   "metadata": {},
   "outputs": [
    {
     "name": "stdout",
     "output_type": "stream",
     "text": [
      "3\n",
      "2\n"
     ]
    }
   ],
   "source": [
    "str1 = \"https://github.com/Kiveiru-c547/PythonTutorial\"\n",
    "print(str1.count('/',7,-14))\n",
    "print(str1.count('/',7,-15))"
   ]
  },
  {
   "cell_type": "markdown",
   "id": "86260c6e",
   "metadata": {},
   "source": [
    "## 7、find()方法：检测字符串中是否包含某子串"
   ]
  },
  {
   "cell_type": "markdown",
   "id": "cf784482",
   "metadata": {},
   "source": [
    "ind() 方法用于检索字符串中是否包含目标字符串，如果包含，则返回第一次出现该字符串的索引；反之，则返回 -1。\n",
    "\n",
    "find() 方法的语法格式如下：\n",
    "\n",
    "str.find(sub,start,end)\n",
    "\n",
    "此格式中各参数的含义如下：\n",
    "\n",
    "str：表示原字符串；\n",
    "\n",
    "sub：表示要检索的目标字符串；\n",
    "\n",
    "start：表示开始检索的起始位置。如果不指定，则默认从头开始检索；\n",
    "\n",
    "end：表示结束检索的结束位置。如果不指定，则默认一直检索到结尾。\n",
    "\n",
    "【例 1】用 find() 方法检索 “https://github.com/Kiveiru-c547/PythonTutorial ” 中首次出现 “/” 的位置索引。"
   ]
  },
  {
   "cell_type": "code",
   "execution_count": 18,
   "id": "9c15fee3",
   "metadata": {},
   "outputs": [
    {
     "name": "stdout",
     "output_type": "stream",
     "text": [
      "6\n"
     ]
    }
   ],
   "source": [
    "str1 = \"https://github.com/Kiveiru-c547/PythonTutorial\"\n",
    "print(str1.find('/'))"
   ]
  },
  {
   "cell_type": "markdown",
   "id": "be045527",
   "metadata": {},
   "source": [
    "【例 2】手动指定起始索引的位置。"
   ]
  },
  {
   "cell_type": "code",
   "execution_count": 19,
   "id": "f6a2b8b7",
   "metadata": {},
   "outputs": [
    {
     "data": {
      "text/plain": [
       "18"
      ]
     },
     "execution_count": 19,
     "metadata": {},
     "output_type": "execute_result"
    }
   ],
   "source": [
    "str1 = \"https://github.com/Kiveiru-c547/PythonTutorial\"\n",
    "str1.find('/',8)"
   ]
  },
  {
   "cell_type": "markdown",
   "id": "50ce7756",
   "metadata": {},
   "source": [
    "【例 3】手动指定起始索引和结束索引的位置。"
   ]
  },
  {
   "cell_type": "code",
   "execution_count": 20,
   "id": "a5e0171f",
   "metadata": {},
   "outputs": [
    {
     "data": {
      "text/plain": [
       "-1"
      ]
     },
     "execution_count": 20,
     "metadata": {},
     "output_type": "execute_result"
    }
   ],
   "source": [
    "str1 = \"https://github.com/Kiveiru-c547/PythonTutorial\"\n",
    "str1.find('/',19,-15)"
   ]
  },
  {
   "cell_type": "markdown",
   "id": "5e6ec866",
   "metadata": {},
   "source": [
    "位于索引（19，-15）之间的字符串为“Kiveiru-c547”，由于其不包含“/”，因此 find() 方法的返回值为 -1。\n",
    "\n",
    "注意，Python 还提供了 rfind() 方法，与 find() 方法最大的不同在于，rfind() 是从字符串右边开始检索。例如："
   ]
  },
  {
   "cell_type": "code",
   "execution_count": 21,
   "id": "c63c0009",
   "metadata": {},
   "outputs": [
    {
     "data": {
      "text/plain": [
       "31"
      ]
     },
     "execution_count": 21,
     "metadata": {},
     "output_type": "execute_result"
    }
   ],
   "source": [
    "str1 = \"https://github.com/Kiveiru-c547/PythonTutorial\"\n",
    "str1.rfind('/')"
   ]
  },
  {
   "cell_type": "markdown",
   "id": "c213ae2b",
   "metadata": {},
   "source": [
    "## 8、index()方法：检测字符串中是否包含某子串"
   ]
  },
  {
   "cell_type": "markdown",
   "id": "e3949173",
   "metadata": {},
   "source": [
    "同 find() 方法类似，index() 方法也可以用于检索是否包含指定的字符串，不同之处在于，当指定的字符串不存在时，index() 方法会抛出异常。\n",
    "\n",
    "index() 方法的语法格式如下：\n",
    "\n",
    "str.index(sub,start,end)\n",
    "\n",
    "此格式中各参数的含义分别是：\n",
    "\n",
    "str：表示原字符串；\n",
    "\n",
    "sub：表示要检索的子字符串；\n",
    "\n",
    "start：表示检索开始的起始位置，如果不指定，默认从头开始检索；\n",
    "\n",
    "end：表示检索的结束位置，如果不指定，默认一直检索到结尾。\n",
    "\n",
    "【例 1】用 index() 方法检索“https://github.com/Kiveiru-c547/PythonTutorial ”中首次出现“/”的位置索引。"
   ]
  },
  {
   "cell_type": "code",
   "execution_count": 22,
   "id": "c9989c5d",
   "metadata": {},
   "outputs": [
    {
     "name": "stdout",
     "output_type": "stream",
     "text": [
      "6\n"
     ]
    }
   ],
   "source": [
    "str1 = \"https://github.com/Kiveiru-c547/PythonTutorial\"\n",
    "print(str1.index('/'))"
   ]
  },
  {
   "cell_type": "markdown",
   "id": "7e943f4e",
   "metadata": {},
   "source": [
    "【例 2】当检索失败时，index()会抛出异常。"
   ]
  },
  {
   "cell_type": "code",
   "execution_count": 23,
   "id": "a31c3b5b",
   "metadata": {},
   "outputs": [
    {
     "ename": "ValueError",
     "evalue": "substring not found",
     "output_type": "error",
     "traceback": [
      "\u001b[1;31m---------------------------------------------------------------------------\u001b[0m",
      "\u001b[1;31mValueError\u001b[0m                                Traceback (most recent call last)",
      "\u001b[1;32m~\\AppData\\Local\\Temp/ipykernel_3864/2260721143.py\u001b[0m in \u001b[0;36m<module>\u001b[1;34m\u001b[0m\n\u001b[0;32m      1\u001b[0m \u001b[0mstr1\u001b[0m \u001b[1;33m=\u001b[0m \u001b[1;34m\"https://github.com/Kiveiru-c547/PythonTutorial\"\u001b[0m\u001b[1;33m\u001b[0m\u001b[1;33m\u001b[0m\u001b[0m\n\u001b[1;32m----> 2\u001b[1;33m \u001b[0mstr1\u001b[0m\u001b[1;33m.\u001b[0m\u001b[0mindex\u001b[0m\u001b[1;33m(\u001b[0m\u001b[1;34m'z'\u001b[0m\u001b[1;33m)\u001b[0m\u001b[1;33m\u001b[0m\u001b[1;33m\u001b[0m\u001b[0m\n\u001b[0m",
      "\u001b[1;31mValueError\u001b[0m: substring not found"
     ]
    }
   ],
   "source": [
    "str1 = \"https://github.com/Kiveiru-c547/PythonTutorial\"\n",
    "str1.index('z')"
   ]
  },
  {
   "cell_type": "markdown",
   "id": "af4979f1",
   "metadata": {},
   "source": [
    "同 find() 和 rfind() 一样，字符串变量还具有 rindex() 方法，其作用和 index() 方法类似，不同之处在于它是从右边开始检索，例如："
   ]
  },
  {
   "cell_type": "code",
   "execution_count": 24,
   "id": "db98e3ba",
   "metadata": {},
   "outputs": [
    {
     "data": {
      "text/plain": [
       "31"
      ]
     },
     "execution_count": 24,
     "metadata": {},
     "output_type": "execute_result"
    }
   ],
   "source": [
    "str1 = \"https://github.com/Kiveiru-c547/PythonTutorial\"\n",
    "str1.rindex('/')"
   ]
  },
  {
   "cell_type": "markdown",
   "id": "3cad5a0d",
   "metadata": {},
   "source": [
    "## 9、Python字符串对齐方法ljust()、rjust()和center()"
   ]
  },
  {
   "cell_type": "markdown",
   "id": "d72594c2",
   "metadata": {},
   "source": [
    "Python str 提供了 3 种可用来进行文本对齐的方法，分别是 ljust()、rjust() 和 center() 方法，本节就来一一介绍它们的用法。"
   ]
  },
  {
   "cell_type": "markdown",
   "id": "f4cd200b",
   "metadata": {},
   "source": [
    "### Python ljust()方法"
   ]
  },
  {
   "cell_type": "markdown",
   "id": "1874ce92",
   "metadata": {},
   "source": [
    "ljust() 方法的功能是向指定字符串的右侧填充指定字符，从而达到左对齐文本的目的。\n",
    "\n",
    "ljust() 方法的基本格式如下：\n",
    "\n",
    "S.ljust(width, fillchar)\n",
    "\n",
    "其中各个参数的含义如下：\n",
    "\n",
    "S：表示要进行填充的字符串；\n",
    "\n",
    "width：表示包括 S 本身长度在内，字符串要占的总长度；\n",
    "\n",
    "fillchar：作为可选参数，用来指定填充字符串时所用的字符，默认情况使用空格。\n",
    "\n",
    "【例 1】"
   ]
  },
  {
   "cell_type": "code",
   "execution_count": 25,
   "id": "ebe39384",
   "metadata": {},
   "outputs": [
    {
     "name": "stdout",
     "output_type": "stream",
     "text": [
      "https://github.com/Kiveiru-c547/PythonTutorial                   \n",
      "https://github.com/Kiveiru-c547                                  \n"
     ]
    }
   ],
   "source": [
    "S = 'https://github.com/Kiveiru-c547/PythonTutorial'\n",
    "addr = 'https://github.com/Kiveiru-c547'\n",
    "print(S.ljust(65))\n",
    "print(addr.ljust(65))"
   ]
  },
  {
   "cell_type": "markdown",
   "id": "b5b88bfb",
   "metadata": {},
   "source": [
    "注意，该输出结果中除了明显可见的网址字符串外，其后还有空格字符存在，每行一共 65 个字符长度。\n",
    "\n",
    "【例 2】"
   ]
  },
  {
   "cell_type": "code",
   "execution_count": 26,
   "id": "75398040",
   "metadata": {},
   "outputs": [
    {
     "name": "stdout",
     "output_type": "stream",
     "text": [
      "https://github.com/Kiveiru-c547/PythonTutorial-------------------\n",
      "https://github.com/Kiveiru-c547----------------------------------\n"
     ]
    }
   ],
   "source": [
    "S = 'https://github.com/Kiveiru-c547/PythonTutorial'\n",
    "addr = 'https://github.com/Kiveiru-c547'\n",
    "print(S.ljust(65,'-'))\n",
    "print(addr.ljust(65,'-'))"
   ]
  },
  {
   "cell_type": "markdown",
   "id": "2018e28d",
   "metadata": {},
   "source": [
    "此程序和例 1 的唯一区别是，填充字符从空格改为‘-’。"
   ]
  },
  {
   "cell_type": "markdown",
   "id": "ce4d9dae",
   "metadata": {},
   "source": [
    "### Python rjust()方法"
   ]
  },
  {
   "cell_type": "markdown",
   "id": "ae57b542",
   "metadata": {},
   "source": [
    "rjust() 和 ljust() 方法类似，唯一的不同在于，rjust() 方法是向字符串的左侧填充指定字符，从而达到右对齐文本的目的。\n",
    "\n",
    "rjust() 方法的基本格式如下：\n",
    "\n",
    "S.rjust(width, fillchar)\n",
    "\n",
    "其中各个参数的含义和 ljust() 完全相同，所以这里不再重复描述。\n",
    "\n",
    "【例 3】"
   ]
  },
  {
   "cell_type": "code",
   "execution_count": 27,
   "id": "3cf22a70",
   "metadata": {},
   "outputs": [
    {
     "name": "stdout",
     "output_type": "stream",
     "text": [
      "                   https://github.com/Kiveiru-c547/PythonTutorial\n",
      "                                  https://github.com/Kiveiru-c547\n"
     ]
    }
   ],
   "source": [
    "S = 'https://github.com/Kiveiru-c547/PythonTutorial'\n",
    "addr = 'https://github.com/Kiveiru-c547'\n",
    "print(S.rjust(65))\n",
    "print(addr.rjust(65))"
   ]
  },
  {
   "cell_type": "markdown",
   "id": "9934478c",
   "metadata": {},
   "source": [
    "可以看到，每行字符串都占用 35 个字节的位置，实现了整体的右对齐效果。\n",
    "\n",
    "【例 4】"
   ]
  },
  {
   "cell_type": "code",
   "execution_count": 28,
   "id": "798de3bc",
   "metadata": {},
   "outputs": [
    {
     "name": "stdout",
     "output_type": "stream",
     "text": [
      "-------------------https://github.com/Kiveiru-c547/PythonTutorial\n",
      "----------------------------------https://github.com/Kiveiru-c547\n"
     ]
    }
   ],
   "source": [
    "S = 'https://github.com/Kiveiru-c547/PythonTutorial'\n",
    "addr = 'https://github.com/Kiveiru-c547'\n",
    "print(S.rjust(65, '-'))\n",
    "print(addr.rjust(65, '-'))"
   ]
  },
  {
   "cell_type": "markdown",
   "id": "9e99b002",
   "metadata": {},
   "source": [
    "### Python center()方法"
   ]
  },
  {
   "cell_type": "markdown",
   "id": "d3ad4884",
   "metadata": {},
   "source": [
    "center() 字符串方法与 ljust() 和 rjust() 的用法类似，但它让文本居中，而不是左对齐或右对齐。\n",
    "\n",
    "center() 方法的基本格式如下：\n",
    "\n",
    "S.center(width, fillchar)\n",
    "\n",
    "其中各个参数的含义和 ljust()、rjust() 方法相同。\n",
    "\n",
    "【例 5】"
   ]
  },
  {
   "cell_type": "code",
   "execution_count": 29,
   "id": "6c70a51c",
   "metadata": {},
   "outputs": [
    {
     "name": "stdout",
     "output_type": "stream",
     "text": [
      "          https://github.com/Kiveiru-c547/PythonTutorial         \n",
      "                 https://github.com/Kiveiru-c547                 \n"
     ]
    }
   ],
   "source": [
    "S = 'https://github.com/Kiveiru-c547/PythonTutorial'\n",
    "addr = 'https://github.com/Kiveiru-c547'\n",
    "print(S.center(65))\n",
    "print(addr.center(65))"
   ]
  },
  {
   "cell_type": "markdown",
   "id": "49b92a91",
   "metadata": {},
   "source": [
    "【例 6】"
   ]
  },
  {
   "cell_type": "code",
   "execution_count": 30,
   "id": "6645a098",
   "metadata": {},
   "outputs": [
    {
     "name": "stdout",
     "output_type": "stream",
     "text": [
      "----------https://github.com/Kiveiru-c547/PythonTutorial---------\n",
      "-----------------https://github.com/Kiveiru-c547-----------------\n"
     ]
    }
   ],
   "source": [
    "S = 'https://github.com/Kiveiru-c547/PythonTutorial'\n",
    "addr = 'https://github.com/Kiveiru-c547'\n",
    "print(S.center(65, '-'))\n",
    "print(addr.center(65, '-'))"
   ]
  },
  {
   "cell_type": "markdown",
   "id": "adff6c09",
   "metadata": {},
   "source": [
    "## 10、startswith()和endswith()方法"
   ]
  },
  {
   "cell_type": "markdown",
   "id": "1761033f",
   "metadata": {},
   "source": [
    "除了前面介绍的几个方法外，Python 字符串变量还可以使用 startswith() 和endswith() 方法。"
   ]
  },
  {
   "cell_type": "markdown",
   "id": "e172e32d",
   "metadata": {},
   "source": [
    "### startswith()方法"
   ]
  },
  {
   "cell_type": "markdown",
   "id": "09771e31",
   "metadata": {},
   "source": [
    "startswith() 方法用于检索字符串是否以指定字符串开头，如果是返回 True；反之返回 False。此方法的语法格式如下：\n",
    "\n",
    "str.startswith(sub,start,end)\n",
    "\n",
    "此格式中各个参数的具体含义如下：\n",
    "\n",
    "str：表示原字符串；\n",
    "\n",
    "sub：要检索的子串；\n",
    "\n",
    "start：指定检索开始的起始位置索引，如果不指定，则默认从头开始检索；\n",
    "\n",
    "end：指定检索的结束位置索引，如果不指定，则默认一直检索在结束。\n",
    "\n",
    "【例 1】判断“https://github.com/Kiveiru-c547/PythonTutorial ”是否以“https”子串开头。"
   ]
  },
  {
   "cell_type": "code",
   "execution_count": 31,
   "id": "d2b5cf61",
   "metadata": {},
   "outputs": [
    {
     "name": "stdout",
     "output_type": "stream",
     "text": [
      "True\n"
     ]
    }
   ],
   "source": [
    "str1 = \"https://github.com/Kiveiru-c547/PythonTutorial\"\n",
    "print(str1.startswith(\"https\"))"
   ]
  },
  {
   "cell_type": "markdown",
   "id": "9bcf6fab",
   "metadata": {},
   "source": [
    "【例 2】"
   ]
  },
  {
   "cell_type": "code",
   "execution_count": 32,
   "id": "fc61d9df",
   "metadata": {},
   "outputs": [
    {
     "name": "stdout",
     "output_type": "stream",
     "text": [
      "False\n"
     ]
    }
   ],
   "source": [
    "str1 = \"https://github.com/Kiveiru-c547/PythonTutorial\"\n",
    "print(str1.startswith(\"www\"))"
   ]
  },
  {
   "cell_type": "markdown",
   "id": "4c8b822a",
   "metadata": {},
   "source": [
    "【例 3】从指定位置开始检索。"
   ]
  },
  {
   "cell_type": "code",
   "execution_count": 33,
   "id": "79f39866",
   "metadata": {},
   "outputs": [
    {
     "name": "stdout",
     "output_type": "stream",
     "text": [
      "True\n"
     ]
    }
   ],
   "source": [
    "str1 = \"https://github.com/Kiveiru-c547/PythonTutorial\"\n",
    "print(str1.startswith(\"github\", 8))"
   ]
  },
  {
   "cell_type": "markdown",
   "id": "2ca73894",
   "metadata": {},
   "source": [
    "### endswith()方法"
   ]
  },
  {
   "cell_type": "markdown",
   "id": "22981eb5",
   "metadata": {},
   "source": [
    "endswith() 方法用于检索字符串是否以指定字符串结尾，如果是则返回 True；反之则返回 False。该方法的语法格式如下：\n",
    "\n",
    "str.endswith(sub,start,end)\n",
    "\n",
    "此格式中各参数的含义如下：\n",
    "\n",
    "str：表示原字符串；\n",
    "\n",
    "sub：表示要检索的字符串；\n",
    "\n",
    "start：指定检索开始时的起始位置索引（字符串第一个字符对应的索引值为 0），如果不指定，默认从头开始检索。\n",
    "\n",
    "end：指定检索的结束位置索引，如果不指定，默认一直检索到结束。\n",
    "\n",
    "【例 4】检索“c.biancheng.net”是否以“net”结束。"
   ]
  },
  {
   "cell_type": "code",
   "execution_count": 34,
   "id": "7a306106",
   "metadata": {},
   "outputs": [
    {
     "name": "stdout",
     "output_type": "stream",
     "text": [
      "True\n"
     ]
    }
   ],
   "source": [
    "str1 = \"https://github.com/Kiveiru-c547/PythonTutorial\"\n",
    "print(str1.endswith(\"Tutorial\"))"
   ]
  },
  {
   "cell_type": "markdown",
   "id": "2c5dbb67",
   "metadata": {},
   "source": [
    "## 11、Python字符串大小写转换"
   ]
  },
  {
   "cell_type": "markdown",
   "id": "5149848e",
   "metadata": {},
   "source": [
    "Python 中，为了方便对字符串中的字母进行大小写转换，字符串变量提供了 3 种方法，分别是 title()、lower() 和 upper()。"
   ]
  },
  {
   "cell_type": "markdown",
   "id": "6814dfa1",
   "metadata": {},
   "source": [
    "### title()方法"
   ]
  },
  {
   "cell_type": "markdown",
   "id": "85f1cce2",
   "metadata": {},
   "source": [
    "title() 方法用于将字符串中每个单词的首字母转为大写，其他字母全部转为小写，转换完成后，此方法会返回转换得到的字符串。如果字符串中没有需要被转换的字符，此方法会将字符串原封不动地返回。\n",
    "\n",
    "title() 方法的语法格式如下：\n",
    "\n",
    "str.title()\n",
    "\n",
    "其中，str 表示要进行转换的字符串。\n",
    "\n",
    "【例 1】"
   ]
  },
  {
   "cell_type": "code",
   "execution_count": 35,
   "id": "f3f3c66c",
   "metadata": {},
   "outputs": [
    {
     "name": "stdout",
     "output_type": "stream",
     "text": [
      "Https://Github.Com/Kiveiru-C547/Pythontutorial\n",
      "I Like C\n"
     ]
    }
   ],
   "source": [
    "str1 = \"https://github.com/Kiveiru-c547/PythonTutorial\"\n",
    "print(str1.title())\n",
    "str1 = \"I LIKE C\"\n",
    "print(str1.title())"
   ]
  },
  {
   "cell_type": "markdown",
   "id": "16c0669f",
   "metadata": {},
   "source": [
    "### lower()方法"
   ]
  },
  {
   "cell_type": "markdown",
   "id": "94c80eaf",
   "metadata": {},
   "source": [
    "lower() 方法用于将字符串中的所有大写字母转换为小写字母，转换完成后，该方法会返回新得到的字符串。如果字符串中原本就都是小写字母，则该方法会返回原字符串。\n",
    "\n",
    "lower() 方法的语法格式如下：\n",
    "\n",
    "str.lower()\n",
    "\n",
    "其中，str 表示要进行转换的字符串。\n",
    "\n",
    "【例 2】"
   ]
  },
  {
   "cell_type": "code",
   "execution_count": 36,
   "id": "c4d5a37b",
   "metadata": {},
   "outputs": [
    {
     "name": "stdout",
     "output_type": "stream",
     "text": [
      "i like c\n"
     ]
    }
   ],
   "source": [
    "str1 = \"I LIKE C\"\n",
    "print(str1.lower())"
   ]
  },
  {
   "cell_type": "markdown",
   "id": "6ce078d2",
   "metadata": {},
   "source": [
    "### upper()方法"
   ]
  },
  {
   "cell_type": "markdown",
   "id": "bae90b2e",
   "metadata": {},
   "source": [
    "upper() 的功能和 lower() 方法恰好相反，它用于将字符串中的所有小写字母转换为大写字母，和以上两种方法的返回方式相同，即如果转换成功，则返回新字符串；反之，则返回原字符串。\n",
    "\n",
    "upper() 方法的语法格式如下：\n",
    "\n",
    "str.upper()\n",
    "\n",
    "其中，str 表示要进行转换的字符串。\n",
    "\n",
    "【例 3】"
   ]
  },
  {
   "cell_type": "code",
   "execution_count": 37,
   "id": "534c2270",
   "metadata": {},
   "outputs": [
    {
     "name": "stdout",
     "output_type": "stream",
     "text": [
      "I LIKE C\n"
     ]
    }
   ],
   "source": [
    "str1 = \"i like C\"\n",
    "print(str1.upper())"
   ]
  },
  {
   "cell_type": "markdown",
   "id": "6b6032fc",
   "metadata": {},
   "source": [
    "## 12、Python去除字符串中空格"
   ]
  },
  {
   "cell_type": "markdown",
   "id": "ade2f8c7",
   "metadata": {},
   "source": [
    "用户输入数据时，很有可能会无意中输入多余的空格，或者在一些场景中，字符串前后不允许出现空格和特殊字符，此时就需要去除字符串中的空格和特殊字符。\n",
    "\n",
    "这里的特殊字符，指的是制表符（\\t）、回车符（\\r）、换行符（\\n）等。\n",
    "\n",
    "Python 中，字符串变量提供了 3 种方法来删除字符串中多余的空格和特殊字符，它们分别是：\n",
    "\n",
    "strip()：删除字符串前后（左右两侧）的空格或特殊字符。\n",
    "\n",
    "lstrip()：删除字符串前面（左边）的空格或特殊字符。\n",
    "\n",
    "rstrip()：删除字符串后面（右边）的空格或特殊字符。\n",
    "\n",
    "注意，Python 的 str 是不可变的（不可变的意思是指，字符串一旦形成，它所包含的字符序列就不能发生任何改变），因此这三个方法只是返回字符串前面或后面空白被删除之后的副本，并不会改变字符串本身。"
   ]
  },
  {
   "cell_type": "markdown",
   "id": "abdc08c2",
   "metadata": {},
   "source": [
    "### strip()方法"
   ]
  },
  {
   "cell_type": "markdown",
   "id": "89afef9b",
   "metadata": {},
   "source": [
    "strip() 方法用于删除字符串左右两个的空格和特殊字符，该方法的语法格式为：\n",
    "\n",
    "str.strip([chars])\n",
    "\n",
    "其中，str 表示原字符串，[chars] 用来指定要删除的字符，可以同时指定多个，如果不手动指定，则默认会删除空格以及制表符、回车符、换行符等特殊字符。\n",
    "\n",
    "【例 1】"
   ]
  },
  {
   "cell_type": "code",
   "execution_count": 38,
   "id": "cf66b73a",
   "metadata": {
    "scrolled": true
   },
   "outputs": [
    {
     "name": "stdout",
     "output_type": "stream",
     "text": [
      "https://github.com/Kiveiru-c547/PythonTutorial\n",
      "https://github.com/Kiveiru-c547/PythonTutorial \t\n",
      "\n",
      "  https://github.com/Kiveiru-c547/PythonTutorial \t\n",
      "\r\n"
     ]
    }
   ],
   "source": [
    "str1 = \"  https://github.com/Kiveiru-c547/PythonTutorial \\t\\n\\r\"\n",
    "print(str1.strip())\n",
    "print(str1.strip(\" ,\\r\"))\n",
    "print(str1)"
   ]
  },
  {
   "cell_type": "markdown",
   "id": "6cf95da1",
   "metadata": {},
   "source": [
    "分析运行结果不难看出，通过 strip() 确实能够删除字符串左右两侧的空格和特殊字符，但并没有真正改变字符串本身。"
   ]
  },
  {
   "cell_type": "markdown",
   "id": "b25967f1",
   "metadata": {},
   "source": [
    "### lstrip()方法"
   ]
  },
  {
   "cell_type": "markdown",
   "id": "d0e847c9",
   "metadata": {},
   "source": [
    "lstrip() 方法用于去掉字符串左侧的空格和特殊字符。该方法的语法格式如下：\n",
    "\n",
    "str.lstrip([chars])\n",
    "\n",
    "其中，str 和 chars 参数的含义，分别同 strip() 语法格式中的 str 和 chars 完全相同。\n",
    "\n",
    "【例 2】"
   ]
  },
  {
   "cell_type": "code",
   "execution_count": 39,
   "id": "319e3b1e",
   "metadata": {},
   "outputs": [
    {
     "name": "stdout",
     "output_type": "stream",
     "text": [
      "https://github.com/Kiveiru-c547/PythonTutorial \t\n",
      "\r\n"
     ]
    }
   ],
   "source": [
    "str1 = \"  https://github.com/Kiveiru-c547/PythonTutorial \\t\\n\\r\"\n",
    "print(str1.lstrip())"
   ]
  },
  {
   "cell_type": "markdown",
   "id": "121e4c40",
   "metadata": {},
   "source": [
    "### rstrip()方法"
   ]
  },
  {
   "cell_type": "markdown",
   "id": "1d5f0e67",
   "metadata": {},
   "source": [
    "rstrip() 方法用于删除字符串右侧的空格和特殊字符，其语法格式为：\n",
    "\n",
    "str.rstrip([chars])\n",
    "\n",
    "str 和 chars 参数的含义和前面 2 种方法语法格式中的参数完全相同。\n",
    "\n",
    "【例 3】"
   ]
  },
  {
   "cell_type": "code",
   "execution_count": 40,
   "id": "3d782373",
   "metadata": {},
   "outputs": [
    {
     "name": "stdout",
     "output_type": "stream",
     "text": [
      "  https://github.com/Kiveiru-c547/PythonTutorial\n"
     ]
    }
   ],
   "source": [
    "str1 = \"  https://github.com/Kiveiru-c547/PythonTutorial \\t\\n\\r\"\n",
    "print(str1.rstrip())"
   ]
  },
  {
   "cell_type": "markdown",
   "id": "24a52778",
   "metadata": {},
   "source": [
    "## 13、format()格式化输出方法详解"
   ]
  },
  {
   "attachments": {
    "image-2.png": {
     "image/png": "[encoded data removed]"
    },
    "image-3.png": {
     "image/png": "[encoded data removed]"
    },
    "image.png": {
     "image/png": "[encoded data removed]"
    }
   },
   "cell_type": "markdown",
   "id": "e6d673cc",
   "metadata": {},
   "source": [
    "前面章节介绍了如何使用 % 操作符对各种类型的数据进行格式化输出，这是早期 Python 提供的方法。自 Python 2.6 版本开始，字符串类型（str）提供了 format() 方法对字符串进行格式化，本节就来学习此方法。\n",
    "\n",
    "format() 方法的语法格式如下：\n",
    "\n",
    "str.format(args)\n",
    "\n",
    "此方法中，str 用于指定字符串的显示样式；args 用于指定要进行格式转换的项，如果有多项，之间有逗号进行分割。\n",
    "\n",
    "学习 format() 方法的难点，在于搞清楚 str 显示样式的书写格式。在创建显示样式模板时，需要使用{}和：来指定占位符，其完整的语法格式为：\n",
    "\n",
    "{ [index][ : [ [fill] align] [sign] [#] [width] [.precision] [type] ] }\n",
    "\n",
    "注意，格式中用 [] 括起来的参数都是可选参数，即可以使用，也可以不使用。各个参数的含义如下：\n",
    "\n",
    "index：指定：后边设置的格式要作用到 args 中第几个数据，数据的索引值从 0 开始。如果省略此选项，则会根据 args 中数据的先后顺序自动分配。\n",
    "\n",
    "fill：指定空白处填充的字符。注意，当填充字符为逗号(,)且作用于整数或浮点数时，该整数（或浮点数）会以逗号分隔的形式输出，例如（1000000会输出 1,000,000）。\n",
    "\n",
    "align：指定数据的对齐方式，具体的对齐方式如表 1 所示。\n",
    "\n",
    "![image.png](attachment:image.png)\n",
    "\n",
    "sign：指定有无符号数，此参数的值以及对应的含义如表 2 所示。\n",
    "\n",
    "![image-2.png](attachment:image-2.png)\n",
    "\n",
    "width：指定输出数据时所占的宽度。\n",
    "\n",
    ".precision：指定保留的小数位数。\n",
    "\n",
    "type：指定输出数据的具体类型，如表 3 所示。\n",
    "\n",
    "![image-3.png](attachment:image-3.png)\n",
    "\n",
    "【例 1】"
   ]
  },
  {
   "cell_type": "code",
   "execution_count": 41,
   "id": "03dceb91",
   "metadata": {},
   "outputs": [
    {
     "name": "stdout",
     "output_type": "stream",
     "text": [
      "网站名称： Python教程\t网址：https://github.com/Kiveiru-c547/PythonTutorial\n"
     ]
    }
   ],
   "source": [
    "str1=\"网站名称：{:>9s}\\t网址：{:s}\"\n",
    "print(str1.format(\"Python教程\",\"https://github.com/Kiveiru-c547/PythonTutorial\"))"
   ]
  },
  {
   "cell_type": "markdown",
   "id": "4573c520",
   "metadata": {},
   "source": [
    "【例 2】\n",
    "\n",
    "在实际开发中，数值类型有多种显示需求，比如货币形式、百分比形式等，使用 format() 方法可以将数值格式化为不同的形式。"
   ]
  },
  {
   "cell_type": "code",
   "execution_count": 42,
   "id": "019f390a",
   "metadata": {},
   "outputs": [
    {
     "name": "stdout",
     "output_type": "stream",
     "text": [
      "货币形式：1,000,000\n",
      "科学计数法：1.200120E+03\n",
      "100的十六进制：0x64\n",
      "0.01的百分比表示：1%\n"
     ]
    }
   ],
   "source": [
    "#以货币形式显示\n",
    "print(\"货币形式：{:,d}\".format(1000000))\n",
    "#科学计数法表示\n",
    "print(\"科学计数法：{:E}\".format(1200.12))\n",
    "#以十六进制表示\n",
    "print(\"100的十六进制：{:#x}\".format(100))\n",
    "#输出百分比形式\n",
    "print(\"0.01的百分比表示：{:.0%}\".format(0.01))"
   ]
  },
  {
   "cell_type": "markdown",
   "id": "1c1269aa",
   "metadata": {},
   "source": [
    "## 14、encode()和decode()方法：字符串编码转换"
   ]
  },
  {
   "cell_type": "markdown",
   "id": "f50e6f04",
   "metadata": {},
   "source": [
    "前面章节在介绍 bytes 类型时，已经对 encode() 和 decode() 方法的使用做了简单的介绍，本节将对这 2 个方法做详细地说明。\n",
    "\n",
    "我们知道，最早的字符串编码是 ASCII 编码，它仅仅对 10 个数字、26 个大小写英文字母以及一些特殊字符进行了编码。ASCII 码做多只能表示 256 个符号，每个字符只需要占用 1 个字节。\n",
    "\n",
    "随着信息技术的发展，各国的文字都需要进行编码，于是相继出现了 GBK、GB2312、UTF-8 编码等，其中 GBK 和 GB2312 是我国制定的中文编码标准，规定英文字符母占用 1 个字节，中文字符占用 2 个字节；而 UTF-8 是国际通过的编码格式，它包含了全世界所有国家需要用到的字符，其规定英文字符占用 1 个字节，中文字符占用 3 个字节。\n",
    "\n",
    "Python 3.x 默认采用 UTF-8 编码格式，有效地解决了中文乱码的问题。\n",
    "\n",
    "在 Python 中，有 2 种常用的字符串类型，分别为 str 和 bytes 类型，其中 str 用来表示 Unicode 字符，bytes 用来表示二进制数据。str 类型和 bytes 类型之间就需要使用 encode() 和 decode() 方法进行转换。"
   ]
  },
  {
   "cell_type": "markdown",
   "id": "9a50eed7",
   "metadata": {},
   "source": [
    "### encode()方法"
   ]
  },
  {
   "attachments": {
    "image.png": {
     "image/png": "[encoded data removed]"
    }
   },
   "cell_type": "markdown",
   "id": "e9d33d85",
   "metadata": {},
   "source": [
    "encode() 方法为字符串类型（str）提供的方法，用于将 str 类型转换成 bytes 类型，这个过程也称为“编码”。\n",
    "\n",
    "encode() 方法的语法格式如下：\n",
    "\n",
    "str.encode([encoding=\"utf-8\"], [errors=\"strict\"])\n",
    "\n",
    "注意，格式中用 [] 括起来的参数为可选参数，也就是说，在使用此方法时，可以使用 [] 中的参数，也可以不使用。\n",
    "\n",
    "该方法各个参数的含义如表 1 所示。\n",
    "\n",
    "![image.png](attachment:image.png)\n",
    "\n",
    "注意，使用 encode() 方法对原字符串进行编码，不会直接修改原字符串，如果想修改原字符串，需要重新赋值。\n",
    "\n",
    "【例 1】将 str 类型字符串“C语言中文网”转换成 bytes 类型。"
   ]
  },
  {
   "cell_type": "code",
   "execution_count": 43,
   "id": "bf6d2d7f",
   "metadata": {},
   "outputs": [
    {
     "name": "stdout",
     "output_type": "stream",
     "text": [
      "b'Python\\xe6\\x95\\x99\\xe7\\xa8\\x8b'\n"
     ]
    }
   ],
   "source": [
    "str1 = \"Python教程\"\n",
    "print(str1.encode())"
   ]
  },
  {
   "cell_type": "markdown",
   "id": "2cfa2edb",
   "metadata": {},
   "source": [
    "此方式默认采用 UTF-8 编码，也可以手动指定其它编码格式，例如："
   ]
  },
  {
   "cell_type": "code",
   "execution_count": 44,
   "id": "fdecb202",
   "metadata": {},
   "outputs": [
    {
     "name": "stdout",
     "output_type": "stream",
     "text": [
      "b'Python\\xbd\\xcc\\xb3\\xcc'\n"
     ]
    }
   ],
   "source": [
    "str1 = \"Python教程\"\n",
    "print(str1.encode('GBK'))"
   ]
  },
  {
   "cell_type": "markdown",
   "id": "d8f5ec64",
   "metadata": {},
   "source": [
    "### decode()方法"
   ]
  },
  {
   "attachments": {
    "image.png": {
     "image/png": "[encoded data removed]"
    }
   },
   "cell_type": "markdown",
   "id": "f0145555",
   "metadata": {},
   "source": [
    "和 encode() 方法正好相反，decode() 方法用于将 bytes 类型的二进制数据转换为 str 类型，这个过程也称为“解码”。\n",
    "\n",
    "decode() 方法的语法格式如下：\n",
    "\n",
    "bytes.decode([encoding=\"utf-8\"], [errors=\"strict\"])\n",
    "\n",
    "该方法中各参数的含义如表 2 所示。\n",
    "\n",
    "![image.png](attachment:image.png)\n",
    "\n",
    "【例 2】"
   ]
  },
  {
   "cell_type": "code",
   "execution_count": 45,
   "id": "a4361675",
   "metadata": {},
   "outputs": [
    {
     "data": {
      "text/plain": [
       "'Python教程'"
      ]
     },
     "execution_count": 45,
     "metadata": {},
     "output_type": "execute_result"
    }
   ],
   "source": [
    "str1 = \"Python教程\"\n",
    "bytes=str1.encode()\n",
    "bytes.decode()"
   ]
  },
  {
   "cell_type": "markdown",
   "id": "f51e79e1",
   "metadata": {},
   "source": [
    "注意，如果编码时采用的不是默认的 UTF-8 编码，则解码时要选择和编码时一样的格式，否则会抛出异常，例如："
   ]
  },
  {
   "cell_type": "code",
   "execution_count": 46,
   "id": "3fd10aa9",
   "metadata": {},
   "outputs": [
    {
     "ename": "UnicodeDecodeError",
     "evalue": "'utf-8' codec can't decode byte 0xbd in position 6: invalid start byte",
     "output_type": "error",
     "traceback": [
      "\u001b[1;31m---------------------------------------------------------------------------\u001b[0m",
      "\u001b[1;31mUnicodeDecodeError\u001b[0m                        Traceback (most recent call last)",
      "\u001b[1;32m~\\AppData\\Local\\Temp/ipykernel_3864/4098584482.py\u001b[0m in \u001b[0;36m<module>\u001b[1;34m\u001b[0m\n\u001b[0;32m      1\u001b[0m \u001b[0mstr1\u001b[0m \u001b[1;33m=\u001b[0m \u001b[1;34m\"Python教程\"\u001b[0m\u001b[1;33m\u001b[0m\u001b[1;33m\u001b[0m\u001b[0m\n\u001b[0;32m      2\u001b[0m \u001b[0mbytes\u001b[0m \u001b[1;33m=\u001b[0m \u001b[0mstr1\u001b[0m\u001b[1;33m.\u001b[0m\u001b[0mencode\u001b[0m\u001b[1;33m(\u001b[0m\u001b[1;34m\"GBK\"\u001b[0m\u001b[1;33m)\u001b[0m\u001b[1;33m\u001b[0m\u001b[1;33m\u001b[0m\u001b[0m\n\u001b[1;32m----> 3\u001b[1;33m \u001b[0mbytes\u001b[0m\u001b[1;33m.\u001b[0m\u001b[0mdecode\u001b[0m\u001b[1;33m(\u001b[0m\u001b[1;33m)\u001b[0m  \u001b[1;31m#默认使用 UTF-8 编码，会抛出以下异常\u001b[0m\u001b[1;33m\u001b[0m\u001b[1;33m\u001b[0m\u001b[0m\n\u001b[0m",
      "\u001b[1;31mUnicodeDecodeError\u001b[0m: 'utf-8' codec can't decode byte 0xbd in position 6: invalid start byte"
     ]
    }
   ],
   "source": [
    "str1 = \"Python教程\"\n",
    "bytes = str1.encode(\"GBK\")\n",
    "bytes.decode()  #默认使用 UTF-8 编码，会抛出以下异常"
   ]
  },
  {
   "cell_type": "code",
   "execution_count": 47,
   "id": "44a91a2a",
   "metadata": {},
   "outputs": [
    {
     "data": {
      "text/plain": [
       "'Python教程'"
      ]
     },
     "execution_count": 47,
     "metadata": {},
     "output_type": "execute_result"
    }
   ],
   "source": [
    "bytes.decode(\"GBK\")"
   ]
  },
  {
   "cell_type": "markdown",
   "id": "6b6f158f",
   "metadata": {},
   "source": [
    "## 15、dir()和help()帮助函数"
   ]
  },
  {
   "cell_type": "markdown",
   "id": "fe2e9b9b",
   "metadata": {},
   "source": [
    "前面已经学习了很多字符串提供的方法，包括 split()、join()、find()、index() 等，但这远远不是它的全部方法。由于篇幅有限，本章只能列举一些最常用的方法，至于其他的方法，可通过本节介绍的 dir()和 help()函数自行查看。\n",
    "\n",
    "Python dir()函数用来列出某个类或者某个模块中的全部内容，包括变量、方法、函数和类等，它的用法为：\n",
    "\n",
    "dir(obj)\n",
    "\n",
    "obj 表示要查看的对象。obj 可以不写，此时 dir() 会列出当前范围内的变量、方法和定义的类型。\n",
    "\n",
    "Python help() 函数用来查看某个函数或者模块的帮助文档，它的用法为：\n",
    "\n",
    "help(obj)\n",
    "\n",
    "obj 表示要查看的对象。obj 可以不写，此时 help() 会进入帮助子程序。\n",
    "\n",
    "掌握了以上两个函数，我们就可以自行查阅 Python 中所有方法、函数、变量、类的用法和功能了。\n",
    "\n",
    "【实例】使用 dir() 查看字符串类型（str）支持的所有方法："
   ]
  },
  {
   "cell_type": "code",
   "execution_count": 48,
   "id": "38539ea1",
   "metadata": {},
   "outputs": [
    {
     "data": {
      "text/plain": [
       "['__add__',\n",
       " '__class__',\n",
       " '__contains__',\n",
       " '__delattr__',\n",
       " '__dir__',\n",
       " '__doc__',\n",
       " '__eq__',\n",
       " '__format__',\n",
       " '__ge__',\n",
       " '__getattribute__',\n",
       " '__getitem__',\n",
       " '__getnewargs__',\n",
       " '__gt__',\n",
       " '__hash__',\n",
       " '__init__',\n",
       " '__init_subclass__',\n",
       " '__iter__',\n",
       " '__le__',\n",
       " '__len__',\n",
       " '__lt__',\n",
       " '__mod__',\n",
       " '__mul__',\n",
       " '__ne__',\n",
       " '__new__',\n",
       " '__reduce__',\n",
       " '__reduce_ex__',\n",
       " '__repr__',\n",
       " '__rmod__',\n",
       " '__rmul__',\n",
       " '__setattr__',\n",
       " '__sizeof__',\n",
       " '__str__',\n",
       " '__subclasshook__',\n",
       " 'capitalize',\n",
       " 'casefold',\n",
       " 'center',\n",
       " 'count',\n",
       " 'encode',\n",
       " 'endswith',\n",
       " 'expandtabs',\n",
       " 'find',\n",
       " 'format',\n",
       " 'format_map',\n",
       " 'index',\n",
       " 'isalnum',\n",
       " 'isalpha',\n",
       " 'isascii',\n",
       " 'isdecimal',\n",
       " 'isdigit',\n",
       " 'isidentifier',\n",
       " 'islower',\n",
       " 'isnumeric',\n",
       " 'isprintable',\n",
       " 'isspace',\n",
       " 'istitle',\n",
       " 'isupper',\n",
       " 'join',\n",
       " 'ljust',\n",
       " 'lower',\n",
       " 'lstrip',\n",
       " 'maketrans',\n",
       " 'partition',\n",
       " 'replace',\n",
       " 'rfind',\n",
       " 'rindex',\n",
       " 'rjust',\n",
       " 'rpartition',\n",
       " 'rsplit',\n",
       " 'rstrip',\n",
       " 'split',\n",
       " 'splitlines',\n",
       " 'startswith',\n",
       " 'strip',\n",
       " 'swapcase',\n",
       " 'title',\n",
       " 'translate',\n",
       " 'upper',\n",
       " 'zfill']"
      ]
     },
     "execution_count": 48,
     "metadata": {},
     "output_type": "execute_result"
    }
   ],
   "source": [
    "dir(str)"
   ]
  },
  {
   "cell_type": "markdown",
   "id": "fc10c555",
   "metadata": {},
   "source": [
    "在 Python 标准库中，以__开头和结尾的方法都是私有的，不能在类的外部调用。\n",
    "\n",
    "【实例】使用 help() 查看 str 类型中 lower() 函数的用法："
   ]
  },
  {
   "cell_type": "code",
   "execution_count": 49,
   "id": "aba8f31c",
   "metadata": {},
   "outputs": [
    {
     "name": "stdout",
     "output_type": "stream",
     "text": [
      "Help on method_descriptor:\n",
      "\n",
      "lower(self, /)\n",
      "    Return a copy of the string converted to lowercase.\n",
      "\n"
     ]
    }
   ],
   "source": [
    "help(str.lower)"
   ]
  },
  {
   "cell_type": "markdown",
   "id": "f5a9a8fc",
   "metadata": {},
   "source": [
    "可以看到，lower() 函数用来将字符串中的字母转换为小写形式，并返回一个新的字符串。\n",
    "\n",
    "注意，使用 help() 查看某个函数的用法时，函数名后边不能带括号，例如将上面的命令写作help(str.lower())就是错误的。"
   ]
  }
 ],
 "metadata": {
  "kernelspec": {
   "display_name": "Python 3 (ipykernel)",
   "language": "python",
   "name": "python3"
  },
  "language_info": {
   "codemirror_mode": {
    "name": "ipython",
    "version": 3
   },
   "file_extension": ".py",
   "mimetype": "text/x-python",
   "name": "python",
   "nbconvert_exporter": "python",
   "pygments_lexer": "ipython3",
   "version": "3.7.8"
  },
  "toc": {
   "base_numbering": 1,
   "nav_menu": {},
   "number_sections": false,
   "sideBar": true,
   "skip_h1_title": false,
   "title_cell": "Table of Contents",
   "title_sidebar": "Contents",
   "toc_cell": false,
   "toc_position": {
    "height": "calc(100% - 180px)",
    "left": "10px",
    "top": "150px",
    "width": "152.475px"
   },
   "toc_section_display": true,
   "toc_window_display": true
  }
 },
 "nbformat": 4,
 "nbformat_minor": 5
}
